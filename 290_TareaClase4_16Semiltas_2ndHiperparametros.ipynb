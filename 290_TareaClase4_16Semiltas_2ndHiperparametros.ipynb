{
  "nbformat": 4,
  "nbformat_minor": 0,
  "metadata": {
    "colab": {
      "provenance": [],
      "include_colab_link": true
    },
    "kernelspec": {
      "name": "ir",
      "display_name": "R"
    },
    "language_info": {
      "name": "R"
    }
  },
  "cells": [
    {
      "cell_type": "markdown",
      "metadata": {
        "id": "view-in-github",
        "colab_type": "text"
      },
      "source": [
        "<a href=\"https://colab.research.google.com/github/Maxivergara98/labo2025v/blob/main/290_TareaClase4_16Semiltas_2ndHiperparametros.ipynb\" target=\"_parent\"><img src=\"https://colab.research.google.com/assets/colab-badge.svg\" alt=\"Open In Colab\"/></a>"
      ]
    },
    {
      "cell_type": "markdown",
      "source": [
        "# Tarea para el Hogar 02"
      ],
      "metadata": {
        "id": "F3r8aa3pBigj"
      }
    },
    {
      "cell_type": "markdown",
      "source": [
        "Esta Tarea para el Hogar 02 se entrega el final de la segunda clase\n",
        "<br> se espera de usted que intente avanzar con los desafios propuestos y que los traiga terminados para la Clase 03, ya que se analizarán los resultados"
      ],
      "metadata": {
        "id": "nBm4ktHUBmZt"
      }
    },
    {
      "cell_type": "markdown",
      "source": [
        "##  1. Ensembles de Modelos"
      ],
      "metadata": {
        "id": "TK-M04ElCESC"
      }
    },
    {
      "cell_type": "markdown",
      "source": [
        "Vea el siguiente video [BBC - The Code - The Wisdom of the Crowd](https://www.youtube.com/watch?v=iOucwX7Z1HU)    ( 5 min)\n"
      ],
      "metadata": {
        "id": "biPYxgobCOSS"
      }
    },
    {
      "cell_type": "markdown",
      "source": [
        "Lea los siguientes artículos\n",
        "\n",
        "\n",
        "*   [The Wisdom of Crowds (Vox Populi) by Francis Galton](https://www.all-about-psychology.com/the-wisdom-of-crowds.html)  (10 min)\n",
        "*   [A Gentle Introduction to Ensemble Learning](https://machinelearningmastery.com/what-is-ensemble-learning/)  (10 min)\n",
        "\n"
      ],
      "metadata": {
        "id": "FBszBRyNCcjp"
      }
    },
    {
      "cell_type": "markdown",
      "source": [
        "\n",
        "\n",
        "---\n",
        "\n"
      ],
      "metadata": {
        "id": "x7SebtV2lpHQ"
      }
    },
    {
      "cell_type": "markdown",
      "source": [
        "##  2.  Zero2Hero   primera parte\n",
        "Se han lanzado los primeros fascículos coleccionables llamados \"from Zero to Hero\" que muy detalladamente, paso a paso enseñan todo lo necesario de R para entender los scripts oficiales de la asignatura.\n",
        "Están en el repositorio oficial de la asignatura, carpeta  **src/zero2hero**"
      ],
      "metadata": {
        "id": "NQcY8u2MDSLT"
      }
    },
    {
      "cell_type": "markdown",
      "source": [
        "\n",
        "\n",
        "---\n",
        "\n"
      ],
      "metadata": {
        "id": "GcO0OSiIEAGy"
      }
    },
    {
      "cell_type": "markdown",
      "source": [
        "## 3.  Grid Search"
      ],
      "metadata": {
        "id": "6MStcyn0EBdT"
      }
    },
    {
      "cell_type": "markdown",
      "source": [
        "Busque en internet el precido significado de los hiperparámetros de la librería **rpart**  que está implementando el algoritmo **CART**  Classification and Regression Trees  propuesto en el año 1984 por Leo Brieman:\n",
        "\n",
        "*   cp\n",
        "*   maxdepth\n",
        "*   minsplit\n",
        "*   minbucket\n",
        "\n",
        "Entienda que valores es razonable tome cada hiperparámetro,  en particular profundice en el hiperparámetro  **cp**  y la posibilidad que tome valores negativos.  Es válido consultar a su amigo de *capacidades especiales*  ChatGPT\n"
      ],
      "metadata": {
        "id": "gM8RKXDgEIY0"
      }
    },
    {
      "cell_type": "markdown",
      "source": [
        "En las siguientes celdas a un notebook incompleto, un esqueleto de codigo brindado a modo de facilitarle la tarea de codeo y permitir que su valiosa cognición se concentre temas conceptuales de Ciencia de Datos\n",
        "\n",
        "Modifiquelo agregando loops para que recorra TODOS los hiperparámetros de rpart  < cp, maxdepth, minsplit, minbucket >, y luego póngalo a correr. Recuerde cambiar por SU semilla\n",
        "Tenga muy presente la granularidad que eligirá para cada hiperparámetro."
      ],
      "metadata": {
        "id": "_k7eT3HIFy9y"
      }
    },
    {
      "cell_type": "markdown",
      "source": [
        "### Seteo del ambiente en Google Colab"
      ],
      "metadata": {
        "id": "kmLygy1TYPfg"
      }
    },
    {
      "cell_type": "markdown",
      "source": [
        "Esta parte se debe correr con el runtime en Python3\n",
        "<br>Ir al menu, Runtime -> Change Runtime Tipe -> Runtime type ->  **Python 3**"
      ],
      "metadata": {
        "id": "OikOm5K2YU3X"
      }
    },
    {
      "cell_type": "markdown",
      "source": [
        "Conectar la virtual machine donde esta corriendo Google Colab con el  Google Drive, para poder tener persistencia de archivos"
      ],
      "metadata": {
        "id": "4fmV5LyZdFyI"
      }
    },
    {
      "cell_type": "code",
      "source": [
        "# primero establecer el Runtime de Python 3\n",
        "from google.colab import drive\n",
        "drive.mount('/content/.drive')"
      ],
      "metadata": {
        "id": "ilEZ-bE2VybW",
        "outputId": "c8fc238f-d9a3-4c52-b18a-732781b22f3f",
        "colab": {
          "base_uri": "https://localhost:8080/"
        }
      },
      "execution_count": 1,
      "outputs": [
        {
          "output_type": "stream",
          "name": "stdout",
          "text": [
            "Mounted at /content/.drive\n"
          ]
        }
      ]
    },
    {
      "cell_type": "markdown",
      "source": [
        "Para correr la siguiente celda es fundamental en Arranque en Frio haber copiado el archivo kaggle.json al Google Drive, en la carpeta indicada en el instructivo\n",
        "\n",
        "<br>los siguientes comando estan en shell script de Linux\n",
        "*   Crear las carpetas en el Google Drive\n",
        "*   \"instalar\" el archivo kaggle.json desde el Google Drive a la virtual machine para que pueda ser utilizado por la libreria  kaggle de Python\n",
        "*   Bajar el  **dataset_pequeno**  al  Google Drive  y tambien al disco local de la virtual machine que esta corriendo Google Colab\n",
        "\n"
      ],
      "metadata": {
        "id": "ilaKtqWldeWg"
      }
    },
    {
      "cell_type": "code",
      "source": [
        "%%shell\n",
        "\n",
        "mkdir -p \"/content/.drive/My Drive/labo1\"\n",
        "mkdir -p \"/content/buckets\"\n",
        "ln -s \"/content/.drive/My Drive/labo1\" /content/buckets/b1\n",
        "\n",
        "mkdir -p ~/.kaggle\n",
        "cp /content/buckets/b1/kaggle/kaggle.json  ~/.kaggle\n",
        "chmod 600 ~/.kaggle/kaggle.json\n",
        "\n",
        "\n",
        "mkdir -p /content/buckets/b1/exp\n",
        "mkdir -p /content/buckets/b1/datasets\n",
        "mkdir -p /content/datasets\n",
        "\n",
        "\n",
        "\n",
        "archivo_origen=\"https://storage.googleapis.com/open-courses/austral2025-af91/dataset_pequeno.csv\"\n",
        "archivo_destino=\"/content/datasets/dataset_pequeno.csv\"\n",
        "archivo_destino_bucket=\"/content/buckets/b1/datasets/dataset_pequeno.csv\"\n",
        "\n",
        "if ! test -f $archivo_destino_bucket; then\n",
        "  wget  $archivo_origen  -O $archivo_destino_bucket\n",
        "fi\n",
        "\n",
        "\n",
        "if ! test -f $archivo_destino; then\n",
        "  cp  $archivo_destino_bucket  $archivo_destino\n",
        "fi\n",
        "\n"
      ],
      "metadata": {
        "id": "W8dQFI5QYCFa",
        "outputId": "5f387a15-1b01-4363-8581-eb8267a6d1a1",
        "colab": {
          "base_uri": "https://localhost:8080/"
        }
      },
      "execution_count": 2,
      "outputs": [
        {
          "output_type": "execute_result",
          "data": {
            "text/plain": []
          },
          "metadata": {},
          "execution_count": 2
        }
      ]
    },
    {
      "cell_type": "markdown",
      "source": [
        "limpio el ambiente de R"
      ],
      "metadata": {
        "id": "SE94XRhWsxkX"
      }
    },
    {
      "cell_type": "code",
      "source": [
        "# limpio la memoria\n",
        "rm(list=ls(all.names=TRUE)) # remove all objects\n",
        "gc(full=TRUE, verbose=FALSE) # garbage collection"
      ],
      "metadata": {
        "id": "oZG_4br6szlT",
        "outputId": "b63db619-a0eb-4fd4-d8a0-4e6053770899",
        "colab": {
          "base_uri": "https://localhost:8080/",
          "height": 129
        }
      },
      "execution_count": 1,
      "outputs": [
        {
          "output_type": "display_data",
          "data": {
            "text/html": [
              "<table class=\"dataframe\">\n",
              "<caption>A matrix: 2 × 6 of type dbl</caption>\n",
              "<thead>\n",
              "\t<tr><th></th><th scope=col>used</th><th scope=col>(Mb)</th><th scope=col>gc trigger</th><th scope=col>(Mb)</th><th scope=col>max used</th><th scope=col>(Mb)</th></tr>\n",
              "</thead>\n",
              "<tbody>\n",
              "\t<tr><th scope=row>Ncells</th><td> 657244</td><td>35.2</td><td>1454462</td><td>77.7</td><td>1326119</td><td>70.9</td></tr>\n",
              "\t<tr><th scope=row>Vcells</th><td>1220271</td><td> 9.4</td><td>8388608</td><td>64.0</td><td>1975128</td><td>15.1</td></tr>\n",
              "</tbody>\n",
              "</table>\n"
            ],
            "text/markdown": "\nA matrix: 2 × 6 of type dbl\n\n| <!--/--> | used | (Mb) | gc trigger | (Mb) | max used | (Mb) |\n|---|---|---|---|---|---|---|\n| Ncells |  657244 | 35.2 | 1454462 | 77.7 | 1326119 | 70.9 |\n| Vcells | 1220271 |  9.4 | 8388608 | 64.0 | 1975128 | 15.1 |\n\n",
            "text/latex": "A matrix: 2 × 6 of type dbl\n\\begin{tabular}{r|llllll}\n  & used & (Mb) & gc trigger & (Mb) & max used & (Mb)\\\\\n\\hline\n\tNcells &  657244 & 35.2 & 1454462 & 77.7 & 1326119 & 70.9\\\\\n\tVcells & 1220271 &  9.4 & 8388608 & 64.0 & 1975128 & 15.1\\\\\n\\end{tabular}\n",
            "text/plain": [
              "       used    (Mb) gc trigger (Mb) max used (Mb)\n",
              "Ncells  657244 35.2 1454462    77.7 1326119  70.9\n",
              "Vcells 1220271  9.4 8388608    64.0 1975128  15.1"
            ]
          },
          "metadata": {}
        }
      ]
    },
    {
      "cell_type": "code",
      "source": [
        "# cargo las librerias que necesito\n",
        "require(\"data.table\")\n",
        "require(\"rpart\")\n",
        "require(\"parallel\")\n",
        "if (!require(\"primes\")) install.packages(\"primes\")\n",
        "require(\"primes\")"
      ],
      "metadata": {
        "id": "JO-12d7YHkWy",
        "outputId": "8ad9d7da-8534-4792-e9c2-3edd4b737ef7",
        "colab": {
          "base_uri": "https://localhost:8080/"
        }
      },
      "execution_count": 2,
      "outputs": [
        {
          "output_type": "stream",
          "name": "stderr",
          "text": [
            "Loading required package: data.table\n",
            "\n",
            "Loading required package: rpart\n",
            "\n",
            "Loading required package: parallel\n",
            "\n",
            "Loading required package: primes\n",
            "\n",
            "Warning message in library(package, lib.loc = lib.loc, character.only = TRUE, logical.return = TRUE, :\n",
            "“there is no package called ‘primes’”\n",
            "Installing package into ‘/usr/local/lib/R/site-library’\n",
            "(as ‘lib’ is unspecified)\n",
            "\n",
            "Loading required package: primes\n",
            "\n"
          ]
        }
      ]
    },
    {
      "cell_type": "markdown",
      "source": [
        "Aqui debe poner SU semiila primigenia"
      ],
      "metadata": {
        "id": "0MclPEJ6Q8Bp"
      }
    },
    {
      "cell_type": "code",
      "source": [
        "PARAM <- list()\n",
        "# reemplazar por su primer semilla\n",
        "PARAM$semilla_primigenia <- 123457\n",
        "PARAM$qsemillas <- 16\n",
        "\n",
        "PARAM$training_pct <- 70L  # entre  1L y 99L\n",
        "\n",
        "# elegir SU dataset comentando/ descomentando\n",
        "PARAM$dataset_nom <- \"~/datasets/dataset_pequeno.csv\""
      ],
      "metadata": {
        "id": "Vt5fC6bWHu5r"
      },
      "execution_count": 3,
      "outputs": []
    },
    {
      "cell_type": "code",
      "source": [
        "# particionar agrega una columna llamada fold a un dataset\n",
        "#  que consiste en una particion estratificada segun agrupa\n",
        "# particionar( data=dataset, division=c(70,30), agrupa=clase_ternaria, seed=semilla)\n",
        "#   crea una particion 70, 30\n",
        "\n",
        "particionar <- function(data, division, agrupa = \"\", campo = \"fold\", start = 1, seed = NA) {\n",
        "  if (!is.na(seed)) set.seed(seed)\n",
        "\n",
        "  bloque <- unlist(mapply(function(x, y) {\n",
        "    rep(y, x)\n",
        "  }, division, seq(from = start, length.out = length(division))))\n",
        "\n",
        "  data[, (campo) := sample(rep(bloque, ceiling(.N / length(bloque))))[1:.N],\n",
        "    by = agrupa\n",
        "  ]\n",
        "}\n"
      ],
      "metadata": {
        "id": "Z1dchsrWH4MD"
      },
      "execution_count": 4,
      "outputs": []
    },
    {
      "cell_type": "code",
      "source": [
        "ArbolEstimarGanancia <- function(semilla, training_pct, param_basicos) {\n",
        "  # particiono estratificadamente el dataset\n",
        "  particionar(dataset,\n",
        "    division = c(training_pct, 100L -training_pct),\n",
        "    agrupa = \"clase_ternaria\",\n",
        "    seed = semilla # aqui se usa SU semilla\n",
        "  )\n",
        "\n",
        "  # genero el modelo\n",
        "  # predecir clase_ternaria a partir del resto\n",
        "  modelo <- rpart(\"clase_ternaria ~ .\",\n",
        "    data = dataset[fold == 1], # fold==1  es training,  el 70% de los datos\n",
        "    xval = 0,\n",
        "    control = param_basicos\n",
        "  ) # aqui van los parametros del arbol\n",
        "\n",
        "  # aplico el modelo a los datos de testing\n",
        "  prediccion <- predict(modelo, # el modelo que genere recien\n",
        "    dataset[fold == 2], # fold==2  es testing, el 30% de los datos\n",
        "    type = \"prob\"\n",
        "  ) # type= \"prob\"  es que devuelva la probabilidad\n",
        "\n",
        "  # prediccion es una matriz con TRES columnas,\n",
        "  #  llamadas \"BAJA+1\", \"BAJA+2\"  y \"CONTINUA\"\n",
        "  # cada columna es el vector de probabilidades\n",
        "\n",
        "\n",
        "  # calculo la ganancia en testing  qu es fold==2\n",
        "  ganancia_test <- dataset[\n",
        "    fold == 2,\n",
        "    sum(ifelse(prediccion[, \"BAJA+2\"] > 0.025,\n",
        "      ifelse(clase_ternaria == \"BAJA+2\", 117000, -3000),\n",
        "      0\n",
        "    ))\n",
        "  ]\n",
        "\n",
        "  # escalo la ganancia como si fuera todo el dataset\n",
        "  ganancia_test_normalizada <- ganancia_test / (( 100 - PARAM$training_pct ) / 100 )\n",
        "\n",
        "  return(\n",
        "    c( list(\"semilla\" = semilla),\n",
        "      param_basicos,\n",
        "      list( \"ganancia_test\" = ganancia_test_normalizada )\n",
        "     )\n",
        "  )\n",
        "}\n"
      ],
      "metadata": {
        "id": "xsHwS1CzIA70"
      },
      "execution_count": 5,
      "outputs": []
    },
    {
      "cell_type": "code",
      "source": [
        "ArbolesMontecarlo <- function(semillas, param_basicos) {\n",
        "\n",
        "  # la funcion mcmapply  llama a la funcion ArbolEstimarGanancia\n",
        "  #  tantas veces como valores tenga el vector  PARAM$semillas\n",
        "  salida <- mcmapply(ArbolEstimarGanancia,\n",
        "    semillas, # paso el vector de semillas\n",
        "    MoreArgs = list(PARAM$training_pct, param_basicos), # aqui paso el segundo parametro\n",
        "    SIMPLIFY = FALSE,\n",
        "    mc.cores = detectCores()\n",
        "  )\n",
        "\n",
        "  return(salida)\n",
        "}\n"
      ],
      "metadata": {
        "id": "BvBVOuhqIEjD"
      },
      "execution_count": 6,
      "outputs": []
    },
    {
      "cell_type": "code",
      "source": [
        "# carpeta de trabajo\n",
        "# por fabor cambiar numero de experimento si se cambia el loop principal\n",
        "setwd(\"/content/buckets/b1/exp\")\n",
        "experimento <- \"HT2916_16b_Seeds\"\n",
        "dir.create(experimento, showWarnings=FALSE)\n",
        "setwd( paste0(\"/content/buckets/b1/exp/\", experimento ))"
      ],
      "metadata": {
        "id": "L-DOGHOjIG7G"
      },
      "execution_count": 7,
      "outputs": []
    },
    {
      "cell_type": "code",
      "source": [
        "# lectura del dataset\n",
        "dataset <- fread(\"/content/datasets/dataset_pequeno.csv\")\n",
        "\n",
        "# trabajo solo con los datos con clase, es decir 202107\n",
        "dataset <- dataset[clase_ternaria != \"\"]"
      ],
      "metadata": {
        "id": "NM-mrLWcIPo6"
      },
      "execution_count": 8,
      "outputs": []
    },
    {
      "cell_type": "code",
      "source": [
        "\n",
        "# genero numeros primos\n",
        "primos <- generate_primes(min = 100000, max = 1000000)\n",
        "set.seed(PARAM$semilla_primigenia) # inicializo\n",
        "# me quedo con PARAM$qsemillas   semillas\n",
        "PARAM$semillas <- sample(primos, PARAM$qsemillas )\n"
      ],
      "metadata": {
        "id": "tSlY0EcgIWdi"
      },
      "execution_count": 9,
      "outputs": []
    },
    {
      "cell_type": "code",
      "source": [
        "# genero la data.table donde van los resultados detallados del Grid Search\n",
        "# un registro para cada combinacion de < semilla, parametros >\n",
        "\n",
        "if(file.exists(\"gridsearch_detalle.txt\")){\n",
        "  tb_grid_search_detalle <- fread(\"gridsearch_detalle.txt\")\n",
        "}else{\n",
        "  tb_grid_search_detalle <- data.table(\n",
        "    semilla = integer(),\n",
        "    cp = numeric(),\n",
        "    maxdepth = integer(),\n",
        "   minsplit = integer(),\n",
        "    minbucket = integer(),\n",
        "    ganancia_test = numeric()\n",
        "  )\n",
        "}\n",
        "\n",
        "nrow( tb_grid_search_detalle )"
      ],
      "metadata": {
        "id": "xxCAwIKyIaTl",
        "outputId": "92e79178-17c3-4710-c8f8-6fa9c45710aa",
        "colab": {
          "base_uri": "https://localhost:8080/",
          "height": 34
        }
      },
      "execution_count": 10,
      "outputs": [
        {
          "output_type": "display_data",
          "data": {
            "text/html": [
              "32"
            ],
            "text/markdown": "32",
            "text/latex": "32",
            "text/plain": [
              "[1] 32"
            ]
          },
          "metadata": {}
        }
      ]
    },
    {
      "cell_type": "markdown",
      "source": [
        "Esta es la parte del código que usted debe expandir a TODOS los hiperparámetros de rpart,\n",
        "<br>ya que actualmente apenas recorre  maxdepth y  minsplit  dejando fijos  cp=-0.5  y minbucket=5"
      ],
      "metadata": {
        "id": "eAuGBNL8IkOD"
      }
    },
    {
      "cell_type": "code",
      "source": [
        "#------------------------------------------------------------------------------\n",
        "# CONFIGURACIÓN FIJA (Modelo Ganador: C3)\n",
        "# Hiperparámetros: cp=-0.5, maxdepth=6, minsplit=1000, minbucket=300\n",
        "# TOTAL ITERACIONES: 1\n",
        "#------------------------------------------------------------------------------\n",
        "\n",
        "# 1. Definición de Hiperparámetros Fijos\n",
        "vcp <- -0.5\n",
        "vmax_depth <- 6\n",
        "vmin_split <- 10\n",
        "vmin_bucket <- 20\n",
        "\n",
        "# 2. Definición del Parámetro Básico (sin loops)\n",
        "param_basicos <- list(\n",
        "\"cp\" = vcp,\n",
        "\"maxdepth\" = vmax_depth,\n",
        "\"minsplit\" = vmin_split,\n",
        "\"minbucket\" = vmin_bucket\n",
        ")\n",
        "\n",
        "# 3. Llamada Única a la función de entrenamiento\n",
        "# NOTA: Asegúrate de que tb_grid_search_detalle esté inicializado\n",
        "cat( \"Entrenando modelo fijo...\", \" \" )\n",
        "flush.console()\n",
        "\n",
        "# Llamada a la función de entrenamiento\n",
        "ganancias <- ArbolesMontecarlo(PARAM$semillas, param_basicos)\n",
        "\n",
        "# 4. Agregar a la tabla de resultados (usando fill=TRUE por seguridad)\n",
        "tb_grid_search_detalle <- rbindlist(\n",
        "list( tb_grid_search_detalle,rbindlist(ganancias) ),\n",
        "fill = TRUE\n",
        ")\n",
        "\n",
        "# 5. Grabar el resultado final\n",
        "fwrite( tb_grid_search_detalle,\n",
        "file = \"resultado_modelo_fijo_C3.txt\",\n",
        "sep = \"\\t\" )\n",
        "\n",
        "cat( \"Entrenamiento finalizado y guardado.\", \"\\n\" )"
      ],
      "metadata": {
        "id": "ipLHm3STIfmb",
        "outputId": "87424545-dbee-4a01-e3cc-3cf99cc4b6ca",
        "colab": {
          "base_uri": "https://localhost:8080/"
        }
      },
      "execution_count": 11,
      "outputs": [
        {
          "output_type": "stream",
          "name": "stdout",
          "text": [
            "Entrenando modelo fijo...  Entrenamiento finalizado y guardado. \n"
          ]
        }
      ]
    },
    {
      "cell_type": "code",
      "source": [
        "fwrite( tb_grid_search_detalle,\n",
        "   file = \"gridsearch_detalle.txt\",\n",
        "   sep = \"\\t\"\n",
        ")"
      ],
      "metadata": {
        "id": "WZaSqYBxiDFu"
      },
      "execution_count": null,
      "outputs": []
    },
    {
      "cell_type": "code",
      "source": [
        "# cantidad de registros de la tabla\n",
        "nrow(tb_grid_search_detalle)"
      ],
      "metadata": {
        "id": "STp0duM-RYVJ",
        "outputId": "3b19bedb-e672-421b-9061-4ffa147d2539",
        "colab": {
          "base_uri": "https://localhost:8080/",
          "height": 34
        }
      },
      "execution_count": null,
      "outputs": [
        {
          "output_type": "display_data",
          "data": {
            "text/html": [
              "32"
            ],
            "text/markdown": "32",
            "text/latex": "32",
            "text/plain": [
              "[1] 32"
            ]
          },
          "metadata": {}
        }
      ]
    },
    {
      "cell_type": "code",
      "source": [
        "# muestro la tabla\n",
        "tb_grid_search_detalle"
      ],
      "metadata": {
        "id": "k7fhk_H0iNez",
        "outputId": "6787c063-8e85-4adc-915c-bba5b8f20795",
        "colab": {
          "base_uri": "https://localhost:8080/",
          "height": 1000
        }
      },
      "execution_count": null,
      "outputs": [
        {
          "output_type": "display_data",
          "data": {
            "text/html": [
              "<table class=\"dataframe\">\n",
              "<caption>A data.table: 32 × 6</caption>\n",
              "<thead>\n",
              "\t<tr><th scope=col>semilla</th><th scope=col>cp</th><th scope=col>maxdepth</th><th scope=col>minsplit</th><th scope=col>minbucket</th><th scope=col>ganancia_test</th></tr>\n",
              "\t<tr><th scope=col>&lt;int&gt;</th><th scope=col>&lt;dbl&gt;</th><th scope=col>&lt;dbl&gt;</th><th scope=col>&lt;dbl&gt;</th><th scope=col>&lt;dbl&gt;</th><th scope=col>&lt;dbl&gt;</th></tr>\n",
              "</thead>\n",
              "<tbody>\n",
              "\t<tr><td>139747</td><td>-0.5</td><td>10</td><td>600</td><td>10</td><td>43150000</td></tr>\n",
              "\t<tr><td>736657</td><td>-0.5</td><td>10</td><td>600</td><td>10</td><td>47380000</td></tr>\n",
              "\t<tr><td>248231</td><td>-0.5</td><td>10</td><td>600</td><td>10</td><td>48360000</td></tr>\n",
              "\t<tr><td>565603</td><td>-0.5</td><td>10</td><td>600</td><td>10</td><td>46220000</td></tr>\n",
              "\t<tr><td>104729</td><td>-0.5</td><td>10</td><td>600</td><td>10</td><td>46400000</td></tr>\n",
              "\t<tr><td>521357</td><td>-0.5</td><td>10</td><td>600</td><td>10</td><td>47510000</td></tr>\n",
              "\t<tr><td>325571</td><td>-0.5</td><td>10</td><td>600</td><td>10</td><td>46120000</td></tr>\n",
              "\t<tr><td>652189</td><td>-0.5</td><td>10</td><td>600</td><td>10</td><td>47810000</td></tr>\n",
              "\t<tr><td>397259</td><td>-0.5</td><td>10</td><td>600</td><td>10</td><td>46900000</td></tr>\n",
              "\t<tr><td>882877</td><td>-0.5</td><td>10</td><td>600</td><td>10</td><td>50820000</td></tr>\n",
              "\t<tr><td>475619</td><td>-0.5</td><td>10</td><td>600</td><td>10</td><td>49020000</td></tr>\n",
              "\t<tr><td>967507</td><td>-0.5</td><td>10</td><td>600</td><td>10</td><td>50410000</td></tr>\n",
              "\t<tr><td>958967</td><td>-0.5</td><td>10</td><td>600</td><td>10</td><td>46810000</td></tr>\n",
              "\t<tr><td>526837</td><td>-0.5</td><td>10</td><td>600</td><td>10</td><td>46870000</td></tr>\n",
              "\t<tr><td>100279</td><td>-0.5</td><td>10</td><td>600</td><td>10</td><td>51880000</td></tr>\n",
              "\t<tr><td>127747</td><td>-0.5</td><td>10</td><td>600</td><td>10</td><td>44970000</td></tr>\n",
              "\t<tr><td>139747</td><td>-0.5</td><td>10</td><td>600</td><td> 5</td><td>51420000</td></tr>\n",
              "\t<tr><td>736657</td><td>-0.5</td><td>10</td><td>600</td><td> 5</td><td>48710000</td></tr>\n",
              "\t<tr><td>248231</td><td>-0.5</td><td>10</td><td>600</td><td> 5</td><td>46190000</td></tr>\n",
              "\t<tr><td>565603</td><td>-0.5</td><td>10</td><td>600</td><td> 5</td><td>48430000</td></tr>\n",
              "\t<tr><td>104729</td><td>-0.5</td><td>10</td><td>600</td><td> 5</td><td>48980000</td></tr>\n",
              "\t<tr><td>521357</td><td>-0.5</td><td>10</td><td>600</td><td> 5</td><td>46970000</td></tr>\n",
              "\t<tr><td>325571</td><td>-0.5</td><td>10</td><td>600</td><td> 5</td><td>44310000</td></tr>\n",
              "\t<tr><td>652189</td><td>-0.5</td><td>10</td><td>600</td><td> 5</td><td>48140000</td></tr>\n",
              "\t<tr><td>397259</td><td>-0.5</td><td>10</td><td>600</td><td> 5</td><td>45160000</td></tr>\n",
              "\t<tr><td>882877</td><td>-0.5</td><td>10</td><td>600</td><td> 5</td><td>51450000</td></tr>\n",
              "\t<tr><td>475619</td><td>-0.5</td><td>10</td><td>600</td><td> 5</td><td>52260000</td></tr>\n",
              "\t<tr><td>967507</td><td>-0.5</td><td>10</td><td>600</td><td> 5</td><td>51380000</td></tr>\n",
              "\t<tr><td>958967</td><td>-0.5</td><td>10</td><td>600</td><td> 5</td><td>50830000</td></tr>\n",
              "\t<tr><td>526837</td><td>-0.5</td><td>10</td><td>600</td><td> 5</td><td>45880000</td></tr>\n",
              "\t<tr><td>100279</td><td>-0.5</td><td>10</td><td>600</td><td> 5</td><td>56150000</td></tr>\n",
              "\t<tr><td>127747</td><td>-0.5</td><td>10</td><td>600</td><td> 5</td><td>44650000</td></tr>\n",
              "</tbody>\n",
              "</table>\n"
            ],
            "text/markdown": "\nA data.table: 32 × 6\n\n| semilla &lt;int&gt; | cp &lt;dbl&gt; | maxdepth &lt;dbl&gt; | minsplit &lt;dbl&gt; | minbucket &lt;dbl&gt; | ganancia_test &lt;dbl&gt; |\n|---|---|---|---|---|---|\n| 139747 | -0.5 | 10 | 600 | 10 | 43150000 |\n| 736657 | -0.5 | 10 | 600 | 10 | 47380000 |\n| 248231 | -0.5 | 10 | 600 | 10 | 48360000 |\n| 565603 | -0.5 | 10 | 600 | 10 | 46220000 |\n| 104729 | -0.5 | 10 | 600 | 10 | 46400000 |\n| 521357 | -0.5 | 10 | 600 | 10 | 47510000 |\n| 325571 | -0.5 | 10 | 600 | 10 | 46120000 |\n| 652189 | -0.5 | 10 | 600 | 10 | 47810000 |\n| 397259 | -0.5 | 10 | 600 | 10 | 46900000 |\n| 882877 | -0.5 | 10 | 600 | 10 | 50820000 |\n| 475619 | -0.5 | 10 | 600 | 10 | 49020000 |\n| 967507 | -0.5 | 10 | 600 | 10 | 50410000 |\n| 958967 | -0.5 | 10 | 600 | 10 | 46810000 |\n| 526837 | -0.5 | 10 | 600 | 10 | 46870000 |\n| 100279 | -0.5 | 10 | 600 | 10 | 51880000 |\n| 127747 | -0.5 | 10 | 600 | 10 | 44970000 |\n| 139747 | -0.5 | 10 | 600 |  5 | 51420000 |\n| 736657 | -0.5 | 10 | 600 |  5 | 48710000 |\n| 248231 | -0.5 | 10 | 600 |  5 | 46190000 |\n| 565603 | -0.5 | 10 | 600 |  5 | 48430000 |\n| 104729 | -0.5 | 10 | 600 |  5 | 48980000 |\n| 521357 | -0.5 | 10 | 600 |  5 | 46970000 |\n| 325571 | -0.5 | 10 | 600 |  5 | 44310000 |\n| 652189 | -0.5 | 10 | 600 |  5 | 48140000 |\n| 397259 | -0.5 | 10 | 600 |  5 | 45160000 |\n| 882877 | -0.5 | 10 | 600 |  5 | 51450000 |\n| 475619 | -0.5 | 10 | 600 |  5 | 52260000 |\n| 967507 | -0.5 | 10 | 600 |  5 | 51380000 |\n| 958967 | -0.5 | 10 | 600 |  5 | 50830000 |\n| 526837 | -0.5 | 10 | 600 |  5 | 45880000 |\n| 100279 | -0.5 | 10 | 600 |  5 | 56150000 |\n| 127747 | -0.5 | 10 | 600 |  5 | 44650000 |\n\n",
            "text/latex": "A data.table: 32 × 6\n\\begin{tabular}{llllll}\n semilla & cp & maxdepth & minsplit & minbucket & ganancia\\_test\\\\\n <int> & <dbl> & <dbl> & <dbl> & <dbl> & <dbl>\\\\\n\\hline\n\t 139747 & -0.5 & 10 & 600 & 10 & 43150000\\\\\n\t 736657 & -0.5 & 10 & 600 & 10 & 47380000\\\\\n\t 248231 & -0.5 & 10 & 600 & 10 & 48360000\\\\\n\t 565603 & -0.5 & 10 & 600 & 10 & 46220000\\\\\n\t 104729 & -0.5 & 10 & 600 & 10 & 46400000\\\\\n\t 521357 & -0.5 & 10 & 600 & 10 & 47510000\\\\\n\t 325571 & -0.5 & 10 & 600 & 10 & 46120000\\\\\n\t 652189 & -0.5 & 10 & 600 & 10 & 47810000\\\\\n\t 397259 & -0.5 & 10 & 600 & 10 & 46900000\\\\\n\t 882877 & -0.5 & 10 & 600 & 10 & 50820000\\\\\n\t 475619 & -0.5 & 10 & 600 & 10 & 49020000\\\\\n\t 967507 & -0.5 & 10 & 600 & 10 & 50410000\\\\\n\t 958967 & -0.5 & 10 & 600 & 10 & 46810000\\\\\n\t 526837 & -0.5 & 10 & 600 & 10 & 46870000\\\\\n\t 100279 & -0.5 & 10 & 600 & 10 & 51880000\\\\\n\t 127747 & -0.5 & 10 & 600 & 10 & 44970000\\\\\n\t 139747 & -0.5 & 10 & 600 &  5 & 51420000\\\\\n\t 736657 & -0.5 & 10 & 600 &  5 & 48710000\\\\\n\t 248231 & -0.5 & 10 & 600 &  5 & 46190000\\\\\n\t 565603 & -0.5 & 10 & 600 &  5 & 48430000\\\\\n\t 104729 & -0.5 & 10 & 600 &  5 & 48980000\\\\\n\t 521357 & -0.5 & 10 & 600 &  5 & 46970000\\\\\n\t 325571 & -0.5 & 10 & 600 &  5 & 44310000\\\\\n\t 652189 & -0.5 & 10 & 600 &  5 & 48140000\\\\\n\t 397259 & -0.5 & 10 & 600 &  5 & 45160000\\\\\n\t 882877 & -0.5 & 10 & 600 &  5 & 51450000\\\\\n\t 475619 & -0.5 & 10 & 600 &  5 & 52260000\\\\\n\t 967507 & -0.5 & 10 & 600 &  5 & 51380000\\\\\n\t 958967 & -0.5 & 10 & 600 &  5 & 50830000\\\\\n\t 526837 & -0.5 & 10 & 600 &  5 & 45880000\\\\\n\t 100279 & -0.5 & 10 & 600 &  5 & 56150000\\\\\n\t 127747 & -0.5 & 10 & 600 &  5 & 44650000\\\\\n\\end{tabular}\n",
            "text/plain": [
              "   semilla cp   maxdepth minsplit minbucket ganancia_test\n",
              "1  139747  -0.5 10       600      10        43150000     \n",
              "2  736657  -0.5 10       600      10        47380000     \n",
              "3  248231  -0.5 10       600      10        48360000     \n",
              "4  565603  -0.5 10       600      10        46220000     \n",
              "5  104729  -0.5 10       600      10        46400000     \n",
              "6  521357  -0.5 10       600      10        47510000     \n",
              "7  325571  -0.5 10       600      10        46120000     \n",
              "8  652189  -0.5 10       600      10        47810000     \n",
              "9  397259  -0.5 10       600      10        46900000     \n",
              "10 882877  -0.5 10       600      10        50820000     \n",
              "11 475619  -0.5 10       600      10        49020000     \n",
              "12 967507  -0.5 10       600      10        50410000     \n",
              "13 958967  -0.5 10       600      10        46810000     \n",
              "14 526837  -0.5 10       600      10        46870000     \n",
              "15 100279  -0.5 10       600      10        51880000     \n",
              "16 127747  -0.5 10       600      10        44970000     \n",
              "17 139747  -0.5 10       600       5        51420000     \n",
              "18 736657  -0.5 10       600       5        48710000     \n",
              "19 248231  -0.5 10       600       5        46190000     \n",
              "20 565603  -0.5 10       600       5        48430000     \n",
              "21 104729  -0.5 10       600       5        48980000     \n",
              "22 521357  -0.5 10       600       5        46970000     \n",
              "23 325571  -0.5 10       600       5        44310000     \n",
              "24 652189  -0.5 10       600       5        48140000     \n",
              "25 397259  -0.5 10       600       5        45160000     \n",
              "26 882877  -0.5 10       600       5        51450000     \n",
              "27 475619  -0.5 10       600       5        52260000     \n",
              "28 967507  -0.5 10       600       5        51380000     \n",
              "29 958967  -0.5 10       600       5        50830000     \n",
              "30 526837  -0.5 10       600       5        45880000     \n",
              "31 100279  -0.5 10       600       5        56150000     \n",
              "32 127747  -0.5 10       600       5        44650000     "
            ]
          },
          "metadata": {}
        }
      ]
    },
    {
      "cell_type": "code",
      "source": [
        "# genero y grabo el resumen\n",
        "tb_grid_search <- tb_grid_search_detalle[,\n",
        "  list( \"ganancia_mean\" = mean(ganancia_test),\n",
        "    \"qty\" = .N ),\n",
        "  list( cp, maxdepth, minsplit, minbucket )\n",
        "]\n"
      ],
      "metadata": {
        "id": "DjCxtx8bIsgl"
      },
      "execution_count": null,
      "outputs": []
    },
    {
      "cell_type": "code",
      "source": [
        "# ordeno descendente por ganancia\n",
        "setorder( tb_grid_search, -ganancia_mean )\n"
      ],
      "metadata": {
        "id": "LU29UhL1Ivg5"
      },
      "execution_count": null,
      "outputs": []
    },
    {
      "cell_type": "code",
      "source": [
        "# veo los 10 mejores hiperparámetros\n",
        "tb_grid_search[1:10]"
      ],
      "metadata": {
        "id": "g-EjGY7aIyWL",
        "outputId": "2887a940-0d62-4475-e9a5-48c4018c5c3f",
        "colab": {
          "base_uri": "https://localhost:8080/",
          "height": 412
        }
      },
      "execution_count": null,
      "outputs": [
        {
          "output_type": "display_data",
          "data": {
            "text/html": [
              "<table class=\"dataframe\">\n",
              "<caption>A data.table: 10 × 6</caption>\n",
              "<thead>\n",
              "\t<tr><th scope=col>cp</th><th scope=col>maxdepth</th><th scope=col>minsplit</th><th scope=col>minbucket</th><th scope=col>ganancia_mean</th><th scope=col>qty</th></tr>\n",
              "\t<tr><th scope=col>&lt;dbl&gt;</th><th scope=col>&lt;dbl&gt;</th><th scope=col>&lt;dbl&gt;</th><th scope=col>&lt;dbl&gt;</th><th scope=col>&lt;dbl&gt;</th><th scope=col>&lt;int&gt;</th></tr>\n",
              "</thead>\n",
              "<tbody>\n",
              "\t<tr><td>-0.5</td><td>10</td><td>600</td><td> 5</td><td>48806875</td><td>16</td></tr>\n",
              "\t<tr><td>-0.5</td><td>10</td><td>600</td><td>10</td><td>47539375</td><td>16</td></tr>\n",
              "\t<tr><td>  NA</td><td>NA</td><td> NA</td><td>NA</td><td>      NA</td><td>NA</td></tr>\n",
              "\t<tr><td>  NA</td><td>NA</td><td> NA</td><td>NA</td><td>      NA</td><td>NA</td></tr>\n",
              "\t<tr><td>  NA</td><td>NA</td><td> NA</td><td>NA</td><td>      NA</td><td>NA</td></tr>\n",
              "\t<tr><td>  NA</td><td>NA</td><td> NA</td><td>NA</td><td>      NA</td><td>NA</td></tr>\n",
              "\t<tr><td>  NA</td><td>NA</td><td> NA</td><td>NA</td><td>      NA</td><td>NA</td></tr>\n",
              "\t<tr><td>  NA</td><td>NA</td><td> NA</td><td>NA</td><td>      NA</td><td>NA</td></tr>\n",
              "\t<tr><td>  NA</td><td>NA</td><td> NA</td><td>NA</td><td>      NA</td><td>NA</td></tr>\n",
              "\t<tr><td>  NA</td><td>NA</td><td> NA</td><td>NA</td><td>      NA</td><td>NA</td></tr>\n",
              "</tbody>\n",
              "</table>\n"
            ],
            "text/markdown": "\nA data.table: 10 × 6\n\n| cp &lt;dbl&gt; | maxdepth &lt;dbl&gt; | minsplit &lt;dbl&gt; | minbucket &lt;dbl&gt; | ganancia_mean &lt;dbl&gt; | qty &lt;int&gt; |\n|---|---|---|---|---|---|\n| -0.5 | 10 | 600 |  5 | 48806875 | 16 |\n| -0.5 | 10 | 600 | 10 | 47539375 | 16 |\n|   NA | NA |  NA | NA |       NA | NA |\n|   NA | NA |  NA | NA |       NA | NA |\n|   NA | NA |  NA | NA |       NA | NA |\n|   NA | NA |  NA | NA |       NA | NA |\n|   NA | NA |  NA | NA |       NA | NA |\n|   NA | NA |  NA | NA |       NA | NA |\n|   NA | NA |  NA | NA |       NA | NA |\n|   NA | NA |  NA | NA |       NA | NA |\n\n",
            "text/latex": "A data.table: 10 × 6\n\\begin{tabular}{llllll}\n cp & maxdepth & minsplit & minbucket & ganancia\\_mean & qty\\\\\n <dbl> & <dbl> & <dbl> & <dbl> & <dbl> & <int>\\\\\n\\hline\n\t -0.5 & 10 & 600 &  5 & 48806875 & 16\\\\\n\t -0.5 & 10 & 600 & 10 & 47539375 & 16\\\\\n\t   NA & NA &  NA & NA &       NA & NA\\\\\n\t   NA & NA &  NA & NA &       NA & NA\\\\\n\t   NA & NA &  NA & NA &       NA & NA\\\\\n\t   NA & NA &  NA & NA &       NA & NA\\\\\n\t   NA & NA &  NA & NA &       NA & NA\\\\\n\t   NA & NA &  NA & NA &       NA & NA\\\\\n\t   NA & NA &  NA & NA &       NA & NA\\\\\n\t   NA & NA &  NA & NA &       NA & NA\\\\\n\\end{tabular}\n",
            "text/plain": [
              "   cp   maxdepth minsplit minbucket ganancia_mean qty\n",
              "1  -0.5 10       600       5        48806875      16 \n",
              "2  -0.5 10       600      10        47539375      16 \n",
              "3    NA NA        NA      NA              NA      NA \n",
              "4    NA NA        NA      NA              NA      NA \n",
              "5    NA NA        NA      NA              NA      NA \n",
              "6    NA NA        NA      NA              NA      NA \n",
              "7    NA NA        NA      NA              NA      NA \n",
              "8    NA NA        NA      NA              NA      NA \n",
              "9    NA NA        NA      NA              NA      NA \n",
              "10   NA NA        NA      NA              NA      NA "
            ]
          },
          "metadata": {}
        }
      ]
    },
    {
      "cell_type": "code",
      "source": [
        "# genero un id a la tabla\n",
        "tb_grid_search[, id := .I ]\n",
        "\n",
        "fwrite( tb_grid_search,\n",
        "  file = \"gridsearch.txt\",\n",
        "  sep = \"\\t\"\n",
        ")\n"
      ],
      "metadata": {
        "id": "K3S-I2PTI5ZE"
      },
      "execution_count": null,
      "outputs": []
    },
    {
      "cell_type": "markdown",
      "source": [
        "# 4.  Análisis de resultados de Grid Search"
      ],
      "metadata": {
        "id": "1rYHk1YkI_9k"
      }
    },
    {
      "cell_type": "markdown",
      "source": [
        "La salida de la corrida anterior queda en ~/buckets/b1/exp/HT2900  que corresponde a su Google Drive\n",
        "<br>HT significa Hyperparameter Tuning\n",
        "<br>El Grid Search es un método de fuerza bruta de un altísimo costo computacional.\n",
        "<br>Queremos ver si es posible crear un algoritmo de optimización de hiperparámetros que se ahorre recorrer ciertas porciones muy malas del espacio de búsqueda. Algo del estilo “cada vez que pruebo una combinación de hiperparámetros donde  cp > 1 , la ganancia es muy mala, con lo cual ni vale la pena perder el tiempo explorando en esa region”\n"
      ],
      "metadata": {
        "id": "ZTJgPhMWJHTk"
      }
    },
    {
      "cell_type": "markdown",
      "source": [
        "<br>Levante el archivo de salida gridsearch.txt  a una planilla tipo Excel y analícelo detenidamente\n",
        "<br>Ordene por ganancia_mean descendente\n",
        "<br>\n",
        "<br>El de mayor ganancia_mean  decimos que es el primero del ranking\n",
        "En Zulip, correspondiente channel  #Tarea Hogar 02 , topic Analisis Grid Search   intente contestar estas preguntas:\n",
        "\n",
        "* ¿Qué combinaciones de hiperparámetros poseen una ganancia muy buena?\n",
        "* ¿Hay algun hiperparámetro que para cierto valor siempre genera una ganancia muy mala, a independientemente de lo que valgan los otros hiperparámetros ?\n",
        "* ¿Que combinaciones de hiperparámetros es pésima y hubiera sido bueno ahorrarse esas corridas ?\n",
        "\n",
        "( tiempo estimado 30 minutos, dificultad media )"
      ],
      "metadata": {
        "id": "IaVgMu4tPwyB"
      }
    }
  ]
}