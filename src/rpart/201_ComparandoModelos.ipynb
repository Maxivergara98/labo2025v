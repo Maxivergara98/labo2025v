{
  "nbformat": 4,
  "nbformat_minor": 0,
  "metadata": {
    "colab": {
      "provenance": [],
      "include_colab_link": true
    },
    "kernelspec": {
      "name": "ir",
      "display_name": "R"
    },
    "language_info": {
      "name": "R"
    }
  },
  "cells": [
    {
      "cell_type": "markdown",
      "metadata": {
        "id": "view-in-github",
        "colab_type": "text"
      },
      "source": [
        "<a href=\"https://colab.research.google.com/github/Maxivergara98/labo2025v/blob/main/src/rpart/201_ComparandoModelos.ipynb\" target=\"_parent\"><img src=\"https://colab.research.google.com/assets/colab-badge.svg\" alt=\"Open In Colab\"/></a>"
      ]
    },
    {
      "cell_type": "markdown",
      "source": [
        "# Comparando Modelos"
      ],
      "metadata": {
        "id": "5DrvzQ9BsXmX"
      }
    },
    {
      "cell_type": "markdown",
      "source": [
        "Estamos en la  Clase 02\n",
        "<br> El objetivo de la materia es lograr la mejor predicción para nuestro probleama, para lo que se probarán pipelines con decenas de alternativas, será indispensable comparar varios modelos predictivos entre sí y decidir cual es el mejor\n",
        "<br> La tarea no es tan sencilla"
      ],
      "metadata": {
        "id": "Y2U9lu16sgta"
      }
    },
    {
      "cell_type": "markdown",
      "source": [
        "## Seteo del ambiente en Google Colab"
      ],
      "metadata": {
        "id": "kmLygy1TYPfg"
      }
    },
    {
      "cell_type": "markdown",
      "source": [
        "Esta parte se debe correr con el runtime en Python3\n",
        "<br>Ir al menu, Runtime -> Change Runtime Tipe -> Runtime type ->  **Python 3**"
      ],
      "metadata": {
        "id": "OikOm5K2YU3X"
      }
    },
    {
      "cell_type": "markdown",
      "source": [
        "Conectar la virtual machine donde esta corriendo Google Colab con el  Google Drive, para poder tener persistencia de archivos"
      ],
      "metadata": {
        "id": "4fmV5LyZdFyI"
      }
    },
    {
      "cell_type": "code",
      "source": [
        "# primero establecer el Runtime de Python 3\n",
        "from google.colab import drive\n",
        "drive.mount('/content/.drive')"
      ],
      "metadata": {
        "id": "ilEZ-bE2VybW",
        "outputId": "2b107020-8b33-45bf-b32e-575de11d9218",
        "colab": {
          "base_uri": "https://localhost:8080/"
        }
      },
      "execution_count": 1,
      "outputs": [
        {
          "output_type": "stream",
          "name": "stdout",
          "text": [
            "Mounted at /content/.drive\n"
          ]
        }
      ]
    },
    {
      "cell_type": "markdown",
      "source": [
        "Para correr la siguiente celda es fundamental en Arranque en Frio haber copiado el archivo kaggle.json al Google Drive, en la carpeta indicada en el instructivo\n",
        "\n",
        "<br>los siguientes comando estan en shell script de Linux\n",
        "*   Crear las carpetas en el Google Drive\n",
        "*   \"instalar\" el archivo kaggle.json desde el Google Drive a la virtual machine para que pueda ser utilizado por la libreria  kaggle de Python\n",
        "*   Bajar el  **dataset_pequeno**  al  Google Drive  y tambien al disco local de la virtual machine que esta corriendo Google Colab\n",
        "\n"
      ],
      "metadata": {
        "id": "ilaKtqWldeWg"
      }
    },
    {
      "cell_type": "code",
      "source": [
        "%%shell\n",
        "\n",
        "mkdir -p \"/content/.drive/My Drive/labo1\"\n",
        "mkdir -p \"/content/buckets\"\n",
        "ln -s \"/content/.drive/My Drive/labo1\" /content/buckets/b1\n",
        "\n",
        "mkdir -p ~/.kaggle\n",
        "cp /content/buckets/b1/kaggle/kaggle.json  ~/.kaggle\n",
        "chmod 600 ~/.kaggle/kaggle.json\n",
        "\n",
        "\n",
        "mkdir -p /content/buckets/b1/exp\n",
        "mkdir -p /content/buckets/b1/datasets\n",
        "mkdir -p /content/datasets\n",
        "\n",
        "\n",
        "\n",
        "archivo_origen=\"https://storage.googleapis.com/open-courses/austral2025-af91/dataset_pequeno.csv\"\n",
        "archivo_destino=\"/content/datasets/dataset_pequeno.csv\"\n",
        "archivo_destino_bucket=\"/content/buckets/b1/datasets/dataset_pequeno.csv\"\n",
        "\n",
        "if ! test -f $archivo_destino_bucket; then\n",
        "  wget  $archivo_origen  -O $archivo_destino_bucket\n",
        "fi\n",
        "\n",
        "\n",
        "if ! test -f $archivo_destino; then\n",
        "  cp  $archivo_destino_bucket  $archivo_destino\n",
        "fi\n"
      ],
      "metadata": {
        "id": "W8dQFI5QYCFa",
        "outputId": "1e305663-9e3d-41a4-a5c5-d989ad2bfe26",
        "colab": {
          "base_uri": "https://localhost:8080/"
        }
      },
      "execution_count": 2,
      "outputs": [
        {
          "output_type": "stream",
          "name": "stdout",
          "text": [
            "--2025-09-30 23:16:52--  https://storage.googleapis.com/open-courses/austral2025-af91/dataset_pequeno.csv\n",
            "Resolving storage.googleapis.com (storage.googleapis.com)... 192.178.213.207, 108.177.127.207, 172.217.218.207, ...\n",
            "Connecting to storage.googleapis.com (storage.googleapis.com)|192.178.213.207|:443... connected.\n",
            "HTTP request sent, awaiting response... 200 OK\n",
            "Length: 168083585 (160M) [text/csv]\n",
            "Saving to: ‘/content/buckets/b1/datasets/dataset_pequeno.csv’\n",
            "\n",
            "/content/buckets/b1 100%[===================>] 160.30M  42.2MB/s    in 4.4s    \n",
            "\n",
            "2025-09-30 23:16:57 (36.2 MB/s) - ‘/content/buckets/b1/datasets/dataset_pequeno.csv’ saved [168083585/168083585]\n",
            "\n"
          ]
        },
        {
          "output_type": "execute_result",
          "data": {
            "text/plain": []
          },
          "metadata": {},
          "execution_count": 2
        }
      ]
    },
    {
      "cell_type": "markdown",
      "source": [
        "# 1  Particion Training/Testing\n",
        "## Clase 02  Experimento 1"
      ],
      "metadata": {
        "id": "iV32-NeesVp6"
      }
    },
    {
      "cell_type": "markdown",
      "source": [
        "## 1.1  Objetivos\n",
        "Dado que es el primer experimento de la asignatura, acercar a l@s estudiantes las mejores prácticas de operación del ambiente de Google Cloud, realizando una minuciosa demostración en vivo narrando todas las consideraciones pertinentes para evitar accidentes, daños a terceros y a equipos.\n",
        "Dar soporte en el acto a  l@s estudiantes que necesitan ayuda para terminar de configurar el ambiente Google Cloud .\n",
        "<br>Repaso del concepto de  partición de un dataset al azar, estratificada en la clase\n",
        "<br>Dado que es el primer script que se mostrará en vivo a l@s estudiantes,  realizar una visita guiada del  mismo, su estructura y detalles.\n",
        "<br>Repaso del algoritmo Arbol de Decisión sus hiperparámetros, y la implementación con la librería  rpart.  Funciones  rpart::rpart  y rpart::predict\n",
        "<br>Concepto de replicabilidad de los experimentos mediante las semillas de los generadores de secuencias de números pseudoaleatorios.\n",
        "<br>Finalmente, el principal objetivo de este experimento es lograr que l@s estudiantes dimensionen la enorme variabilidad del error de medición de la ganancia de un árbol de decisión al realizar una partición <training, testing>,  contener la sorpresa de los estudiantes, descartar a la simple particion <training, testing> como método,  y construir en conjunto una solucion natural al problema."
      ],
      "metadata": {
        "id": "84Pnj9gVwpXB"
      }
    },
    {
      "cell_type": "markdown",
      "source": [
        "## 1.2 Introduccion"
      ],
      "metadata": {
        "id": "L9Cn0WThw37Y"
      }
    },
    {
      "cell_type": "markdown",
      "source": [
        "![Particiohn Training/Testing](https://storage.googleapis.com/open-courses/austral2025-af91/labo1r/C2_E1_particion.jpg)"
      ],
      "metadata": {
        "id": "ZELZ0R4itUVG"
      }
    },
    {
      "cell_type": "markdown",
      "source": [
        "![Dos tipos de error](https://storage.googleapis.com/open-courses/austral2025-af91/labo1r/C2_E1_target.jpg)"
      ],
      "metadata": {
        "id": "Wtc1ho58xLk-"
      }
    },
    {
      "cell_type": "markdown",
      "source": [
        "## 1.3  Bibliografía\n",
        "\n",
        "Demšar, J. [Statistical comparisons of classifiers over multiple data sets](https://www.jmlr.org/papers/volume7/demsar06a/demsar06a.pdf) J. Mach. Learn. Res. 7, 1–30 (2006).   \n",
        "Starmer, J. [Machine Learning Fundamentals: Cross Validation](https://www.youtube.com/watch?v=fSytzGwwBVw)Machine Learning Fundamentals: Cross Validation, StatQuest with Josh Starmer youtube channel, (2018)\n",
        "Hastie, T.[The elements of statistical learning: data mining, inference, and prediction](https://hastie.su.domains/Papers/ESLII.pdf) , volume 2. Springer, 2009  ( Chapter 7 Model Assessment and Selection )"
      ],
      "metadata": {
        "id": "oRWtRV34xZRT"
      }
    },
    {
      "cell_type": "markdown",
      "source": [
        "## 1.4 Codigo"
      ],
      "metadata": {
        "id": "VcgTQ2-Pyb8q"
      }
    },
    {
      "cell_type": "markdown",
      "source": [
        "Esta parte se debe correr con el runtime en lenguaje **R** Ir al menu, Runtime -> Change Runtime Tipe -> Runtime type -> R"
      ],
      "metadata": {
        "id": "SBXPU-_tabMb"
      }
    },
    {
      "cell_type": "markdown",
      "source": [
        "limpio el ambiente de R"
      ],
      "metadata": {
        "id": "SE94XRhWsxkX"
      }
    },
    {
      "cell_type": "code",
      "source": [
        "# limpio la memoria\n",
        "rm(list=ls(all.names=TRUE)) # remove all objects\n",
        "gc(full=TRUE, verbose=FALSE) # garbage collection"
      ],
      "metadata": {
        "id": "oZG_4br6szlT",
        "outputId": "657a9d66-409d-4bfc-90e1-d7582644473e",
        "colab": {
          "base_uri": "https://localhost:8080/",
          "height": 129
        }
      },
      "execution_count": 1,
      "outputs": [
        {
          "output_type": "display_data",
          "data": {
            "text/html": [
              "<table class=\"dataframe\">\n",
              "<caption>A matrix: 2 × 6 of type dbl</caption>\n",
              "<thead>\n",
              "\t<tr><th></th><th scope=col>used</th><th scope=col>(Mb)</th><th scope=col>gc trigger</th><th scope=col>(Mb)</th><th scope=col>max used</th><th scope=col>(Mb)</th></tr>\n",
              "</thead>\n",
              "<tbody>\n",
              "\t<tr><th scope=row>Ncells</th><td> 656590</td><td>35.1</td><td>1454471</td><td>77.7</td><td>1321677</td><td>70.6</td></tr>\n",
              "\t<tr><th scope=row>Vcells</th><td>1219461</td><td> 9.4</td><td>8388608</td><td>64.0</td><td>1975127</td><td>15.1</td></tr>\n",
              "</tbody>\n",
              "</table>\n"
            ],
            "text/markdown": "\nA matrix: 2 × 6 of type dbl\n\n| <!--/--> | used | (Mb) | gc trigger | (Mb) | max used | (Mb) |\n|---|---|---|---|---|---|---|\n| Ncells |  656590 | 35.1 | 1454471 | 77.7 | 1321677 | 70.6 |\n| Vcells | 1219461 |  9.4 | 8388608 | 64.0 | 1975127 | 15.1 |\n\n",
            "text/latex": "A matrix: 2 × 6 of type dbl\n\\begin{tabular}{r|llllll}\n  & used & (Mb) & gc trigger & (Mb) & max used & (Mb)\\\\\n\\hline\n\tNcells &  656590 & 35.1 & 1454471 & 77.7 & 1321677 & 70.6\\\\\n\tVcells & 1219461 &  9.4 & 8388608 & 64.0 & 1975127 & 15.1\\\\\n\\end{tabular}\n",
            "text/plain": [
              "       used    (Mb) gc trigger (Mb) max used (Mb)\n",
              "Ncells  656590 35.1 1454471    77.7 1321677  70.6\n",
              "Vcells 1219461  9.4 8388608    64.0 1975127  15.1"
            ]
          },
          "metadata": {}
        }
      ]
    },
    {
      "cell_type": "code",
      "source": [
        "Sys.time()"
      ],
      "metadata": {
        "id": "pJ8SsVA5ssnf",
        "outputId": "7a73535c-9ea0-4906-abae-736d710f09e6",
        "colab": {
          "base_uri": "https://localhost:8080/",
          "height": 35
        }
      },
      "execution_count": 2,
      "outputs": [
        {
          "output_type": "display_data",
          "data": {
            "text/plain": [
              "[1] \"2025-09-30 23:20:27 UTC\""
            ]
          },
          "metadata": {}
        }
      ]
    },
    {
      "cell_type": "markdown",
      "source": [
        "* Instalacion de la libreria  rpart.plot  para dibujar el arbol\n",
        "* invocacion de las librerias  **data.table** y  **rpart**"
      ],
      "metadata": {
        "id": "3BrrQ47PeEb2"
      }
    },
    {
      "cell_type": "code",
      "source": [
        "# cargo las librerias que necesito\n",
        "require(\"data.table\")\n",
        "require(\"rpart\")\n"
      ],
      "metadata": {
        "id": "SxO-0Ql0khn6",
        "outputId": "71cf5ca7-f98b-45d7-ea85-9fdde99ca754",
        "colab": {
          "base_uri": "https://localhost:8080/"
        }
      },
      "execution_count": 3,
      "outputs": [
        {
          "output_type": "stream",
          "name": "stderr",
          "text": [
            "Loading required package: data.table\n",
            "\n",
            "Loading required package: rpart\n",
            "\n"
          ]
        }
      ]
    },
    {
      "cell_type": "markdown",
      "source": [
        "###  Accion a Realizar\n",
        "PARAM$semilla  debe tener su primer semilla aleatoria"
      ],
      "metadata": {
        "id": "ZG9fCnZh3bWV"
      }
    },
    {
      "cell_type": "code",
      "source": [
        "PARAM <- list()\n",
        "PARAM$semilla <- 982451  # aqui debe ir su primer semilla\n",
        "PARAM$training_pct <- 70L  # entre  1L y 99L\n",
        "\n",
        "PARAM$rpart <- list (\n",
        "  \"cp\" = -1, # complejidad minima\n",
        "  \"minsplit\" = 170, # minima cantidad de regs en un nodo para hacer el split\n",
        "  \"minbucket\" = 70, # minima cantidad de regs en una hoja\n",
        "  \"maxdepth\" = 7 # profundidad máxima del arbol\n",
        ")\n"
      ],
      "metadata": {
        "id": "0nx5_OcE3Y9c"
      },
      "execution_count": 20,
      "outputs": []
    },
    {
      "cell_type": "code",
      "source": [
        "# particionar agrega una columna llamada fold a un dataset\n",
        "#  que consiste en una particion estratificada segun agrupa\n",
        "\n",
        "# particionar( data=dataset, division=c(70,30),\n",
        "#  agrupa=clase_ternaria, seed=semilla)   crea una particion 70, 30\n",
        "\n",
        "particionar <- function(\n",
        "    data, division, agrupa = \"\",\n",
        "    campo = \"fold\", start = 1, seed = NA) {\n",
        "  if (!is.na(seed)) set.seed(seed)\n",
        "\n",
        "  bloque <- unlist(mapply(function(x, y) {\n",
        "    rep(y, x)\n",
        "  }, division, seq(from = start, length.out = length(division))))\n",
        "\n",
        "  data[, (campo) := sample(rep(bloque, ceiling(.N / length(bloque))))[1:.N],\n",
        "    by = agrupa\n",
        "  ]\n",
        "}\n"
      ],
      "metadata": {
        "id": "8HLE9Dx80gjH"
      },
      "execution_count": 21,
      "outputs": []
    },
    {
      "cell_type": "code",
      "source": [
        "# carpeta de trabajo\n",
        "setwd(\"/content/buckets/b1/exp\")\n",
        "experimento <- \"exp201\"\n",
        "dir.create(experimento, showWarnings=FALSE)\n",
        "setwd( paste0(\"/content/buckets/b1/exp/\", experimento ))"
      ],
      "metadata": {
        "id": "sC4_nqcm0nUs"
      },
      "execution_count": 22,
      "outputs": []
    },
    {
      "cell_type": "code",
      "source": [
        "# lectura del dataset\n",
        "dataset <- fread(\"/content/datasets/dataset_pequeno.csv\")\n",
        "\n",
        "# trabajo solo con los datos con clase, es decir 202107\n",
        "dataset <- dataset[clase_ternaria != \"\"]"
      ],
      "metadata": {
        "id": "6yIEsZOw07q8"
      },
      "execution_count": 23,
      "outputs": []
    },
    {
      "cell_type": "code",
      "source": [
        "# particiono estratificadamente el dataset 70%, 30%\n",
        "particionar(dataset,\n",
        "  division = c(PARAM$training_pct, 100L -PARAM$training_pct),\n",
        "  agrupa = \"clase_ternaria\",\n",
        "  seed = PARAM$semilla # aqui se usa SU semilla\n",
        ")\n",
        "\n"
      ],
      "metadata": {
        "id": "FAO1Hhd52b5d"
      },
      "execution_count": 24,
      "outputs": []
    },
    {
      "cell_type": "code",
      "source": [
        "# genero el modelo\n",
        "# quiero predecir clase_ternaria a partir del resto\n",
        "# fold==1  es training,  el 70% de los datos\n",
        "modelo <- rpart(\"clase_ternaria ~ .\",\n",
        "  data = dataset[fold == 1],  # fold==1  es training, el 70% de los datos\n",
        "  xval = 0,\n",
        "  control = PARAM$rpart # aqui van los parametros\n",
        ")\n"
      ],
      "metadata": {
        "id": "s3UnHSLP2gN6"
      },
      "execution_count": 25,
      "outputs": []
    },
    {
      "cell_type": "code",
      "source": [
        "# aplico el modelo a los datos de testing\n",
        "prediccion <- predict(modelo, # el modelo que genere recien\n",
        "  dataset[fold == 2], # fold==2  es testing, el 30% de los datos\n",
        "  type = \"prob\"\n",
        ") # type= \"prob\"  es que devuelva la probabilidad\n"
      ],
      "metadata": {
        "id": "paQphV4A2jGz"
      },
      "execution_count": 26,
      "outputs": []
    },
    {
      "cell_type": "code",
      "source": [
        "tb_prediccion <- as.data.table(list(\n",
        "  \"clase_ternaria\"=dataset[fold == 2, clase_ternaria],\n",
        "  \"prob\"=prediccion[, \"BAJA+2\"]\n",
        "))"
      ],
      "metadata": {
        "id": "fuLZ75pA29dT"
      },
      "execution_count": 27,
      "outputs": []
    },
    {
      "cell_type": "code",
      "source": [
        "# calculo la ganancia de cada registro\n",
        "tb_prediccion[, ganancia := ifelse(clase_ternaria == \"BAJA+2\", 117000, -3000)]"
      ],
      "metadata": {
        "id": "LuG6ql_t3kOI"
      },
      "execution_count": 28,
      "outputs": []
    },
    {
      "cell_type": "code",
      "source": [
        "# calculo la clase\n",
        "tb_prediccion[, Predicted := prob > (1/40) ]"
      ],
      "metadata": {
        "id": "xJ3WTMez3leO"
      },
      "execution_count": 29,
      "outputs": []
    },
    {
      "cell_type": "code",
      "source": [
        "ganancia_test <-  tb_prediccion[ Predicted==TRUE,  sum(ganancia)]"
      ],
      "metadata": {
        "id": "cFQPacen4Wq6"
      },
      "execution_count": 30,
      "outputs": []
    },
    {
      "cell_type": "code",
      "source": [
        "# normalizo la ganancia\n",
        "ganancia_test_normalizada <- ganancia_test / (( 100 - PARAM$training_pct ) / 100 )"
      ],
      "metadata": {
        "id": "dHjz0zhN4-nZ"
      },
      "execution_count": 31,
      "outputs": []
    },
    {
      "cell_type": "code",
      "source": [
        "estimulos <- tb_prediccion[ Predicted==TRUE, .N]\n",
        "aciertos <- tb_prediccion[ Predicted & clase_ternaria == \"BAJA+2\", .N]\n"
      ],
      "metadata": {
        "id": "D7RUdTb95F6B"
      },
      "execution_count": 32,
      "outputs": []
    },
    {
      "cell_type": "code",
      "source": [
        "# Resultado Final\n",
        "cat(\"Testing total: \", dataset[fold == 2, .N], \"\\n\")\n",
        "cat(\"Testing BAJA+2: \", dataset[fold == 2 & clase_ternaria == \"BAJA+2\", .N], \"\\n\")\n",
        "\n",
        "cat(\"Estimulos: \", estimulos, \"\\n\")\n",
        "cat(\"Aciertos (BAJA+2): \", aciertos, \"\\n\")\n",
        "\n",
        "cat(\"Ganancia en testing (normalizada): \", ganancia_test_normalizada, \"\\n\")\n"
      ],
      "metadata": {
        "id": "Lu1KM6fy5U7h",
        "outputId": "f4b68803-b6df-4198-900d-53f5ce5d5cda",
        "colab": {
          "base_uri": "https://localhost:8080/"
        }
      },
      "execution_count": 33,
      "outputs": [
        {
          "output_type": "stream",
          "name": "stdout",
          "text": [
            "Testing total:  49387 \n",
            "Testing BAJA+2:  374 \n",
            "Estimulos:  3454 \n",
            "Aciertos (BAJA+2):  223 \n",
            "Ganancia en testing (normalizada):  54660000 \n"
          ]
        }
      ]
    },
    {
      "cell_type": "markdown",
      "source": [
        "### Acciones a realizar\n",
        "* Reportar la  *Ganancia en testing (normalizada)* <br> en la planilla colaborativa hoja  **C2-1sem**\n",
        "* Se discutirá en clase la variabilidad de las ganancias obtenidas de distintos alumnos"
      ],
      "metadata": {
        "id": "kHs-YoFB5rUa"
      }
    },
    {
      "cell_type": "markdown",
      "source": [
        "\n",
        "\n",
        "---\n",
        "\n"
      ],
      "metadata": {
        "id": "LBl_eIeO7WuM"
      }
    },
    {
      "cell_type": "markdown",
      "source": [
        "# 2  Medición Monte Carlo Cross Validation\n",
        "## Clase 02  Experimento 2"
      ],
      "metadata": {
        "id": "h43UCq9y7UlT"
      }
    },
    {
      "cell_type": "markdown",
      "source": [
        "## 2.1  Objetivos\n",
        "Mostrar el funcionamiento de la Montecarlo Cross Validation y que l@s estudiantes aprecien la disminución de la varianza de dicha metodología.\n",
        "Relación con el Teorema Central del Límite"
      ],
      "metadata": {
        "id": "wHPchGXK80VU"
      }
    },
    {
      "cell_type": "markdown",
      "source": [
        "## 2.2 Introduccion\n",
        "\n",
        "![Montecarlo](https://storage.googleapis.com/open-courses/austral2025-af91/labo1r/C2_E2_montecarlo.jpg)\n",
        "\n",
        "![Curva normal](https://storage.googleapis.com/open-courses/austral2025-af91/labo1r/C2_E2_normal.jpg)\n",
        "\n",
        "![Teorema Central del Limite](https://storage.googleapis.com/open-courses/austral2025-af91/labo1r/C2_E2_teoremacentralLimite.jpg)\n",
        "\n"
      ],
      "metadata": {
        "id": "g6YzACxl9DzS"
      }
    },
    {
      "cell_type": "markdown",
      "source": [],
      "metadata": {
        "id": "7laod2t4ArsH"
      }
    },
    {
      "cell_type": "markdown",
      "source": [
        "## 2.3  Bibliografía\n",
        "\n",
        "Demšar, J. [Statistical comparisons of classifiers over multiple data sets](https://www.jmlr.org/papers/volume7/demsar06a/demsar06a.pdf) J. Mach. Learn. Res. 7, 1–30 (2006).   \n",
        "Starmer, J. [Machine Learning Fundamentals: Cross Validation](https://www.youtube.com/watch?v=fSytzGwwBVw)Machine Learning Fundamentals: Cross Validation, StatQuest with Josh Starmer youtube channel, (2018)\n",
        "Hastie, T.[The elements of statistical learning: data mining, inference, and prediction](https://hastie.su.domains/Papers/ESLII.pdf) , volume 2. Springer, 2009  ( Chapter 7 Model Assessment and Selection )"
      ],
      "metadata": {
        "id": "lFcJeRAkAr-q"
      }
    },
    {
      "cell_type": "code",
      "source": [],
      "metadata": {
        "id": "KXSuYXQ26cLV"
      },
      "execution_count": null,
      "outputs": []
    },
    {
      "cell_type": "markdown",
      "source": [
        "## 2.4 Codigo  Montecarlo"
      ],
      "metadata": {
        "id": "0ztZzYolA2WK"
      }
    },
    {
      "cell_type": "markdown",
      "source": [
        "El código de la Montecarlo Cross Validation es notablemente más complejo que el anterior de una simple partición training/testing\n",
        "<br> Se crea la funcion ArbolEstimarGanancia()  que dada una semilla realiza la partición  training/testing, entrena en training, aplica el modelo a testing, y se calculan las ganancias\n",
        "<br> Se utiliza la funcion **mcmapply**  de R para aplicar ArbolEstimarGanancia a todos los elementos del vector de semillas"
      ],
      "metadata": {
        "id": "KLa06ZsiC-Oz"
      }
    },
    {
      "cell_type": "markdown",
      "source": [
        "Esta parte se debe correr con el runtime en lenguaje **R** Ir al menu, Runtime -> Change Runtime Tipe -> Runtime type -> R"
      ],
      "metadata": {
        "id": "ivFiBBOQA2Ws"
      }
    },
    {
      "cell_type": "markdown",
      "source": [
        "limpio el ambiente de R"
      ],
      "metadata": {
        "id": "TMSAQDXuA2Ws"
      }
    },
    {
      "cell_type": "code",
      "source": [
        "# limpio la memoria\n",
        "rm(list=ls(all.names=TRUE)) # remove all objects\n",
        "gc(full=TRUE, verbose=FALSE) # garbage collection"
      ],
      "metadata": {
        "id": "eakzb8y2A2Wt",
        "outputId": "1ea6cca4-f2c2-40cb-caf2-91dedd3e83c4",
        "colab": {
          "base_uri": "https://localhost:8080/",
          "height": 129
        }
      },
      "execution_count": 34,
      "outputs": [
        {
          "output_type": "display_data",
          "data": {
            "text/html": [
              "<table class=\"dataframe\">\n",
              "<caption>A matrix: 2 × 6 of type dbl</caption>\n",
              "<thead>\n",
              "\t<tr><th></th><th scope=col>used</th><th scope=col>(Mb)</th><th scope=col>gc trigger</th><th scope=col>(Mb)</th><th scope=col>max used</th><th scope=col>(Mb)</th></tr>\n",
              "</thead>\n",
              "<tbody>\n",
              "\t<tr><th scope=row>Ncells</th><td> 747242</td><td>40.0</td><td>  1454471</td><td> 77.7</td><td>  1454471</td><td> 77.7</td></tr>\n",
              "\t<tr><th scope=row>Vcells</th><td>1420181</td><td>10.9</td><td>101951296</td><td>777.9</td><td>122316753</td><td>933.3</td></tr>\n",
              "</tbody>\n",
              "</table>\n"
            ],
            "text/markdown": "\nA matrix: 2 × 6 of type dbl\n\n| <!--/--> | used | (Mb) | gc trigger | (Mb) | max used | (Mb) |\n|---|---|---|---|---|---|---|\n| Ncells |  747242 | 40.0 |   1454471 |  77.7 |   1454471 |  77.7 |\n| Vcells | 1420181 | 10.9 | 101951296 | 777.9 | 122316753 | 933.3 |\n\n",
            "text/latex": "A matrix: 2 × 6 of type dbl\n\\begin{tabular}{r|llllll}\n  & used & (Mb) & gc trigger & (Mb) & max used & (Mb)\\\\\n\\hline\n\tNcells &  747242 & 40.0 &   1454471 &  77.7 &   1454471 &  77.7\\\\\n\tVcells & 1420181 & 10.9 & 101951296 & 777.9 & 122316753 & 933.3\\\\\n\\end{tabular}\n",
            "text/plain": [
              "       used    (Mb) gc trigger (Mb)  max used  (Mb) \n",
              "Ncells  747242 40.0   1454471   77.7   1454471  77.7\n",
              "Vcells 1420181 10.9 101951296  777.9 122316753 933.3"
            ]
          },
          "metadata": {}
        }
      ]
    },
    {
      "cell_type": "markdown",
      "source": [
        "* Instalacion de la libreria  rpart.plot  para dibujar el arbol\n",
        "* invocacion de las librerias  **data.table** y  **rpart**"
      ],
      "metadata": {
        "id": "559RkeYZA2Wv"
      }
    },
    {
      "cell_type": "code",
      "source": [
        "# cargo las librerias que necesito\n",
        "require(\"data.table\")\n",
        "require(\"rpart\")\n",
        "require(\"parallel\")"
      ],
      "metadata": {
        "id": "yf_S_HlsA2Wv",
        "outputId": "c5d5bb2f-47f8-4289-e737-e0862a3a708a",
        "colab": {
          "base_uri": "https://localhost:8080/"
        }
      },
      "execution_count": 35,
      "outputs": [
        {
          "output_type": "stream",
          "name": "stderr",
          "text": [
            "Loading required package: parallel\n",
            "\n"
          ]
        }
      ]
    },
    {
      "cell_type": "markdown",
      "source": [
        "###  Accion a Realizar\n",
        "PARAM$semillas  debe tener sus cinco semillas aleatorias"
      ],
      "metadata": {
        "id": "a4oz2ulCA2Ww"
      }
    },
    {
      "cell_type": "code",
      "source": [
        "PARAM <- list()\n",
        "PARAM$semillas <- c(123457,456791,678679,765241,876151)  # aqui debe ir sus CINCO\n",
        "PARAM$training_pct <- 70L  # entre  1L y 99L\n",
        "\n",
        "PARAM$rpart <- list (\n",
        "  \"cp\" = -1, # complejidad minima\n",
        "  \"minsplit\" = 170, # minima cantidad de regs en un nodo para hacer el split\n",
        "  \"minbucket\" = 70, # minima cantidad de regs en una hoja\n",
        "  \"maxdepth\" = 7 # profundidad máxima del arbol\n",
        ")\n"
      ],
      "metadata": {
        "id": "yQ2OAP5AA2Wx"
      },
      "execution_count": 36,
      "outputs": []
    },
    {
      "cell_type": "code",
      "source": [
        "# particionar agrega una columna llamada fold a un dataset\n",
        "#  que consiste en una particion estratificada segun agrupa\n",
        "\n",
        "# particionar( data=dataset, division=c(70,30),\n",
        "#  agrupa=clase_ternaria, seed=semilla)   crea una particion 70, 30\n",
        "\n",
        "particionar <- function(\n",
        "    data, division, agrupa = \"\",\n",
        "    campo = \"fold\", start = 1, seed = NA) {\n",
        "  if (!is.na(seed)) set.seed(seed)\n",
        "\n",
        "  bloque <- unlist(mapply(function(x, y) {\n",
        "    rep(y, x)\n",
        "  }, division, seq(from = start, length.out = length(division))))\n",
        "\n",
        "  data[, (campo) := sample(rep(bloque, ceiling(.N / length(bloque))))[1:.N],\n",
        "    by = agrupa\n",
        "  ]\n",
        "}\n"
      ],
      "metadata": {
        "id": "97dMCVJWA2Wy"
      },
      "execution_count": 37,
      "outputs": []
    },
    {
      "cell_type": "code",
      "source": [
        "\n",
        "ArbolEstimarGanancia <- function(semilla, param_basicos) {\n",
        "  # particiono estratificadamente el dataset\n",
        "  particionar(dataset,\n",
        "    division = c(param_basicos$training_pct, 100L -param_basicos$training_pct),\n",
        "    agrupa = \"clase_ternaria\",\n",
        "    seed = semilla # aqui se usa SU semilla\n",
        "  )\n",
        "\n",
        "  # genero el modelo\n",
        "  # predecir clase_ternaria a partir del resto\n",
        "  modelo <- rpart(\"clase_ternaria ~ .\",\n",
        "    data = dataset[fold == 1], # fold==1  es training,  el 70% de los datos\n",
        "    xval = 0,\n",
        "    control = param_basicos$rpart\n",
        "  ) # aqui van los parametros del arbol\n",
        "\n",
        "  # aplico el modelo a los datos de testing\n",
        "  prediccion <- predict(modelo, # el modelo que genere recien\n",
        "    dataset[fold == 2], # fold==2  es testing, el 30% de los datos\n",
        "    type = \"prob\"\n",
        "  ) # type= \"prob\"  es que devuelva la probabilidad\n",
        "\n",
        "  # prediccion es una matriz con TRES columnas,\n",
        "  #  llamadas \"BAJA+1\", \"BAJA+2\"  y \"CONTINUA\"\n",
        "  # cada columna es el vector de probabilidades\n",
        "\n",
        "\n",
        "  # calculo la ganancia en testing  qu es fold==2\n",
        "  ganancia_test <- dataset[\n",
        "    fold == 2,\n",
        "    sum(ifelse(prediccion[, \"BAJA+2\"] > 0.025,\n",
        "      ifelse(clase_ternaria == \"BAJA+2\", 117000, -3000),\n",
        "      0\n",
        "    ))\n",
        "  ]\n",
        "\n",
        "  # escalo la ganancia como si fuera todo el dataset\n",
        "  ganancia_test_normalizada <- ganancia_test / (( 100 - PARAM$training_pct ) / 100 )\n",
        "\n",
        "  return(list(\n",
        "    \"semilla\" = semilla,\n",
        "    \"testing\" = dataset[fold == 2, .N],\n",
        "    \"testing_pos\" = dataset[fold == 2 & clase_ternaria == \"BAJA+2\", .N],\n",
        "    \"envios\" = dataset[fold == 2, sum(prediccion[, \"BAJA+2\"] > 0.025)],\n",
        "    \"aciertos\" = dataset[\n",
        "        fold == 2,\n",
        "        sum(prediccion[, \"BAJA+2\"] > 0.025 & clase_ternaria == \"BAJA+2\")\n",
        "    ],\n",
        "    \"ganancia_test\" = ganancia_test_normalizada\n",
        "  ))\n",
        "}\n"
      ],
      "metadata": {
        "id": "GroZSZoVBuZ5"
      },
      "execution_count": 38,
      "outputs": []
    },
    {
      "cell_type": "code",
      "source": [
        "# carpeta de trabajo\n",
        "setwd(\"/content/buckets/b1/exp\")\n",
        "experimento <- \"exp202\"\n",
        "dir.create(experimento, showWarnings=FALSE)\n",
        "setwd( paste0(\"/content/buckets/b1/exp/\", experimento ))"
      ],
      "metadata": {
        "id": "dJIBIX6kA2Wy"
      },
      "execution_count": 39,
      "outputs": []
    },
    {
      "cell_type": "code",
      "source": [
        "# lectura del dataset\n",
        "dataset <- fread(\"/content/datasets/dataset_pequeno.csv\")\n",
        "\n",
        "# trabajo solo con los datos con clase, es decir 202107\n",
        "dataset <- dataset[clase_ternaria != \"\"]"
      ],
      "metadata": {
        "id": "tKiACdU2A2Wz"
      },
      "execution_count": 40,
      "outputs": []
    },
    {
      "cell_type": "code",
      "source": [
        "\n",
        "# la funcion mcmapply  llama a la funcion ArbolEstimarGanancia\n",
        "#  tantas veces como valores tenga el vector  PARAM$semillas\n",
        "salidas <- mcmapply(ArbolEstimarGanancia,\n",
        "  PARAM$semillas, # paso el vector de semillas\n",
        "  MoreArgs = list(PARAM), # aqui paso el segundo parametro\n",
        "  SIMPLIFY = FALSE,\n",
        "  mc.cores = detectCores()\n",
        ")\n",
        "\n",
        "# muestro la lista de las salidas en testing\n",
        "#  para la particion realizada con cada semilla\n",
        "salidas\n"
      ],
      "metadata": {
        "id": "64OdfeyxCMDF",
        "outputId": "48a163d4-6e61-449a-a833-2f4dcaf2b95b",
        "colab": {
          "base_uri": "https://localhost:8080/",
          "height": 1000
        }
      },
      "execution_count": 41,
      "outputs": [
        {
          "output_type": "display_data",
          "data": {
            "text/html": [
              "<ol>\n",
              "\t<li><dl>\n",
              "\t<dt>$semilla</dt>\n",
              "\t\t<dd>123457</dd>\n",
              "\t<dt>$testing</dt>\n",
              "\t\t<dd>49382</dd>\n",
              "\t<dt>$testing_pos</dt>\n",
              "\t\t<dd>377</dd>\n",
              "\t<dt>$envios</dt>\n",
              "\t\t<dd>3371</dd>\n",
              "\t<dt>$aciertos</dt>\n",
              "\t\t<dd>194</dd>\n",
              "\t<dt>$ganancia_test</dt>\n",
              "\t\t<dd>43890000</dd>\n",
              "</dl>\n",
              "</li>\n",
              "\t<li><dl>\n",
              "\t<dt>$semilla</dt>\n",
              "\t\t<dd>456791</dd>\n",
              "\t<dt>$testing</dt>\n",
              "\t\t<dd>49372</dd>\n",
              "\t<dt>$testing_pos</dt>\n",
              "\t\t<dd>367</dd>\n",
              "\t<dt>$envios</dt>\n",
              "\t\t<dd>3306</dd>\n",
              "\t<dt>$aciertos</dt>\n",
              "\t\t<dd>189</dd>\n",
              "\t<dt>$ganancia_test</dt>\n",
              "\t\t<dd>42540000</dd>\n",
              "</dl>\n",
              "</li>\n",
              "\t<li><dl>\n",
              "\t<dt>$semilla</dt>\n",
              "\t\t<dd>678679</dd>\n",
              "\t<dt>$testing</dt>\n",
              "\t\t<dd>49382</dd>\n",
              "\t<dt>$testing_pos</dt>\n",
              "\t\t<dd>375</dd>\n",
              "\t<dt>$envios</dt>\n",
              "\t\t<dd>3377</dd>\n",
              "\t<dt>$aciertos</dt>\n",
              "\t\t<dd>199</dd>\n",
              "\t<dt>$ganancia_test</dt>\n",
              "\t\t<dd>45830000</dd>\n",
              "</dl>\n",
              "</li>\n",
              "\t<li><dl>\n",
              "\t<dt>$semilla</dt>\n",
              "\t\t<dd>765241</dd>\n",
              "\t<dt>$testing</dt>\n",
              "\t\t<dd>49375</dd>\n",
              "\t<dt>$testing_pos</dt>\n",
              "\t\t<dd>366</dd>\n",
              "\t<dt>$envios</dt>\n",
              "\t\t<dd>4404</dd>\n",
              "\t<dt>$aciertos</dt>\n",
              "\t\t<dd>241</dd>\n",
              "\t<dt>$ganancia_test</dt>\n",
              "\t\t<dd>52360000</dd>\n",
              "</dl>\n",
              "</li>\n",
              "\t<li><dl>\n",
              "\t<dt>$semilla</dt>\n",
              "\t\t<dd>876151</dd>\n",
              "\t<dt>$testing</dt>\n",
              "\t\t<dd>49385</dd>\n",
              "\t<dt>$testing_pos</dt>\n",
              "\t\t<dd>374</dd>\n",
              "\t<dt>$envios</dt>\n",
              "\t\t<dd>3006</dd>\n",
              "\t<dt>$aciertos</dt>\n",
              "\t\t<dd>203</dd>\n",
              "\t<dt>$ganancia_test</dt>\n",
              "\t\t<dd>51140000</dd>\n",
              "</dl>\n",
              "</li>\n",
              "</ol>\n"
            ],
            "text/markdown": "1. $semilla\n:   123457\n$testing\n:   49382\n$testing_pos\n:   377\n$envios\n:   3371\n$aciertos\n:   194\n$ganancia_test\n:   43890000\n\n\n\n2. $semilla\n:   456791\n$testing\n:   49372\n$testing_pos\n:   367\n$envios\n:   3306\n$aciertos\n:   189\n$ganancia_test\n:   42540000\n\n\n\n3. $semilla\n:   678679\n$testing\n:   49382\n$testing_pos\n:   375\n$envios\n:   3377\n$aciertos\n:   199\n$ganancia_test\n:   45830000\n\n\n\n4. $semilla\n:   765241\n$testing\n:   49375\n$testing_pos\n:   366\n$envios\n:   4404\n$aciertos\n:   241\n$ganancia_test\n:   52360000\n\n\n\n5. $semilla\n:   876151\n$testing\n:   49385\n$testing_pos\n:   374\n$envios\n:   3006\n$aciertos\n:   203\n$ganancia_test\n:   51140000\n\n\n\n\n\n",
            "text/latex": "\\begin{enumerate}\n\\item \\begin{description}\n\\item[\\$semilla] 123457\n\\item[\\$testing] 49382\n\\item[\\$testing\\_pos] 377\n\\item[\\$envios] 3371\n\\item[\\$aciertos] 194\n\\item[\\$ganancia\\_test] 43890000\n\\end{description}\n\n\\item \\begin{description}\n\\item[\\$semilla] 456791\n\\item[\\$testing] 49372\n\\item[\\$testing\\_pos] 367\n\\item[\\$envios] 3306\n\\item[\\$aciertos] 189\n\\item[\\$ganancia\\_test] 42540000\n\\end{description}\n\n\\item \\begin{description}\n\\item[\\$semilla] 678679\n\\item[\\$testing] 49382\n\\item[\\$testing\\_pos] 375\n\\item[\\$envios] 3377\n\\item[\\$aciertos] 199\n\\item[\\$ganancia\\_test] 45830000\n\\end{description}\n\n\\item \\begin{description}\n\\item[\\$semilla] 765241\n\\item[\\$testing] 49375\n\\item[\\$testing\\_pos] 366\n\\item[\\$envios] 4404\n\\item[\\$aciertos] 241\n\\item[\\$ganancia\\_test] 52360000\n\\end{description}\n\n\\item \\begin{description}\n\\item[\\$semilla] 876151\n\\item[\\$testing] 49385\n\\item[\\$testing\\_pos] 374\n\\item[\\$envios] 3006\n\\item[\\$aciertos] 203\n\\item[\\$ganancia\\_test] 51140000\n\\end{description}\n\n\\end{enumerate}\n",
            "text/plain": [
              "[[1]]\n",
              "[[1]]$semilla\n",
              "[1] 123457\n",
              "\n",
              "[[1]]$testing\n",
              "[1] 49382\n",
              "\n",
              "[[1]]$testing_pos\n",
              "[1] 377\n",
              "\n",
              "[[1]]$envios\n",
              "[1] 3371\n",
              "\n",
              "[[1]]$aciertos\n",
              "[1] 194\n",
              "\n",
              "[[1]]$ganancia_test\n",
              "[1] 43890000\n",
              "\n",
              "\n",
              "[[2]]\n",
              "[[2]]$semilla\n",
              "[1] 456791\n",
              "\n",
              "[[2]]$testing\n",
              "[1] 49372\n",
              "\n",
              "[[2]]$testing_pos\n",
              "[1] 367\n",
              "\n",
              "[[2]]$envios\n",
              "[1] 3306\n",
              "\n",
              "[[2]]$aciertos\n",
              "[1] 189\n",
              "\n",
              "[[2]]$ganancia_test\n",
              "[1] 42540000\n",
              "\n",
              "\n",
              "[[3]]\n",
              "[[3]]$semilla\n",
              "[1] 678679\n",
              "\n",
              "[[3]]$testing\n",
              "[1] 49382\n",
              "\n",
              "[[3]]$testing_pos\n",
              "[1] 375\n",
              "\n",
              "[[3]]$envios\n",
              "[1] 3377\n",
              "\n",
              "[[3]]$aciertos\n",
              "[1] 199\n",
              "\n",
              "[[3]]$ganancia_test\n",
              "[1] 45830000\n",
              "\n",
              "\n",
              "[[4]]\n",
              "[[4]]$semilla\n",
              "[1] 765241\n",
              "\n",
              "[[4]]$testing\n",
              "[1] 49375\n",
              "\n",
              "[[4]]$testing_pos\n",
              "[1] 366\n",
              "\n",
              "[[4]]$envios\n",
              "[1] 4404\n",
              "\n",
              "[[4]]$aciertos\n",
              "[1] 241\n",
              "\n",
              "[[4]]$ganancia_test\n",
              "[1] 52360000\n",
              "\n",
              "\n",
              "[[5]]\n",
              "[[5]]$semilla\n",
              "[1] 876151\n",
              "\n",
              "[[5]]$testing\n",
              "[1] 49385\n",
              "\n",
              "[[5]]$testing_pos\n",
              "[1] 374\n",
              "\n",
              "[[5]]$envios\n",
              "[1] 3006\n",
              "\n",
              "[[5]]$aciertos\n",
              "[1] 203\n",
              "\n",
              "[[5]]$ganancia_test\n",
              "[1] 51140000\n",
              "\n"
            ]
          },
          "metadata": {}
        }
      ]
    },
    {
      "cell_type": "code",
      "source": [
        "# paso la lista a vector\n",
        "tb_salida <- rbindlist(salidas)\n",
        "print( tb_salida)"
      ],
      "metadata": {
        "id": "tML9VmH2ECFK",
        "outputId": "d3ad4a7c-c332-4885-ec74-422661abbbe6",
        "colab": {
          "base_uri": "https://localhost:8080/"
        }
      },
      "execution_count": 42,
      "outputs": [
        {
          "output_type": "stream",
          "name": "stdout",
          "text": [
            "   semilla testing testing_pos envios aciertos ganancia_test\n",
            "     <num>   <int>       <int>  <int>    <int>         <num>\n",
            "1:  123457   49382         377   3371      194      43890000\n",
            "2:  456791   49372         367   3306      189      42540000\n",
            "3:  678679   49382         375   3377      199      45830000\n",
            "4:  765241   49375         366   4404      241      52360000\n",
            "5:  876151   49385         374   3006      203      51140000\n"
          ]
        }
      ]
    },
    {
      "cell_type": "code",
      "source": [
        "# finalmente calculo la media (promedio)  de las ganancias\n",
        "cat( \"ganancia promedio: \", tb_salida[, mean(ganancia_test)], \"\\n\" )"
      ],
      "metadata": {
        "id": "rbHXPfoVENQB",
        "outputId": "f63936a2-e918-4a2a-a3a9-6657bdc3e2dd",
        "colab": {
          "base_uri": "https://localhost:8080/"
        }
      },
      "execution_count": 43,
      "outputs": [
        {
          "output_type": "stream",
          "name": "stdout",
          "text": [
            "ganancia promedio:  47152000 \n"
          ]
        }
      ]
    },
    {
      "cell_type": "markdown",
      "source": [
        "### Acciones a realizar\n",
        "* Reportar la  *Ganancia Promedio* <br> en la planilla colaborativa hoja  **C2-5sem**\n",
        "* Se discutirá en clase la variabilidad de estos \"ganancia promedio de cinco semillas\""
      ],
      "metadata": {
        "id": "_3xVH6UKA2W6"
      }
    },
    {
      "cell_type": "markdown",
      "source": [
        "\n",
        "\n",
        "---\n",
        "\n"
      ],
      "metadata": {
        "id": "N29m1XGpA2W7"
      }
    },
    {
      "cell_type": "markdown",
      "source": [
        "# 3  Generando n semillas en forma automatica\n",
        "## Clase 02  Experimento 3"
      ],
      "metadata": {
        "id": "zS7WIJciFGc6"
      }
    },
    {
      "cell_type": "markdown",
      "source": [
        "## 3.1  Objetivos\n",
        "Mostrar la creación de nuevas semillas a partir de la librería Primes"
      ],
      "metadata": {
        "id": "VmiFDDDJFUEo"
      }
    },
    {
      "cell_type": "markdown",
      "source": [
        "3.2  Código\n",
        "\n",
        "Como generar muchas semillas a partir de una"
      ],
      "metadata": {
        "id": "Ehe3VfdfFbvg"
      }
    },
    {
      "cell_type": "code",
      "source": [
        "# instalo y cargo la libreria  primes\n",
        "if (!require(\"primes\")) install.packages(\"primes\")\n",
        "require(\"primes\")"
      ],
      "metadata": {
        "id": "X6_dE42yF2-t"
      },
      "execution_count": 51,
      "outputs": []
    },
    {
      "cell_type": "code",
      "source": [
        "# genero numeros primos\n",
        "primos <- generate_primes(min = 100000, max = 1000000)\n",
        "\n",
        "\n",
        "set.seed(102191) # inicializo con mi primer semilla\n",
        "\n",
        "# me quedo con por ejemplo 20 primos al azar\n",
        "semillas <- sample(primos, 20 )\n",
        "\n",
        "print( semillas )"
      ],
      "metadata": {
        "id": "yDU9RyV4FNhZ",
        "outputId": "22919fdd-306e-48b7-febb-f255d778a057",
        "colab": {
          "base_uri": "https://localhost:8080/"
        }
      },
      "execution_count": 52,
      "outputs": [
        {
          "output_type": "stream",
          "name": "stdout",
          "text": [
            " [1] 378821 964333 187049 205151 813697 344719 127217 464371 645137 480803\n",
            "[11] 723319 314641 791599 937577 685649 619363 390539 465887 619657 195737\n"
          ]
        }
      ]
    },
    {
      "cell_type": "markdown",
      "source": [
        "\n",
        "\n",
        "---\n",
        "\n"
      ],
      "metadata": {
        "id": "eD_cO5VTGGea"
      }
    },
    {
      "cell_type": "code",
      "source": [],
      "metadata": {
        "id": "k-rgoA2ZFll4"
      },
      "execution_count": null,
      "outputs": []
    },
    {
      "cell_type": "markdown",
      "source": [
        "# 4  Medición  50-Monte Carlo Cross Validation\n",
        "## Clase 02  Experimento 4"
      ],
      "metadata": {
        "id": "cZi29THsGil_"
      }
    },
    {
      "cell_type": "markdown",
      "source": [
        "## 4.1  Objetivos\n",
        "Calcular la ganancia del modelo utilizando 50 semillas nuevas generadas a partir de mi semilla primigenia."
      ],
      "metadata": {
        "id": "qFNq6ntVGimN"
      }
    },
    {
      "cell_type": "markdown",
      "source": [
        "## 4.4 Codigo  50 Montecarlo"
      ],
      "metadata": {
        "id": "B6KtuhQCGimP"
      }
    },
    {
      "cell_type": "markdown",
      "source": [
        "Esta parte se debe correr con el runtime en lenguaje **R** Ir al menu, Runtime -> Change Runtime Tipe -> Runtime type -> R"
      ],
      "metadata": {
        "id": "LgGgjPQuGimP"
      }
    },
    {
      "cell_type": "markdown",
      "source": [
        "Este punto demora en correr 60 minutos en Google Colab, con lo cual para continuar con el punto siguiente deberá abrir un nuevo Colab"
      ],
      "metadata": {
        "id": "E82ChuO25OYx"
      }
    },
    {
      "cell_type": "markdown",
      "source": [
        "limpio el ambiente de R"
      ],
      "metadata": {
        "id": "a6AxqLwOGimQ"
      }
    },
    {
      "cell_type": "code",
      "source": [
        "# limpio la memoria\n",
        "rm(list=ls(all.names=TRUE)) # remove all objects\n",
        "gc(full=TRUE, verbose=FALSE) # garbage collection"
      ],
      "metadata": {
        "id": "797Ad0_QGimQ",
        "outputId": "bd97d390-a56e-490b-fd63-950c4c47a466",
        "colab": {
          "base_uri": "https://localhost:8080/",
          "height": 129
        }
      },
      "execution_count": 53,
      "outputs": [
        {
          "output_type": "display_data",
          "data": {
            "text/html": [
              "<table class=\"dataframe\">\n",
              "<caption>A matrix: 2 × 6 of type dbl</caption>\n",
              "<thead>\n",
              "\t<tr><th></th><th scope=col>used</th><th scope=col>(Mb)</th><th scope=col>gc trigger</th><th scope=col>(Mb)</th><th scope=col>max used</th><th scope=col>(Mb)</th></tr>\n",
              "</thead>\n",
              "<tbody>\n",
              "\t<tr><th scope=row>Ncells</th><td> 834064</td><td>44.6</td><td> 1454471</td><td> 77.7</td><td>  1454471</td><td> 77.7</td></tr>\n",
              "\t<tr><th scope=row>Vcells</th><td>1568489</td><td>12.0</td><td>65248830</td><td>497.9</td><td>122316753</td><td>933.3</td></tr>\n",
              "</tbody>\n",
              "</table>\n"
            ],
            "text/markdown": "\nA matrix: 2 × 6 of type dbl\n\n| <!--/--> | used | (Mb) | gc trigger | (Mb) | max used | (Mb) |\n|---|---|---|---|---|---|---|\n| Ncells |  834064 | 44.6 |  1454471 |  77.7 |   1454471 |  77.7 |\n| Vcells | 1568489 | 12.0 | 65248830 | 497.9 | 122316753 | 933.3 |\n\n",
            "text/latex": "A matrix: 2 × 6 of type dbl\n\\begin{tabular}{r|llllll}\n  & used & (Mb) & gc trigger & (Mb) & max used & (Mb)\\\\\n\\hline\n\tNcells &  834064 & 44.6 &  1454471 &  77.7 &   1454471 &  77.7\\\\\n\tVcells & 1568489 & 12.0 & 65248830 & 497.9 & 122316753 & 933.3\\\\\n\\end{tabular}\n",
            "text/plain": [
              "       used    (Mb) gc trigger (Mb)  max used  (Mb) \n",
              "Ncells  834064 44.6  1454471    77.7   1454471  77.7\n",
              "Vcells 1568489 12.0 65248830   497.9 122316753 933.3"
            ]
          },
          "metadata": {}
        }
      ]
    },
    {
      "cell_type": "markdown",
      "source": [
        "* Instalacion de la libreria  rpart.plot  para dibujar el arbol\n",
        "* invocacion de las librerias  **data.table** y  **rpart**"
      ],
      "metadata": {
        "id": "v0CepvbjGimQ"
      }
    },
    {
      "cell_type": "code",
      "source": [
        "# cargo las librerias que necesito\n",
        "require(\"data.table\")\n",
        "require(\"rpart\")\n",
        "require(\"parallel\")\n",
        "\n",
        "if (!require(\"primes\")) install.packages(\"primes\")\n",
        "require(\"primes\")"
      ],
      "metadata": {
        "id": "CRkZ1V2_GimR"
      },
      "execution_count": 54,
      "outputs": []
    },
    {
      "cell_type": "markdown",
      "source": [
        "###  Accion a Realizar\n",
        "PARAM$semilla_primigenia  debe reemplazarse por SU primer semilla"
      ],
      "metadata": {
        "id": "PZKJG-nSGimR"
      }
    },
    {
      "cell_type": "code",
      "source": [
        "PARAM <- list()\n",
        "PARAM$semilla_primigenia <- 123457\n",
        "PARAM$qsemillas <- 50\n",
        "PARAM$training_pct <- 70L  # entre  1L y 99L\n",
        "\n",
        "PARAM$rpart <- list (\n",
        "  \"cp\" = -1, # complejidad minima\n",
        "  \"minsplit\" = 170, # minima cantidad de regs en un nodo para hacer el split\n",
        "  \"minbucket\" = 70, # minima cantidad de regs en una hoja\n",
        "  \"maxdepth\" = 7 # profundidad máxima del arbol\n",
        ")\n"
      ],
      "metadata": {
        "id": "4kbkA-2HGimR"
      },
      "execution_count": 55,
      "outputs": []
    },
    {
      "cell_type": "code",
      "source": [
        "# particionar agrega una columna llamada fold a un dataset\n",
        "#  que consiste en una particion estratificada segun agrupa\n",
        "\n",
        "# particionar( data=dataset, division=c(70,30),\n",
        "#  agrupa=clase_ternaria, seed=semilla)   crea una particion 70, 30\n",
        "\n",
        "particionar <- function(\n",
        "    data, division, agrupa = \"\",\n",
        "    campo = \"fold\", start = 1, seed = NA) {\n",
        "  if (!is.na(seed)) set.seed(seed)\n",
        "\n",
        "  bloque <- unlist(mapply(function(x, y) {\n",
        "    rep(y, x)\n",
        "  }, division, seq(from = start, length.out = length(division))))\n",
        "\n",
        "  data[, (campo) := sample(rep(bloque, ceiling(.N / length(bloque))))[1:.N],\n",
        "    by = agrupa\n",
        "  ]\n",
        "}\n"
      ],
      "metadata": {
        "id": "HME0qUeOGimS"
      },
      "execution_count": 56,
      "outputs": []
    },
    {
      "cell_type": "code",
      "source": [
        "\n",
        "ArbolEstimarGanancia <- function(semilla, param_basicos) {\n",
        "  # particiono estratificadamente el dataset\n",
        "  particionar(dataset,\n",
        "    division = c(param_basicos$training_pct, 100L -param_basicos$training_pct),\n",
        "    agrupa = \"clase_ternaria\",\n",
        "    seed = semilla # aqui se usa SU semilla\n",
        "  )\n",
        "\n",
        "  # genero el modelo\n",
        "  # predecir clase_ternaria a partir del resto\n",
        "  modelo <- rpart(\"clase_ternaria ~ .\",\n",
        "    data = dataset[fold == 1], # fold==1  es training,  el 70% de los datos\n",
        "    xval = 0,\n",
        "    control = param_basicos$rpart\n",
        "  ) # aqui van los parametros del arbol\n",
        "\n",
        "  # aplico el modelo a los datos de testing\n",
        "  prediccion <- predict(modelo, # el modelo que genere recien\n",
        "    dataset[fold == 2], # fold==2  es testing, el 30% de los datos\n",
        "    type = \"prob\"\n",
        "  ) # type= \"prob\"  es que devuelva la probabilidad\n",
        "\n",
        "  # prediccion es una matriz con TRES columnas,\n",
        "  #  llamadas \"BAJA+1\", \"BAJA+2\"  y \"CONTINUA\"\n",
        "  # cada columna es el vector de probabilidades\n",
        "\n",
        "\n",
        "  # calculo la ganancia en testing  qu es fold==2\n",
        "  ganancia_test <- dataset[\n",
        "    fold == 2,\n",
        "    sum(ifelse(prediccion[, \"BAJA+2\"] > 0.025,\n",
        "      ifelse(clase_ternaria == \"BAJA+2\", 117000, -3000),\n",
        "      0\n",
        "    ))\n",
        "  ]\n",
        "\n",
        "  # escalo la ganancia como si fuera todo el dataset\n",
        "  ganancia_test_normalizada <- ganancia_test / (( 100 - PARAM$training_pct ) / 100 )\n",
        "\n",
        "  return(list(\n",
        "    \"semilla\" = semilla,\n",
        "    \"testing\" = dataset[fold == 2, .N],\n",
        "    \"testing_pos\" = dataset[fold == 2 & clase_ternaria == \"BAJA+2\", .N],\n",
        "    \"envios\" = dataset[fold == 2, sum(prediccion[, \"BAJA+2\"] > 0.025)],\n",
        "    \"aciertos\" = dataset[\n",
        "        fold == 2,\n",
        "        sum(prediccion[, \"BAJA+2\"] > 0.025 & clase_ternaria == \"BAJA+2\")\n",
        "    ],\n",
        "    \"ganancia_test\" = ganancia_test_normalizada\n",
        "  ))\n",
        "}\n"
      ],
      "metadata": {
        "id": "ro9Ufoi-GimS"
      },
      "execution_count": 57,
      "outputs": []
    },
    {
      "cell_type": "code",
      "source": [
        "# carpeta de trabajo\n",
        "setwd(\"/content/buckets/b1/exp\")\n",
        "experimento <- \"exp204\"\n",
        "dir.create(experimento, showWarnings=FALSE)\n",
        "setwd( paste0(\"/content/buckets/b1/exp/\", experimento ))"
      ],
      "metadata": {
        "id": "gz7LgltwGimT"
      },
      "execution_count": 58,
      "outputs": []
    },
    {
      "cell_type": "code",
      "source": [
        "# lectura del dataset\n",
        "dataset <- fread(\"/content/datasets/dataset_pequeno.csv\")\n",
        "\n",
        "# trabajo solo con los datos con clase, es decir 202107\n",
        "dataset <- dataset[clase_ternaria != \"\"]"
      ],
      "metadata": {
        "id": "xRXKHeLeGimT"
      },
      "execution_count": 59,
      "outputs": []
    },
    {
      "cell_type": "code",
      "source": [
        "# genero numeros primos\n",
        "primos <- generate_primes(min = 100000, max = 1000000)\n",
        "set.seed(PARAM$semilla_primigenia) # inicializo\n",
        "\n",
        "# me quedo con PARAM$qsemillas   semillas\n",
        "PARAM$semillas <- sample(primos, PARAM$qsemillas )"
      ],
      "metadata": {
        "id": "MdpZ10qiHSZy"
      },
      "execution_count": 60,
      "outputs": []
    },
    {
      "cell_type": "code",
      "source": [
        "\n",
        "# la funcion mcmapply  llama a la funcion ArbolEstimarGanancia\n",
        "#  tantas veces como valores tenga el vector  PARAM$semillas\n",
        "salidas <- mcmapply(ArbolEstimarGanancia,\n",
        "  PARAM$semillas, # paso el vector de semillas\n",
        "  MoreArgs = list(PARAM), # aqui paso el segundo parametro\n",
        "  SIMPLIFY = FALSE,\n",
        "  mc.cores = detectCores()\n",
        ")\n",
        "\n",
        "# muestro la lista de las salidas en testing\n",
        "#  para la particion realizada con cada semilla\n",
        "salidas\n"
      ],
      "metadata": {
        "id": "r-YaawpgGimU",
        "outputId": "08fe58b5-a967-4478-bd8b-3b08881121a1",
        "colab": {
          "base_uri": "https://localhost:8080/",
          "height": 1000
        }
      },
      "execution_count": 61,
      "outputs": [
        {
          "output_type": "display_data",
          "data": {
            "text/html": [
              "<ol>\n",
              "\t<li><dl>\n",
              "\t<dt>$semilla</dt>\n",
              "\t\t<dd>139747</dd>\n",
              "\t<dt>$testing</dt>\n",
              "\t\t<dd>49383</dd>\n",
              "\t<dt>$testing_pos</dt>\n",
              "\t\t<dd>375</dd>\n",
              "\t<dt>$envios</dt>\n",
              "\t\t<dd>3587</dd>\n",
              "\t<dt>$aciertos</dt>\n",
              "\t\t<dd>207</dd>\n",
              "\t<dt>$ganancia_test</dt>\n",
              "\t\t<dd>46930000</dd>\n",
              "</dl>\n",
              "</li>\n",
              "\t<li><dl>\n",
              "\t<dt>$semilla</dt>\n",
              "\t\t<dd>736657</dd>\n",
              "\t<dt>$testing</dt>\n",
              "\t\t<dd>49378</dd>\n",
              "\t<dt>$testing_pos</dt>\n",
              "\t\t<dd>376</dd>\n",
              "\t<dt>$envios</dt>\n",
              "\t\t<dd>3450</dd>\n",
              "\t<dt>$aciertos</dt>\n",
              "\t\t<dd>198</dd>\n",
              "\t<dt>$ganancia_test</dt>\n",
              "\t\t<dd>44700000</dd>\n",
              "</dl>\n",
              "</li>\n",
              "\t<li><dl>\n",
              "\t<dt>$semilla</dt>\n",
              "\t\t<dd>248231</dd>\n",
              "\t<dt>$testing</dt>\n",
              "\t\t<dd>49381</dd>\n",
              "\t<dt>$testing_pos</dt>\n",
              "\t\t<dd>372</dd>\n",
              "\t<dt>$envios</dt>\n",
              "\t\t<dd>3824</dd>\n",
              "\t<dt>$aciertos</dt>\n",
              "\t\t<dd>215</dd>\n",
              "\t<dt>$ganancia_test</dt>\n",
              "\t\t<dd>47760000</dd>\n",
              "</dl>\n",
              "</li>\n",
              "\t<li><dl>\n",
              "\t<dt>$semilla</dt>\n",
              "\t\t<dd>565603</dd>\n",
              "\t<dt>$testing</dt>\n",
              "\t\t<dd>49383</dd>\n",
              "\t<dt>$testing_pos</dt>\n",
              "\t\t<dd>376</dd>\n",
              "\t<dt>$envios</dt>\n",
              "\t\t<dd>3601</dd>\n",
              "\t<dt>$aciertos</dt>\n",
              "\t\t<dd>205</dd>\n",
              "\t<dt>$ganancia_test</dt>\n",
              "\t\t<dd>45990000</dd>\n",
              "</dl>\n",
              "</li>\n",
              "\t<li><dl>\n",
              "\t<dt>$semilla</dt>\n",
              "\t\t<dd>104729</dd>\n",
              "\t<dt>$testing</dt>\n",
              "\t\t<dd>49386</dd>\n",
              "\t<dt>$testing_pos</dt>\n",
              "\t\t<dd>378</dd>\n",
              "\t<dt>$envios</dt>\n",
              "\t\t<dd>3311</dd>\n",
              "\t<dt>$aciertos</dt>\n",
              "\t\t<dd>197</dd>\n",
              "\t<dt>$ganancia_test</dt>\n",
              "\t\t<dd>45690000</dd>\n",
              "</dl>\n",
              "</li>\n",
              "\t<li><dl>\n",
              "\t<dt>$semilla</dt>\n",
              "\t\t<dd>521357</dd>\n",
              "\t<dt>$testing</dt>\n",
              "\t\t<dd>49386</dd>\n",
              "\t<dt>$testing_pos</dt>\n",
              "\t\t<dd>373</dd>\n",
              "\t<dt>$envios</dt>\n",
              "\t\t<dd>3825</dd>\n",
              "\t<dt>$aciertos</dt>\n",
              "\t\t<dd>216</dd>\n",
              "\t<dt>$ganancia_test</dt>\n",
              "\t\t<dd>48150000</dd>\n",
              "</dl>\n",
              "</li>\n",
              "\t<li><dl>\n",
              "\t<dt>$semilla</dt>\n",
              "\t\t<dd>325571</dd>\n",
              "\t<dt>$testing</dt>\n",
              "\t\t<dd>49378</dd>\n",
              "\t<dt>$testing_pos</dt>\n",
              "\t\t<dd>377</dd>\n",
              "\t<dt>$envios</dt>\n",
              "\t\t<dd>3696</dd>\n",
              "\t<dt>$aciertos</dt>\n",
              "\t\t<dd>199</dd>\n",
              "\t<dt>$ganancia_test</dt>\n",
              "\t\t<dd>42640000</dd>\n",
              "</dl>\n",
              "</li>\n",
              "\t<li><dl>\n",
              "\t<dt>$semilla</dt>\n",
              "\t\t<dd>652189</dd>\n",
              "\t<dt>$testing</dt>\n",
              "\t\t<dd>49379</dd>\n",
              "\t<dt>$testing_pos</dt>\n",
              "\t\t<dd>373</dd>\n",
              "\t<dt>$envios</dt>\n",
              "\t\t<dd>3598</dd>\n",
              "\t<dt>$aciertos</dt>\n",
              "\t\t<dd>207</dd>\n",
              "\t<dt>$ganancia_test</dt>\n",
              "\t\t<dd>46820000</dd>\n",
              "</dl>\n",
              "</li>\n",
              "\t<li><dl>\n",
              "\t<dt>$semilla</dt>\n",
              "\t\t<dd>397259</dd>\n",
              "\t<dt>$testing</dt>\n",
              "\t\t<dd>49387</dd>\n",
              "\t<dt>$testing_pos</dt>\n",
              "\t\t<dd>374</dd>\n",
              "\t<dt>$envios</dt>\n",
              "\t\t<dd>3916</dd>\n",
              "\t<dt>$aciertos</dt>\n",
              "\t\t<dd>212</dd>\n",
              "\t<dt>$ganancia_test</dt>\n",
              "\t\t<dd>45640000</dd>\n",
              "</dl>\n",
              "</li>\n",
              "\t<li><dl>\n",
              "\t<dt>$semilla</dt>\n",
              "\t\t<dd>882877</dd>\n",
              "\t<dt>$testing</dt>\n",
              "\t\t<dd>49378</dd>\n",
              "\t<dt>$testing_pos</dt>\n",
              "\t\t<dd>375</dd>\n",
              "\t<dt>$envios</dt>\n",
              "\t\t<dd>3821</dd>\n",
              "\t<dt>$aciertos</dt>\n",
              "\t\t<dd>228</dd>\n",
              "\t<dt>$ganancia_test</dt>\n",
              "\t\t<dd>52990000</dd>\n",
              "</dl>\n",
              "</li>\n",
              "\t<li><dl>\n",
              "\t<dt>$semilla</dt>\n",
              "\t\t<dd>475619</dd>\n",
              "\t<dt>$testing</dt>\n",
              "\t\t<dd>49381</dd>\n",
              "\t<dt>$testing_pos</dt>\n",
              "\t\t<dd>373</dd>\n",
              "\t<dt>$envios</dt>\n",
              "\t\t<dd>3451</dd>\n",
              "\t<dt>$aciertos</dt>\n",
              "\t\t<dd>220</dd>\n",
              "\t<dt>$ganancia_test</dt>\n",
              "\t\t<dd>53490000</dd>\n",
              "</dl>\n",
              "</li>\n",
              "\t<li><dl>\n",
              "\t<dt>$semilla</dt>\n",
              "\t\t<dd>967507</dd>\n",
              "\t<dt>$testing</dt>\n",
              "\t\t<dd>49372</dd>\n",
              "\t<dt>$testing_pos</dt>\n",
              "\t\t<dd>369</dd>\n",
              "\t<dt>$envios</dt>\n",
              "\t\t<dd>2783</dd>\n",
              "\t<dt>$aciertos</dt>\n",
              "\t\t<dd>199</dd>\n",
              "\t<dt>$ganancia_test</dt>\n",
              "\t\t<dd>51770000</dd>\n",
              "</dl>\n",
              "</li>\n",
              "\t<li><dl>\n",
              "\t<dt>$semilla</dt>\n",
              "\t\t<dd>958967</dd>\n",
              "\t<dt>$testing</dt>\n",
              "\t\t<dd>49377</dd>\n",
              "\t<dt>$testing_pos</dt>\n",
              "\t\t<dd>377</dd>\n",
              "\t<dt>$envios</dt>\n",
              "\t\t<dd>3811</dd>\n",
              "\t<dt>$aciertos</dt>\n",
              "\t\t<dd>220</dd>\n",
              "\t<dt>$ganancia_test</dt>\n",
              "\t\t<dd>49890000</dd>\n",
              "</dl>\n",
              "</li>\n",
              "\t<li><dl>\n",
              "\t<dt>$semilla</dt>\n",
              "\t\t<dd>526837</dd>\n",
              "\t<dt>$testing</dt>\n",
              "\t\t<dd>49374</dd>\n",
              "\t<dt>$testing_pos</dt>\n",
              "\t\t<dd>375</dd>\n",
              "\t<dt>$envios</dt>\n",
              "\t\t<dd>2905</dd>\n",
              "\t<dt>$aciertos</dt>\n",
              "\t\t<dd>177</dd>\n",
              "\t<dt>$ganancia_test</dt>\n",
              "\t\t<dd>41750000</dd>\n",
              "</dl>\n",
              "</li>\n",
              "\t<li><dl>\n",
              "\t<dt>$semilla</dt>\n",
              "\t\t<dd>100279</dd>\n",
              "\t<dt>$testing</dt>\n",
              "\t\t<dd>49382</dd>\n",
              "\t<dt>$testing_pos</dt>\n",
              "\t\t<dd>369</dd>\n",
              "\t<dt>$envios</dt>\n",
              "\t\t<dd>3359</dd>\n",
              "\t<dt>$aciertos</dt>\n",
              "\t\t<dd>203</dd>\n",
              "\t<dt>$ganancia_test</dt>\n",
              "\t\t<dd>47610000</dd>\n",
              "</dl>\n",
              "</li>\n",
              "\t<li><dl>\n",
              "\t<dt>$semilla</dt>\n",
              "\t\t<dd>127747</dd>\n",
              "\t<dt>$testing</dt>\n",
              "\t\t<dd>49377</dd>\n",
              "\t<dt>$testing_pos</dt>\n",
              "\t\t<dd>376</dd>\n",
              "\t<dt>$envios</dt>\n",
              "\t\t<dd>3134</dd>\n",
              "\t<dt>$aciertos</dt>\n",
              "\t\t<dd>199</dd>\n",
              "\t<dt>$ganancia_test</dt>\n",
              "\t\t<dd>48260000</dd>\n",
              "</dl>\n",
              "</li>\n",
              "\t<li><dl>\n",
              "\t<dt>$semilla</dt>\n",
              "\t\t<dd>917461</dd>\n",
              "\t<dt>$testing</dt>\n",
              "\t\t<dd>49378</dd>\n",
              "\t<dt>$testing_pos</dt>\n",
              "\t\t<dd>375</dd>\n",
              "\t<dt>$envios</dt>\n",
              "\t\t<dd>2630</dd>\n",
              "\t<dt>$aciertos</dt>\n",
              "\t\t<dd>186</dd>\n",
              "\t<dt>$ganancia_test</dt>\n",
              "\t\t<dd>48100000</dd>\n",
              "</dl>\n",
              "</li>\n",
              "\t<li><dl>\n",
              "\t<dt>$semilla</dt>\n",
              "\t\t<dd>883517</dd>\n",
              "\t<dt>$testing</dt>\n",
              "\t\t<dd>49380</dd>\n",
              "\t<dt>$testing_pos</dt>\n",
              "\t\t<dd>379</dd>\n",
              "\t<dt>$envios</dt>\n",
              "\t\t<dd>3400</dd>\n",
              "\t<dt>$aciertos</dt>\n",
              "\t\t<dd>214</dd>\n",
              "\t<dt>$ganancia_test</dt>\n",
              "\t\t<dd>51600000</dd>\n",
              "</dl>\n",
              "</li>\n",
              "\t<li><dl>\n",
              "\t<dt>$semilla</dt>\n",
              "\t\t<dd>620233</dd>\n",
              "\t<dt>$testing</dt>\n",
              "\t\t<dd>49379</dd>\n",
              "\t<dt>$testing_pos</dt>\n",
              "\t\t<dd>376</dd>\n",
              "\t<dt>$envios</dt>\n",
              "\t\t<dd>4228</dd>\n",
              "\t<dt>$aciertos</dt>\n",
              "\t\t<dd>233</dd>\n",
              "\t<dt>$ganancia_test</dt>\n",
              "\t\t<dd>50920000</dd>\n",
              "</dl>\n",
              "</li>\n",
              "\t<li><dl>\n",
              "\t<dt>$semilla</dt>\n",
              "\t\t<dd>251191</dd>\n",
              "\t<dt>$testing</dt>\n",
              "\t\t<dd>49381</dd>\n",
              "\t<dt>$testing_pos</dt>\n",
              "\t\t<dd>375</dd>\n",
              "\t<dt>$envios</dt>\n",
              "\t\t<dd>3557</dd>\n",
              "\t<dt>$aciertos</dt>\n",
              "\t\t<dd>203</dd>\n",
              "\t<dt>$ganancia_test</dt>\n",
              "\t\t<dd>45630000</dd>\n",
              "</dl>\n",
              "</li>\n",
              "\t<li><dl>\n",
              "\t<dt>$semilla</dt>\n",
              "\t\t<dd>918733</dd>\n",
              "\t<dt>$testing</dt>\n",
              "\t\t<dd>49368</dd>\n",
              "\t<dt>$testing_pos</dt>\n",
              "\t\t<dd>374</dd>\n",
              "\t<dt>$envios</dt>\n",
              "\t\t<dd>2919</dd>\n",
              "\t<dt>$aciertos</dt>\n",
              "\t\t<dd>194</dd>\n",
              "\t<dt>$ganancia_test</dt>\n",
              "\t\t<dd>48410000</dd>\n",
              "</dl>\n",
              "</li>\n",
              "\t<li><dl>\n",
              "\t<dt>$semilla</dt>\n",
              "\t\t<dd>408413</dd>\n",
              "\t<dt>$testing</dt>\n",
              "\t\t<dd>49370</dd>\n",
              "\t<dt>$testing_pos</dt>\n",
              "\t\t<dd>370</dd>\n",
              "\t<dt>$envios</dt>\n",
              "\t\t<dd>3200</dd>\n",
              "\t<dt>$aciertos</dt>\n",
              "\t\t<dd>202</dd>\n",
              "\t<dt>$ganancia_test</dt>\n",
              "\t\t<dd>48800000</dd>\n",
              "</dl>\n",
              "</li>\n",
              "\t<li><dl>\n",
              "\t<dt>$semilla</dt>\n",
              "\t\t<dd>627119</dd>\n",
              "\t<dt>$testing</dt>\n",
              "\t\t<dd>49378</dd>\n",
              "\t<dt>$testing_pos</dt>\n",
              "\t\t<dd>373</dd>\n",
              "\t<dt>$envios</dt>\n",
              "\t\t<dd>3873</dd>\n",
              "\t<dt>$aciertos</dt>\n",
              "\t\t<dd>216</dd>\n",
              "\t<dt>$ganancia_test</dt>\n",
              "\t\t<dd>47670000</dd>\n",
              "</dl>\n",
              "</li>\n",
              "\t<li><dl>\n",
              "\t<dt>$semilla</dt>\n",
              "\t\t<dd>942437</dd>\n",
              "\t<dt>$testing</dt>\n",
              "\t\t<dd>49379</dd>\n",
              "\t<dt>$testing_pos</dt>\n",
              "\t\t<dd>373</dd>\n",
              "\t<dt>$envios</dt>\n",
              "\t\t<dd>3335</dd>\n",
              "\t<dt>$aciertos</dt>\n",
              "\t\t<dd>202</dd>\n",
              "\t<dt>$ganancia_test</dt>\n",
              "\t\t<dd>47450000</dd>\n",
              "</dl>\n",
              "</li>\n",
              "\t<li><dl>\n",
              "\t<dt>$semilla</dt>\n",
              "\t\t<dd>900233</dd>\n",
              "\t<dt>$testing</dt>\n",
              "\t\t<dd>49381</dd>\n",
              "\t<dt>$testing_pos</dt>\n",
              "\t\t<dd>376</dd>\n",
              "\t<dt>$envios</dt>\n",
              "\t\t<dd>3243</dd>\n",
              "\t<dt>$aciertos</dt>\n",
              "\t\t<dd>202</dd>\n",
              "\t<dt>$ganancia_test</dt>\n",
              "\t\t<dd>48370000</dd>\n",
              "</dl>\n",
              "</li>\n",
              "\t<li><dl>\n",
              "\t<dt>$semilla</dt>\n",
              "\t\t<dd>305047</dd>\n",
              "\t<dt>$testing</dt>\n",
              "\t\t<dd>49375</dd>\n",
              "\t<dt>$testing_pos</dt>\n",
              "\t\t<dd>370</dd>\n",
              "\t<dt>$envios</dt>\n",
              "\t\t<dd>3125</dd>\n",
              "\t<dt>$aciertos</dt>\n",
              "\t\t<dd>199</dd>\n",
              "\t<dt>$ganancia_test</dt>\n",
              "\t\t<dd>48350000</dd>\n",
              "</dl>\n",
              "</li>\n",
              "\t<li><dl>\n",
              "\t<dt>$semilla</dt>\n",
              "\t\t<dd>115981</dd>\n",
              "\t<dt>$testing</dt>\n",
              "\t\t<dd>49388</dd>\n",
              "\t<dt>$testing_pos</dt>\n",
              "\t\t<dd>375</dd>\n",
              "\t<dt>$envios</dt>\n",
              "\t\t<dd>3652</dd>\n",
              "\t<dt>$aciertos</dt>\n",
              "\t\t<dd>210</dd>\n",
              "\t<dt>$ganancia_test</dt>\n",
              "\t\t<dd>47480000</dd>\n",
              "</dl>\n",
              "</li>\n",
              "\t<li><dl>\n",
              "\t<dt>$semilla</dt>\n",
              "\t\t<dd>541249</dd>\n",
              "\t<dt>$testing</dt>\n",
              "\t\t<dd>49377</dd>\n",
              "\t<dt>$testing_pos</dt>\n",
              "\t\t<dd>379</dd>\n",
              "\t<dt>$envios</dt>\n",
              "\t\t<dd>2995</dd>\n",
              "\t<dt>$aciertos</dt>\n",
              "\t\t<dd>210</dd>\n",
              "\t<dt>$ganancia_test</dt>\n",
              "\t\t<dd>54050000</dd>\n",
              "</dl>\n",
              "</li>\n",
              "\t<li><dl>\n",
              "\t<dt>$semilla</dt>\n",
              "\t\t<dd>623537</dd>\n",
              "\t<dt>$testing</dt>\n",
              "\t\t<dd>49379</dd>\n",
              "\t<dt>$testing_pos</dt>\n",
              "\t\t<dd>377</dd>\n",
              "\t<dt>$envios</dt>\n",
              "\t\t<dd>3457</dd>\n",
              "\t<dt>$aciertos</dt>\n",
              "\t\t<dd>201</dd>\n",
              "\t<dt>$ganancia_test</dt>\n",
              "\t\t<dd>45830000</dd>\n",
              "</dl>\n",
              "</li>\n",
              "\t<li><dl>\n",
              "\t<dt>$semilla</dt>\n",
              "\t\t<dd>215461</dd>\n",
              "\t<dt>$testing</dt>\n",
              "\t\t<dd>49380</dd>\n",
              "\t<dt>$testing_pos</dt>\n",
              "\t\t<dd>378</dd>\n",
              "\t<dt>$envios</dt>\n",
              "\t\t<dd>2738</dd>\n",
              "\t<dt>$aciertos</dt>\n",
              "\t\t<dd>192</dd>\n",
              "\t<dt>$ganancia_test</dt>\n",
              "\t\t<dd>49420000</dd>\n",
              "</dl>\n",
              "</li>\n",
              "\t<li><dl>\n",
              "\t<dt>$semilla</dt>\n",
              "\t\t<dd>559679</dd>\n",
              "\t<dt>$testing</dt>\n",
              "\t\t<dd>49383</dd>\n",
              "\t<dt>$testing_pos</dt>\n",
              "\t\t<dd>376</dd>\n",
              "\t<dt>$envios</dt>\n",
              "\t\t<dd>3383</dd>\n",
              "\t<dt>$aciertos</dt>\n",
              "\t\t<dd>215</dd>\n",
              "\t<dt>$ganancia_test</dt>\n",
              "\t\t<dd>52170000</dd>\n",
              "</dl>\n",
              "</li>\n",
              "\t<li><dl>\n",
              "\t<dt>$semilla</dt>\n",
              "\t\t<dd>213149</dd>\n",
              "\t<dt>$testing</dt>\n",
              "\t\t<dd>49388</dd>\n",
              "\t<dt>$testing_pos</dt>\n",
              "\t\t<dd>374</dd>\n",
              "\t<dt>$envios</dt>\n",
              "\t\t<dd>2866</dd>\n",
              "\t<dt>$aciertos</dt>\n",
              "\t\t<dd>189</dd>\n",
              "\t<dt>$ganancia_test</dt>\n",
              "\t\t<dd>46940000</dd>\n",
              "</dl>\n",
              "</li>\n",
              "\t<li><dl>\n",
              "\t<dt>$semilla</dt>\n",
              "\t\t<dd>335089</dd>\n",
              "\t<dt>$testing</dt>\n",
              "\t\t<dd>49389</dd>\n",
              "\t<dt>$testing_pos</dt>\n",
              "\t\t<dd>377</dd>\n",
              "\t<dt>$envios</dt>\n",
              "\t\t<dd>3292</dd>\n",
              "\t<dt>$aciertos</dt>\n",
              "\t\t<dd>202</dd>\n",
              "\t<dt>$ganancia_test</dt>\n",
              "\t\t<dd>47880000</dd>\n",
              "</dl>\n",
              "</li>\n",
              "\t<li><dl>\n",
              "\t<dt>$semilla</dt>\n",
              "\t\t<dd>898987</dd>\n",
              "\t<dt>$testing</dt>\n",
              "\t\t<dd>49379</dd>\n",
              "\t<dt>$testing_pos</dt>\n",
              "\t\t<dd>372</dd>\n",
              "\t<dt>$envios</dt>\n",
              "\t\t<dd>3785</dd>\n",
              "\t<dt>$aciertos</dt>\n",
              "\t\t<dd>221</dd>\n",
              "\t<dt>$ganancia_test</dt>\n",
              "\t\t<dd>50550000</dd>\n",
              "</dl>\n",
              "</li>\n",
              "\t<li><dl>\n",
              "\t<dt>$semilla</dt>\n",
              "\t\t<dd>204101</dd>\n",
              "\t<dt>$testing</dt>\n",
              "\t\t<dd>49381</dd>\n",
              "\t<dt>$testing_pos</dt>\n",
              "\t\t<dd>379</dd>\n",
              "\t<dt>$envios</dt>\n",
              "\t\t<dd>4165</dd>\n",
              "\t<dt>$aciertos</dt>\n",
              "\t\t<dd>228</dd>\n",
              "\t<dt>$ganancia_test</dt>\n",
              "\t\t<dd>49550000</dd>\n",
              "</dl>\n",
              "</li>\n",
              "\t<li><dl>\n",
              "\t<dt>$semilla</dt>\n",
              "\t\t<dd>927863</dd>\n",
              "\t<dt>$testing</dt>\n",
              "\t\t<dd>49389</dd>\n",
              "\t<dt>$testing_pos</dt>\n",
              "\t\t<dd>372</dd>\n",
              "\t<dt>$envios</dt>\n",
              "\t\t<dd>3197</dd>\n",
              "\t<dt>$aciertos</dt>\n",
              "\t\t<dd>191</dd>\n",
              "\t<dt>$ganancia_test</dt>\n",
              "\t\t<dd>44430000</dd>\n",
              "</dl>\n",
              "</li>\n",
              "\t<li><dl>\n",
              "\t<dt>$semilla</dt>\n",
              "\t\t<dd>163771</dd>\n",
              "\t<dt>$testing</dt>\n",
              "\t\t<dd>49370</dd>\n",
              "\t<dt>$testing_pos</dt>\n",
              "\t\t<dd>371</dd>\n",
              "\t<dt>$envios</dt>\n",
              "\t\t<dd>3651</dd>\n",
              "\t<dt>$aciertos</dt>\n",
              "\t\t<dd>205</dd>\n",
              "\t<dt>$ganancia_test</dt>\n",
              "\t\t<dd>45490000</dd>\n",
              "</dl>\n",
              "</li>\n",
              "\t<li><dl>\n",
              "\t<dt>$semilla</dt>\n",
              "\t\t<dd>135743</dd>\n",
              "\t<dt>$testing</dt>\n",
              "\t\t<dd>49375</dd>\n",
              "\t<dt>$testing_pos</dt>\n",
              "\t\t<dd>375</dd>\n",
              "\t<dt>$envios</dt>\n",
              "\t\t<dd>3516</dd>\n",
              "\t<dt>$aciertos</dt>\n",
              "\t\t<dd>203</dd>\n",
              "\t<dt>$ganancia_test</dt>\n",
              "\t\t<dd>46040000</dd>\n",
              "</dl>\n",
              "</li>\n",
              "\t<li><dl>\n",
              "\t<dt>$semilla</dt>\n",
              "\t\t<dd>322009</dd>\n",
              "\t<dt>$testing</dt>\n",
              "\t\t<dd>49376</dd>\n",
              "\t<dt>$testing_pos</dt>\n",
              "\t\t<dd>371</dd>\n",
              "\t<dt>$envios</dt>\n",
              "\t\t<dd>3416</dd>\n",
              "\t<dt>$aciertos</dt>\n",
              "\t\t<dd>215</dd>\n",
              "\t<dt>$ganancia_test</dt>\n",
              "\t\t<dd>51840000</dd>\n",
              "</dl>\n",
              "</li>\n",
              "\t<li><dl>\n",
              "\t<dt>$semilla</dt>\n",
              "\t\t<dd>729791</dd>\n",
              "\t<dt>$testing</dt>\n",
              "\t\t<dd>49387</dd>\n",
              "\t<dt>$testing_pos</dt>\n",
              "\t\t<dd>377</dd>\n",
              "\t<dt>$envios</dt>\n",
              "\t\t<dd>3057</dd>\n",
              "\t<dt>$aciertos</dt>\n",
              "\t\t<dd>193</dd>\n",
              "\t<dt>$ganancia_test</dt>\n",
              "\t\t<dd>46630000</dd>\n",
              "</dl>\n",
              "</li>\n",
              "\t<li><dl>\n",
              "\t<dt>$semilla</dt>\n",
              "\t\t<dd>380447</dd>\n",
              "\t<dt>$testing</dt>\n",
              "\t\t<dd>49389</dd>\n",
              "\t<dt>$testing_pos</dt>\n",
              "\t\t<dd>376</dd>\n",
              "\t<dt>$envios</dt>\n",
              "\t\t<dd>4128</dd>\n",
              "\t<dt>$aciertos</dt>\n",
              "\t\t<dd>225</dd>\n",
              "\t<dt>$ganancia_test</dt>\n",
              "\t\t<dd>48720000</dd>\n",
              "</dl>\n",
              "</li>\n",
              "\t<li><dl>\n",
              "\t<dt>$semilla</dt>\n",
              "\t\t<dd>129499</dd>\n",
              "\t<dt>$testing</dt>\n",
              "\t\t<dd>49379</dd>\n",
              "\t<dt>$testing_pos</dt>\n",
              "\t\t<dd>377</dd>\n",
              "\t<dt>$envios</dt>\n",
              "\t\t<dd>3270</dd>\n",
              "\t<dt>$aciertos</dt>\n",
              "\t\t<dd>206</dd>\n",
              "\t<dt>$ganancia_test</dt>\n",
              "\t\t<dd>49700000</dd>\n",
              "</dl>\n",
              "</li>\n",
              "\t<li><dl>\n",
              "\t<dt>$semilla</dt>\n",
              "\t\t<dd>169943</dd>\n",
              "\t<dt>$testing</dt>\n",
              "\t\t<dd>49379</dd>\n",
              "\t<dt>$testing_pos</dt>\n",
              "\t\t<dd>371</dd>\n",
              "\t<dt>$envios</dt>\n",
              "\t\t<dd>2790</dd>\n",
              "\t<dt>$aciertos</dt>\n",
              "\t\t<dd>190</dd>\n",
              "\t<dt>$ganancia_test</dt>\n",
              "\t\t<dd>48100000</dd>\n",
              "</dl>\n",
              "</li>\n",
              "\t<li><dl>\n",
              "\t<dt>$semilla</dt>\n",
              "\t\t<dd>108877</dd>\n",
              "\t<dt>$testing</dt>\n",
              "\t\t<dd>49379</dd>\n",
              "\t<dt>$testing_pos</dt>\n",
              "\t\t<dd>373</dd>\n",
              "\t<dt>$envios</dt>\n",
              "\t\t<dd>3481</dd>\n",
              "\t<dt>$aciertos</dt>\n",
              "\t\t<dd>203</dd>\n",
              "\t<dt>$ganancia_test</dt>\n",
              "\t\t<dd>46390000</dd>\n",
              "</dl>\n",
              "</li>\n",
              "\t<li><dl>\n",
              "\t<dt>$semilla</dt>\n",
              "\t\t<dd>180211</dd>\n",
              "\t<dt>$testing</dt>\n",
              "\t\t<dd>49390</dd>\n",
              "\t<dt>$testing_pos</dt>\n",
              "\t\t<dd>378</dd>\n",
              "\t<dt>$envios</dt>\n",
              "\t\t<dd>2795</dd>\n",
              "\t<dt>$aciertos</dt>\n",
              "\t\t<dd>185</dd>\n",
              "\t<dt>$ganancia_test</dt>\n",
              "\t\t<dd>46050000</dd>\n",
              "</dl>\n",
              "</li>\n",
              "\t<li><dl>\n",
              "\t<dt>$semilla</dt>\n",
              "\t\t<dd>331777</dd>\n",
              "\t<dt>$testing</dt>\n",
              "\t\t<dd>49387</dd>\n",
              "\t<dt>$testing_pos</dt>\n",
              "\t\t<dd>377</dd>\n",
              "\t<dt>$envios</dt>\n",
              "\t\t<dd>3076</dd>\n",
              "\t<dt>$aciertos</dt>\n",
              "\t\t<dd>191</dd>\n",
              "\t<dt>$ganancia_test</dt>\n",
              "\t\t<dd>45640000</dd>\n",
              "</dl>\n",
              "</li>\n",
              "\t<li><dl>\n",
              "\t<dt>$semilla</dt>\n",
              "\t\t<dd>576101</dd>\n",
              "\t<dt>$testing</dt>\n",
              "\t\t<dd>49391</dd>\n",
              "\t<dt>$testing_pos</dt>\n",
              "\t\t<dd>382</dd>\n",
              "\t<dt>$envios</dt>\n",
              "\t\t<dd>3824</dd>\n",
              "\t<dt>$aciertos</dt>\n",
              "\t\t<dd>219</dd>\n",
              "\t<dt>$ganancia_test</dt>\n",
              "\t\t<dd>49360000</dd>\n",
              "</dl>\n",
              "</li>\n",
              "\t<li><dl>\n",
              "\t<dt>$semilla</dt>\n",
              "\t\t<dd>926503</dd>\n",
              "\t<dt>$testing</dt>\n",
              "\t\t<dd>49381</dd>\n",
              "\t<dt>$testing_pos</dt>\n",
              "\t\t<dd>374</dd>\n",
              "\t<dt>$envios</dt>\n",
              "\t\t<dd>3627</dd>\n",
              "\t<dt>$aciertos</dt>\n",
              "\t\t<dd>200</dd>\n",
              "\t<dt>$ganancia_test</dt>\n",
              "\t\t<dd>43730000</dd>\n",
              "</dl>\n",
              "</li>\n",
              "\t<li><dl>\n",
              "\t<dt>$semilla</dt>\n",
              "\t\t<dd>773387</dd>\n",
              "\t<dt>$testing</dt>\n",
              "\t\t<dd>49374</dd>\n",
              "\t<dt>$testing_pos</dt>\n",
              "\t\t<dd>367</dd>\n",
              "\t<dt>$envios</dt>\n",
              "\t\t<dd>3513</dd>\n",
              "\t<dt>$aciertos</dt>\n",
              "\t\t<dd>194</dd>\n",
              "\t<dt>$ganancia_test</dt>\n",
              "\t\t<dd>42470000</dd>\n",
              "</dl>\n",
              "</li>\n",
              "\t<li><dl>\n",
              "\t<dt>$semilla</dt>\n",
              "\t\t<dd>189377</dd>\n",
              "\t<dt>$testing</dt>\n",
              "\t\t<dd>49386</dd>\n",
              "\t<dt>$testing_pos</dt>\n",
              "\t\t<dd>380</dd>\n",
              "\t<dt>$envios</dt>\n",
              "\t\t<dd>3033</dd>\n",
              "\t<dt>$aciertos</dt>\n",
              "\t\t<dd>204</dd>\n",
              "\t<dt>$ganancia_test</dt>\n",
              "\t\t<dd>51270000</dd>\n",
              "</dl>\n",
              "</li>\n",
              "</ol>\n"
            ],
            "text/markdown": "1. $semilla\n:   139747\n$testing\n:   49383\n$testing_pos\n:   375\n$envios\n:   3587\n$aciertos\n:   207\n$ganancia_test\n:   46930000\n\n\n\n2. $semilla\n:   736657\n$testing\n:   49378\n$testing_pos\n:   376\n$envios\n:   3450\n$aciertos\n:   198\n$ganancia_test\n:   44700000\n\n\n\n3. $semilla\n:   248231\n$testing\n:   49381\n$testing_pos\n:   372\n$envios\n:   3824\n$aciertos\n:   215\n$ganancia_test\n:   47760000\n\n\n\n4. $semilla\n:   565603\n$testing\n:   49383\n$testing_pos\n:   376\n$envios\n:   3601\n$aciertos\n:   205\n$ganancia_test\n:   45990000\n\n\n\n5. $semilla\n:   104729\n$testing\n:   49386\n$testing_pos\n:   378\n$envios\n:   3311\n$aciertos\n:   197\n$ganancia_test\n:   45690000\n\n\n\n6. $semilla\n:   521357\n$testing\n:   49386\n$testing_pos\n:   373\n$envios\n:   3825\n$aciertos\n:   216\n$ganancia_test\n:   48150000\n\n\n\n7. $semilla\n:   325571\n$testing\n:   49378\n$testing_pos\n:   377\n$envios\n:   3696\n$aciertos\n:   199\n$ganancia_test\n:   42640000\n\n\n\n8. $semilla\n:   652189\n$testing\n:   49379\n$testing_pos\n:   373\n$envios\n:   3598\n$aciertos\n:   207\n$ganancia_test\n:   46820000\n\n\n\n9. $semilla\n:   397259\n$testing\n:   49387\n$testing_pos\n:   374\n$envios\n:   3916\n$aciertos\n:   212\n$ganancia_test\n:   45640000\n\n\n\n10. $semilla\n:   882877\n$testing\n:   49378\n$testing_pos\n:   375\n$envios\n:   3821\n$aciertos\n:   228\n$ganancia_test\n:   52990000\n\n\n\n11. $semilla\n:   475619\n$testing\n:   49381\n$testing_pos\n:   373\n$envios\n:   3451\n$aciertos\n:   220\n$ganancia_test\n:   53490000\n\n\n\n12. $semilla\n:   967507\n$testing\n:   49372\n$testing_pos\n:   369\n$envios\n:   2783\n$aciertos\n:   199\n$ganancia_test\n:   51770000\n\n\n\n13. $semilla\n:   958967\n$testing\n:   49377\n$testing_pos\n:   377\n$envios\n:   3811\n$aciertos\n:   220\n$ganancia_test\n:   49890000\n\n\n\n14. $semilla\n:   526837\n$testing\n:   49374\n$testing_pos\n:   375\n$envios\n:   2905\n$aciertos\n:   177\n$ganancia_test\n:   41750000\n\n\n\n15. $semilla\n:   100279\n$testing\n:   49382\n$testing_pos\n:   369\n$envios\n:   3359\n$aciertos\n:   203\n$ganancia_test\n:   47610000\n\n\n\n16. $semilla\n:   127747\n$testing\n:   49377\n$testing_pos\n:   376\n$envios\n:   3134\n$aciertos\n:   199\n$ganancia_test\n:   48260000\n\n\n\n17. $semilla\n:   917461\n$testing\n:   49378\n$testing_pos\n:   375\n$envios\n:   2630\n$aciertos\n:   186\n$ganancia_test\n:   48100000\n\n\n\n18. $semilla\n:   883517\n$testing\n:   49380\n$testing_pos\n:   379\n$envios\n:   3400\n$aciertos\n:   214\n$ganancia_test\n:   51600000\n\n\n\n19. $semilla\n:   620233\n$testing\n:   49379\n$testing_pos\n:   376\n$envios\n:   4228\n$aciertos\n:   233\n$ganancia_test\n:   50920000\n\n\n\n20. $semilla\n:   251191\n$testing\n:   49381\n$testing_pos\n:   375\n$envios\n:   3557\n$aciertos\n:   203\n$ganancia_test\n:   45630000\n\n\n\n21. $semilla\n:   918733\n$testing\n:   49368\n$testing_pos\n:   374\n$envios\n:   2919\n$aciertos\n:   194\n$ganancia_test\n:   48410000\n\n\n\n22. $semilla\n:   408413\n$testing\n:   49370\n$testing_pos\n:   370\n$envios\n:   3200\n$aciertos\n:   202\n$ganancia_test\n:   48800000\n\n\n\n23. $semilla\n:   627119\n$testing\n:   49378\n$testing_pos\n:   373\n$envios\n:   3873\n$aciertos\n:   216\n$ganancia_test\n:   47670000\n\n\n\n24. $semilla\n:   942437\n$testing\n:   49379\n$testing_pos\n:   373\n$envios\n:   3335\n$aciertos\n:   202\n$ganancia_test\n:   47450000\n\n\n\n25. $semilla\n:   900233\n$testing\n:   49381\n$testing_pos\n:   376\n$envios\n:   3243\n$aciertos\n:   202\n$ganancia_test\n:   48370000\n\n\n\n26. $semilla\n:   305047\n$testing\n:   49375\n$testing_pos\n:   370\n$envios\n:   3125\n$aciertos\n:   199\n$ganancia_test\n:   48350000\n\n\n\n27. $semilla\n:   115981\n$testing\n:   49388\n$testing_pos\n:   375\n$envios\n:   3652\n$aciertos\n:   210\n$ganancia_test\n:   47480000\n\n\n\n28. $semilla\n:   541249\n$testing\n:   49377\n$testing_pos\n:   379\n$envios\n:   2995\n$aciertos\n:   210\n$ganancia_test\n:   54050000\n\n\n\n29. $semilla\n:   623537\n$testing\n:   49379\n$testing_pos\n:   377\n$envios\n:   3457\n$aciertos\n:   201\n$ganancia_test\n:   45830000\n\n\n\n30. $semilla\n:   215461\n$testing\n:   49380\n$testing_pos\n:   378\n$envios\n:   2738\n$aciertos\n:   192\n$ganancia_test\n:   49420000\n\n\n\n31. $semilla\n:   559679\n$testing\n:   49383\n$testing_pos\n:   376\n$envios\n:   3383\n$aciertos\n:   215\n$ganancia_test\n:   52170000\n\n\n\n32. $semilla\n:   213149\n$testing\n:   49388\n$testing_pos\n:   374\n$envios\n:   2866\n$aciertos\n:   189\n$ganancia_test\n:   46940000\n\n\n\n33. $semilla\n:   335089\n$testing\n:   49389\n$testing_pos\n:   377\n$envios\n:   3292\n$aciertos\n:   202\n$ganancia_test\n:   47880000\n\n\n\n34. $semilla\n:   898987\n$testing\n:   49379\n$testing_pos\n:   372\n$envios\n:   3785\n$aciertos\n:   221\n$ganancia_test\n:   50550000\n\n\n\n35. $semilla\n:   204101\n$testing\n:   49381\n$testing_pos\n:   379\n$envios\n:   4165\n$aciertos\n:   228\n$ganancia_test\n:   49550000\n\n\n\n36. $semilla\n:   927863\n$testing\n:   49389\n$testing_pos\n:   372\n$envios\n:   3197\n$aciertos\n:   191\n$ganancia_test\n:   44430000\n\n\n\n37. $semilla\n:   163771\n$testing\n:   49370\n$testing_pos\n:   371\n$envios\n:   3651\n$aciertos\n:   205\n$ganancia_test\n:   45490000\n\n\n\n38. $semilla\n:   135743\n$testing\n:   49375\n$testing_pos\n:   375\n$envios\n:   3516\n$aciertos\n:   203\n$ganancia_test\n:   46040000\n\n\n\n39. $semilla\n:   322009\n$testing\n:   49376\n$testing_pos\n:   371\n$envios\n:   3416\n$aciertos\n:   215\n$ganancia_test\n:   51840000\n\n\n\n40. $semilla\n:   729791\n$testing\n:   49387\n$testing_pos\n:   377\n$envios\n:   3057\n$aciertos\n:   193\n$ganancia_test\n:   46630000\n\n\n\n41. $semilla\n:   380447\n$testing\n:   49389\n$testing_pos\n:   376\n$envios\n:   4128\n$aciertos\n:   225\n$ganancia_test\n:   48720000\n\n\n\n42. $semilla\n:   129499\n$testing\n:   49379\n$testing_pos\n:   377\n$envios\n:   3270\n$aciertos\n:   206\n$ganancia_test\n:   49700000\n\n\n\n43. $semilla\n:   169943\n$testing\n:   49379\n$testing_pos\n:   371\n$envios\n:   2790\n$aciertos\n:   190\n$ganancia_test\n:   48100000\n\n\n\n44. $semilla\n:   108877\n$testing\n:   49379\n$testing_pos\n:   373\n$envios\n:   3481\n$aciertos\n:   203\n$ganancia_test\n:   46390000\n\n\n\n45. $semilla\n:   180211\n$testing\n:   49390\n$testing_pos\n:   378\n$envios\n:   2795\n$aciertos\n:   185\n$ganancia_test\n:   46050000\n\n\n\n46. $semilla\n:   331777\n$testing\n:   49387\n$testing_pos\n:   377\n$envios\n:   3076\n$aciertos\n:   191\n$ganancia_test\n:   45640000\n\n\n\n47. $semilla\n:   576101\n$testing\n:   49391\n$testing_pos\n:   382\n$envios\n:   3824\n$aciertos\n:   219\n$ganancia_test\n:   49360000\n\n\n\n48. $semilla\n:   926503\n$testing\n:   49381\n$testing_pos\n:   374\n$envios\n:   3627\n$aciertos\n:   200\n$ganancia_test\n:   43730000\n\n\n\n49. $semilla\n:   773387\n$testing\n:   49374\n$testing_pos\n:   367\n$envios\n:   3513\n$aciertos\n:   194\n$ganancia_test\n:   42470000\n\n\n\n50. $semilla\n:   189377\n$testing\n:   49386\n$testing_pos\n:   380\n$envios\n:   3033\n$aciertos\n:   204\n$ganancia_test\n:   51270000\n\n\n\n\n\n",
            "text/latex": "\\begin{enumerate}\n\\item \\begin{description}\n\\item[\\$semilla] 139747\n\\item[\\$testing] 49383\n\\item[\\$testing\\_pos] 375\n\\item[\\$envios] 3587\n\\item[\\$aciertos] 207\n\\item[\\$ganancia\\_test] 46930000\n\\end{description}\n\n\\item \\begin{description}\n\\item[\\$semilla] 736657\n\\item[\\$testing] 49378\n\\item[\\$testing\\_pos] 376\n\\item[\\$envios] 3450\n\\item[\\$aciertos] 198\n\\item[\\$ganancia\\_test] 44700000\n\\end{description}\n\n\\item \\begin{description}\n\\item[\\$semilla] 248231\n\\item[\\$testing] 49381\n\\item[\\$testing\\_pos] 372\n\\item[\\$envios] 3824\n\\item[\\$aciertos] 215\n\\item[\\$ganancia\\_test] 47760000\n\\end{description}\n\n\\item \\begin{description}\n\\item[\\$semilla] 565603\n\\item[\\$testing] 49383\n\\item[\\$testing\\_pos] 376\n\\item[\\$envios] 3601\n\\item[\\$aciertos] 205\n\\item[\\$ganancia\\_test] 45990000\n\\end{description}\n\n\\item \\begin{description}\n\\item[\\$semilla] 104729\n\\item[\\$testing] 49386\n\\item[\\$testing\\_pos] 378\n\\item[\\$envios] 3311\n\\item[\\$aciertos] 197\n\\item[\\$ganancia\\_test] 45690000\n\\end{description}\n\n\\item \\begin{description}\n\\item[\\$semilla] 521357\n\\item[\\$testing] 49386\n\\item[\\$testing\\_pos] 373\n\\item[\\$envios] 3825\n\\item[\\$aciertos] 216\n\\item[\\$ganancia\\_test] 48150000\n\\end{description}\n\n\\item \\begin{description}\n\\item[\\$semilla] 325571\n\\item[\\$testing] 49378\n\\item[\\$testing\\_pos] 377\n\\item[\\$envios] 3696\n\\item[\\$aciertos] 199\n\\item[\\$ganancia\\_test] 42640000\n\\end{description}\n\n\\item \\begin{description}\n\\item[\\$semilla] 652189\n\\item[\\$testing] 49379\n\\item[\\$testing\\_pos] 373\n\\item[\\$envios] 3598\n\\item[\\$aciertos] 207\n\\item[\\$ganancia\\_test] 46820000\n\\end{description}\n\n\\item \\begin{description}\n\\item[\\$semilla] 397259\n\\item[\\$testing] 49387\n\\item[\\$testing\\_pos] 374\n\\item[\\$envios] 3916\n\\item[\\$aciertos] 212\n\\item[\\$ganancia\\_test] 45640000\n\\end{description}\n\n\\item \\begin{description}\n\\item[\\$semilla] 882877\n\\item[\\$testing] 49378\n\\item[\\$testing\\_pos] 375\n\\item[\\$envios] 3821\n\\item[\\$aciertos] 228\n\\item[\\$ganancia\\_test] 52990000\n\\end{description}\n\n\\item \\begin{description}\n\\item[\\$semilla] 475619\n\\item[\\$testing] 49381\n\\item[\\$testing\\_pos] 373\n\\item[\\$envios] 3451\n\\item[\\$aciertos] 220\n\\item[\\$ganancia\\_test] 53490000\n\\end{description}\n\n\\item \\begin{description}\n\\item[\\$semilla] 967507\n\\item[\\$testing] 49372\n\\item[\\$testing\\_pos] 369\n\\item[\\$envios] 2783\n\\item[\\$aciertos] 199\n\\item[\\$ganancia\\_test] 51770000\n\\end{description}\n\n\\item \\begin{description}\n\\item[\\$semilla] 958967\n\\item[\\$testing] 49377\n\\item[\\$testing\\_pos] 377\n\\item[\\$envios] 3811\n\\item[\\$aciertos] 220\n\\item[\\$ganancia\\_test] 49890000\n\\end{description}\n\n\\item \\begin{description}\n\\item[\\$semilla] 526837\n\\item[\\$testing] 49374\n\\item[\\$testing\\_pos] 375\n\\item[\\$envios] 2905\n\\item[\\$aciertos] 177\n\\item[\\$ganancia\\_test] 41750000\n\\end{description}\n\n\\item \\begin{description}\n\\item[\\$semilla] 100279\n\\item[\\$testing] 49382\n\\item[\\$testing\\_pos] 369\n\\item[\\$envios] 3359\n\\item[\\$aciertos] 203\n\\item[\\$ganancia\\_test] 47610000\n\\end{description}\n\n\\item \\begin{description}\n\\item[\\$semilla] 127747\n\\item[\\$testing] 49377\n\\item[\\$testing\\_pos] 376\n\\item[\\$envios] 3134\n\\item[\\$aciertos] 199\n\\item[\\$ganancia\\_test] 48260000\n\\end{description}\n\n\\item \\begin{description}\n\\item[\\$semilla] 917461\n\\item[\\$testing] 49378\n\\item[\\$testing\\_pos] 375\n\\item[\\$envios] 2630\n\\item[\\$aciertos] 186\n\\item[\\$ganancia\\_test] 48100000\n\\end{description}\n\n\\item \\begin{description}\n\\item[\\$semilla] 883517\n\\item[\\$testing] 49380\n\\item[\\$testing\\_pos] 379\n\\item[\\$envios] 3400\n\\item[\\$aciertos] 214\n\\item[\\$ganancia\\_test] 51600000\n\\end{description}\n\n\\item \\begin{description}\n\\item[\\$semilla] 620233\n\\item[\\$testing] 49379\n\\item[\\$testing\\_pos] 376\n\\item[\\$envios] 4228\n\\item[\\$aciertos] 233\n\\item[\\$ganancia\\_test] 50920000\n\\end{description}\n\n\\item \\begin{description}\n\\item[\\$semilla] 251191\n\\item[\\$testing] 49381\n\\item[\\$testing\\_pos] 375\n\\item[\\$envios] 3557\n\\item[\\$aciertos] 203\n\\item[\\$ganancia\\_test] 45630000\n\\end{description}\n\n\\item \\begin{description}\n\\item[\\$semilla] 918733\n\\item[\\$testing] 49368\n\\item[\\$testing\\_pos] 374\n\\item[\\$envios] 2919\n\\item[\\$aciertos] 194\n\\item[\\$ganancia\\_test] 48410000\n\\end{description}\n\n\\item \\begin{description}\n\\item[\\$semilla] 408413\n\\item[\\$testing] 49370\n\\item[\\$testing\\_pos] 370\n\\item[\\$envios] 3200\n\\item[\\$aciertos] 202\n\\item[\\$ganancia\\_test] 48800000\n\\end{description}\n\n\\item \\begin{description}\n\\item[\\$semilla] 627119\n\\item[\\$testing] 49378\n\\item[\\$testing\\_pos] 373\n\\item[\\$envios] 3873\n\\item[\\$aciertos] 216\n\\item[\\$ganancia\\_test] 47670000\n\\end{description}\n\n\\item \\begin{description}\n\\item[\\$semilla] 942437\n\\item[\\$testing] 49379\n\\item[\\$testing\\_pos] 373\n\\item[\\$envios] 3335\n\\item[\\$aciertos] 202\n\\item[\\$ganancia\\_test] 47450000\n\\end{description}\n\n\\item \\begin{description}\n\\item[\\$semilla] 900233\n\\item[\\$testing] 49381\n\\item[\\$testing\\_pos] 376\n\\item[\\$envios] 3243\n\\item[\\$aciertos] 202\n\\item[\\$ganancia\\_test] 48370000\n\\end{description}\n\n\\item \\begin{description}\n\\item[\\$semilla] 305047\n\\item[\\$testing] 49375\n\\item[\\$testing\\_pos] 370\n\\item[\\$envios] 3125\n\\item[\\$aciertos] 199\n\\item[\\$ganancia\\_test] 48350000\n\\end{description}\n\n\\item \\begin{description}\n\\item[\\$semilla] 115981\n\\item[\\$testing] 49388\n\\item[\\$testing\\_pos] 375\n\\item[\\$envios] 3652\n\\item[\\$aciertos] 210\n\\item[\\$ganancia\\_test] 47480000\n\\end{description}\n\n\\item \\begin{description}\n\\item[\\$semilla] 541249\n\\item[\\$testing] 49377\n\\item[\\$testing\\_pos] 379\n\\item[\\$envios] 2995\n\\item[\\$aciertos] 210\n\\item[\\$ganancia\\_test] 54050000\n\\end{description}\n\n\\item \\begin{description}\n\\item[\\$semilla] 623537\n\\item[\\$testing] 49379\n\\item[\\$testing\\_pos] 377\n\\item[\\$envios] 3457\n\\item[\\$aciertos] 201\n\\item[\\$ganancia\\_test] 45830000\n\\end{description}\n\n\\item \\begin{description}\n\\item[\\$semilla] 215461\n\\item[\\$testing] 49380\n\\item[\\$testing\\_pos] 378\n\\item[\\$envios] 2738\n\\item[\\$aciertos] 192\n\\item[\\$ganancia\\_test] 49420000\n\\end{description}\n\n\\item \\begin{description}\n\\item[\\$semilla] 559679\n\\item[\\$testing] 49383\n\\item[\\$testing\\_pos] 376\n\\item[\\$envios] 3383\n\\item[\\$aciertos] 215\n\\item[\\$ganancia\\_test] 52170000\n\\end{description}\n\n\\item \\begin{description}\n\\item[\\$semilla] 213149\n\\item[\\$testing] 49388\n\\item[\\$testing\\_pos] 374\n\\item[\\$envios] 2866\n\\item[\\$aciertos] 189\n\\item[\\$ganancia\\_test] 46940000\n\\end{description}\n\n\\item \\begin{description}\n\\item[\\$semilla] 335089\n\\item[\\$testing] 49389\n\\item[\\$testing\\_pos] 377\n\\item[\\$envios] 3292\n\\item[\\$aciertos] 202\n\\item[\\$ganancia\\_test] 47880000\n\\end{description}\n\n\\item \\begin{description}\n\\item[\\$semilla] 898987\n\\item[\\$testing] 49379\n\\item[\\$testing\\_pos] 372\n\\item[\\$envios] 3785\n\\item[\\$aciertos] 221\n\\item[\\$ganancia\\_test] 50550000\n\\end{description}\n\n\\item \\begin{description}\n\\item[\\$semilla] 204101\n\\item[\\$testing] 49381\n\\item[\\$testing\\_pos] 379\n\\item[\\$envios] 4165\n\\item[\\$aciertos] 228\n\\item[\\$ganancia\\_test] 49550000\n\\end{description}\n\n\\item \\begin{description}\n\\item[\\$semilla] 927863\n\\item[\\$testing] 49389\n\\item[\\$testing\\_pos] 372\n\\item[\\$envios] 3197\n\\item[\\$aciertos] 191\n\\item[\\$ganancia\\_test] 44430000\n\\end{description}\n\n\\item \\begin{description}\n\\item[\\$semilla] 163771\n\\item[\\$testing] 49370\n\\item[\\$testing\\_pos] 371\n\\item[\\$envios] 3651\n\\item[\\$aciertos] 205\n\\item[\\$ganancia\\_test] 45490000\n\\end{description}\n\n\\item \\begin{description}\n\\item[\\$semilla] 135743\n\\item[\\$testing] 49375\n\\item[\\$testing\\_pos] 375\n\\item[\\$envios] 3516\n\\item[\\$aciertos] 203\n\\item[\\$ganancia\\_test] 46040000\n\\end{description}\n\n\\item \\begin{description}\n\\item[\\$semilla] 322009\n\\item[\\$testing] 49376\n\\item[\\$testing\\_pos] 371\n\\item[\\$envios] 3416\n\\item[\\$aciertos] 215\n\\item[\\$ganancia\\_test] 51840000\n\\end{description}\n\n\\item \\begin{description}\n\\item[\\$semilla] 729791\n\\item[\\$testing] 49387\n\\item[\\$testing\\_pos] 377\n\\item[\\$envios] 3057\n\\item[\\$aciertos] 193\n\\item[\\$ganancia\\_test] 46630000\n\\end{description}\n\n\\item \\begin{description}\n\\item[\\$semilla] 380447\n\\item[\\$testing] 49389\n\\item[\\$testing\\_pos] 376\n\\item[\\$envios] 4128\n\\item[\\$aciertos] 225\n\\item[\\$ganancia\\_test] 48720000\n\\end{description}\n\n\\item \\begin{description}\n\\item[\\$semilla] 129499\n\\item[\\$testing] 49379\n\\item[\\$testing\\_pos] 377\n\\item[\\$envios] 3270\n\\item[\\$aciertos] 206\n\\item[\\$ganancia\\_test] 49700000\n\\end{description}\n\n\\item \\begin{description}\n\\item[\\$semilla] 169943\n\\item[\\$testing] 49379\n\\item[\\$testing\\_pos] 371\n\\item[\\$envios] 2790\n\\item[\\$aciertos] 190\n\\item[\\$ganancia\\_test] 48100000\n\\end{description}\n\n\\item \\begin{description}\n\\item[\\$semilla] 108877\n\\item[\\$testing] 49379\n\\item[\\$testing\\_pos] 373\n\\item[\\$envios] 3481\n\\item[\\$aciertos] 203\n\\item[\\$ganancia\\_test] 46390000\n\\end{description}\n\n\\item \\begin{description}\n\\item[\\$semilla] 180211\n\\item[\\$testing] 49390\n\\item[\\$testing\\_pos] 378\n\\item[\\$envios] 2795\n\\item[\\$aciertos] 185\n\\item[\\$ganancia\\_test] 46050000\n\\end{description}\n\n\\item \\begin{description}\n\\item[\\$semilla] 331777\n\\item[\\$testing] 49387\n\\item[\\$testing\\_pos] 377\n\\item[\\$envios] 3076\n\\item[\\$aciertos] 191\n\\item[\\$ganancia\\_test] 45640000\n\\end{description}\n\n\\item \\begin{description}\n\\item[\\$semilla] 576101\n\\item[\\$testing] 49391\n\\item[\\$testing\\_pos] 382\n\\item[\\$envios] 3824\n\\item[\\$aciertos] 219\n\\item[\\$ganancia\\_test] 49360000\n\\end{description}\n\n\\item \\begin{description}\n\\item[\\$semilla] 926503\n\\item[\\$testing] 49381\n\\item[\\$testing\\_pos] 374\n\\item[\\$envios] 3627\n\\item[\\$aciertos] 200\n\\item[\\$ganancia\\_test] 43730000\n\\end{description}\n\n\\item \\begin{description}\n\\item[\\$semilla] 773387\n\\item[\\$testing] 49374\n\\item[\\$testing\\_pos] 367\n\\item[\\$envios] 3513\n\\item[\\$aciertos] 194\n\\item[\\$ganancia\\_test] 42470000\n\\end{description}\n\n\\item \\begin{description}\n\\item[\\$semilla] 189377\n\\item[\\$testing] 49386\n\\item[\\$testing\\_pos] 380\n\\item[\\$envios] 3033\n\\item[\\$aciertos] 204\n\\item[\\$ganancia\\_test] 51270000\n\\end{description}\n\n\\end{enumerate}\n",
            "text/plain": [
              "[[1]]\n",
              "[[1]]$semilla\n",
              "[1] 139747\n",
              "\n",
              "[[1]]$testing\n",
              "[1] 49383\n",
              "\n",
              "[[1]]$testing_pos\n",
              "[1] 375\n",
              "\n",
              "[[1]]$envios\n",
              "[1] 3587\n",
              "\n",
              "[[1]]$aciertos\n",
              "[1] 207\n",
              "\n",
              "[[1]]$ganancia_test\n",
              "[1] 46930000\n",
              "\n",
              "\n",
              "[[2]]\n",
              "[[2]]$semilla\n",
              "[1] 736657\n",
              "\n",
              "[[2]]$testing\n",
              "[1] 49378\n",
              "\n",
              "[[2]]$testing_pos\n",
              "[1] 376\n",
              "\n",
              "[[2]]$envios\n",
              "[1] 3450\n",
              "\n",
              "[[2]]$aciertos\n",
              "[1] 198\n",
              "\n",
              "[[2]]$ganancia_test\n",
              "[1] 44700000\n",
              "\n",
              "\n",
              "[[3]]\n",
              "[[3]]$semilla\n",
              "[1] 248231\n",
              "\n",
              "[[3]]$testing\n",
              "[1] 49381\n",
              "\n",
              "[[3]]$testing_pos\n",
              "[1] 372\n",
              "\n",
              "[[3]]$envios\n",
              "[1] 3824\n",
              "\n",
              "[[3]]$aciertos\n",
              "[1] 215\n",
              "\n",
              "[[3]]$ganancia_test\n",
              "[1] 47760000\n",
              "\n",
              "\n",
              "[[4]]\n",
              "[[4]]$semilla\n",
              "[1] 565603\n",
              "\n",
              "[[4]]$testing\n",
              "[1] 49383\n",
              "\n",
              "[[4]]$testing_pos\n",
              "[1] 376\n",
              "\n",
              "[[4]]$envios\n",
              "[1] 3601\n",
              "\n",
              "[[4]]$aciertos\n",
              "[1] 205\n",
              "\n",
              "[[4]]$ganancia_test\n",
              "[1] 45990000\n",
              "\n",
              "\n",
              "[[5]]\n",
              "[[5]]$semilla\n",
              "[1] 104729\n",
              "\n",
              "[[5]]$testing\n",
              "[1] 49386\n",
              "\n",
              "[[5]]$testing_pos\n",
              "[1] 378\n",
              "\n",
              "[[5]]$envios\n",
              "[1] 3311\n",
              "\n",
              "[[5]]$aciertos\n",
              "[1] 197\n",
              "\n",
              "[[5]]$ganancia_test\n",
              "[1] 45690000\n",
              "\n",
              "\n",
              "[[6]]\n",
              "[[6]]$semilla\n",
              "[1] 521357\n",
              "\n",
              "[[6]]$testing\n",
              "[1] 49386\n",
              "\n",
              "[[6]]$testing_pos\n",
              "[1] 373\n",
              "\n",
              "[[6]]$envios\n",
              "[1] 3825\n",
              "\n",
              "[[6]]$aciertos\n",
              "[1] 216\n",
              "\n",
              "[[6]]$ganancia_test\n",
              "[1] 48150000\n",
              "\n",
              "\n",
              "[[7]]\n",
              "[[7]]$semilla\n",
              "[1] 325571\n",
              "\n",
              "[[7]]$testing\n",
              "[1] 49378\n",
              "\n",
              "[[7]]$testing_pos\n",
              "[1] 377\n",
              "\n",
              "[[7]]$envios\n",
              "[1] 3696\n",
              "\n",
              "[[7]]$aciertos\n",
              "[1] 199\n",
              "\n",
              "[[7]]$ganancia_test\n",
              "[1] 42640000\n",
              "\n",
              "\n",
              "[[8]]\n",
              "[[8]]$semilla\n",
              "[1] 652189\n",
              "\n",
              "[[8]]$testing\n",
              "[1] 49379\n",
              "\n",
              "[[8]]$testing_pos\n",
              "[1] 373\n",
              "\n",
              "[[8]]$envios\n",
              "[1] 3598\n",
              "\n",
              "[[8]]$aciertos\n",
              "[1] 207\n",
              "\n",
              "[[8]]$ganancia_test\n",
              "[1] 46820000\n",
              "\n",
              "\n",
              "[[9]]\n",
              "[[9]]$semilla\n",
              "[1] 397259\n",
              "\n",
              "[[9]]$testing\n",
              "[1] 49387\n",
              "\n",
              "[[9]]$testing_pos\n",
              "[1] 374\n",
              "\n",
              "[[9]]$envios\n",
              "[1] 3916\n",
              "\n",
              "[[9]]$aciertos\n",
              "[1] 212\n",
              "\n",
              "[[9]]$ganancia_test\n",
              "[1] 45640000\n",
              "\n",
              "\n",
              "[[10]]\n",
              "[[10]]$semilla\n",
              "[1] 882877\n",
              "\n",
              "[[10]]$testing\n",
              "[1] 49378\n",
              "\n",
              "[[10]]$testing_pos\n",
              "[1] 375\n",
              "\n",
              "[[10]]$envios\n",
              "[1] 3821\n",
              "\n",
              "[[10]]$aciertos\n",
              "[1] 228\n",
              "\n",
              "[[10]]$ganancia_test\n",
              "[1] 52990000\n",
              "\n",
              "\n",
              "[[11]]\n",
              "[[11]]$semilla\n",
              "[1] 475619\n",
              "\n",
              "[[11]]$testing\n",
              "[1] 49381\n",
              "\n",
              "[[11]]$testing_pos\n",
              "[1] 373\n",
              "\n",
              "[[11]]$envios\n",
              "[1] 3451\n",
              "\n",
              "[[11]]$aciertos\n",
              "[1] 220\n",
              "\n",
              "[[11]]$ganancia_test\n",
              "[1] 53490000\n",
              "\n",
              "\n",
              "[[12]]\n",
              "[[12]]$semilla\n",
              "[1] 967507\n",
              "\n",
              "[[12]]$testing\n",
              "[1] 49372\n",
              "\n",
              "[[12]]$testing_pos\n",
              "[1] 369\n",
              "\n",
              "[[12]]$envios\n",
              "[1] 2783\n",
              "\n",
              "[[12]]$aciertos\n",
              "[1] 199\n",
              "\n",
              "[[12]]$ganancia_test\n",
              "[1] 51770000\n",
              "\n",
              "\n",
              "[[13]]\n",
              "[[13]]$semilla\n",
              "[1] 958967\n",
              "\n",
              "[[13]]$testing\n",
              "[1] 49377\n",
              "\n",
              "[[13]]$testing_pos\n",
              "[1] 377\n",
              "\n",
              "[[13]]$envios\n",
              "[1] 3811\n",
              "\n",
              "[[13]]$aciertos\n",
              "[1] 220\n",
              "\n",
              "[[13]]$ganancia_test\n",
              "[1] 49890000\n",
              "\n",
              "\n",
              "[[14]]\n",
              "[[14]]$semilla\n",
              "[1] 526837\n",
              "\n",
              "[[14]]$testing\n",
              "[1] 49374\n",
              "\n",
              "[[14]]$testing_pos\n",
              "[1] 375\n",
              "\n",
              "[[14]]$envios\n",
              "[1] 2905\n",
              "\n",
              "[[14]]$aciertos\n",
              "[1] 177\n",
              "\n",
              "[[14]]$ganancia_test\n",
              "[1] 41750000\n",
              "\n",
              "\n",
              "[[15]]\n",
              "[[15]]$semilla\n",
              "[1] 100279\n",
              "\n",
              "[[15]]$testing\n",
              "[1] 49382\n",
              "\n",
              "[[15]]$testing_pos\n",
              "[1] 369\n",
              "\n",
              "[[15]]$envios\n",
              "[1] 3359\n",
              "\n",
              "[[15]]$aciertos\n",
              "[1] 203\n",
              "\n",
              "[[15]]$ganancia_test\n",
              "[1] 47610000\n",
              "\n",
              "\n",
              "[[16]]\n",
              "[[16]]$semilla\n",
              "[1] 127747\n",
              "\n",
              "[[16]]$testing\n",
              "[1] 49377\n",
              "\n",
              "[[16]]$testing_pos\n",
              "[1] 376\n",
              "\n",
              "[[16]]$envios\n",
              "[1] 3134\n",
              "\n",
              "[[16]]$aciertos\n",
              "[1] 199\n",
              "\n",
              "[[16]]$ganancia_test\n",
              "[1] 48260000\n",
              "\n",
              "\n",
              "[[17]]\n",
              "[[17]]$semilla\n",
              "[1] 917461\n",
              "\n",
              "[[17]]$testing\n",
              "[1] 49378\n",
              "\n",
              "[[17]]$testing_pos\n",
              "[1] 375\n",
              "\n",
              "[[17]]$envios\n",
              "[1] 2630\n",
              "\n",
              "[[17]]$aciertos\n",
              "[1] 186\n",
              "\n",
              "[[17]]$ganancia_test\n",
              "[1] 48100000\n",
              "\n",
              "\n",
              "[[18]]\n",
              "[[18]]$semilla\n",
              "[1] 883517\n",
              "\n",
              "[[18]]$testing\n",
              "[1] 49380\n",
              "\n",
              "[[18]]$testing_pos\n",
              "[1] 379\n",
              "\n",
              "[[18]]$envios\n",
              "[1] 3400\n",
              "\n",
              "[[18]]$aciertos\n",
              "[1] 214\n",
              "\n",
              "[[18]]$ganancia_test\n",
              "[1] 51600000\n",
              "\n",
              "\n",
              "[[19]]\n",
              "[[19]]$semilla\n",
              "[1] 620233\n",
              "\n",
              "[[19]]$testing\n",
              "[1] 49379\n",
              "\n",
              "[[19]]$testing_pos\n",
              "[1] 376\n",
              "\n",
              "[[19]]$envios\n",
              "[1] 4228\n",
              "\n",
              "[[19]]$aciertos\n",
              "[1] 233\n",
              "\n",
              "[[19]]$ganancia_test\n",
              "[1] 50920000\n",
              "\n",
              "\n",
              "[[20]]\n",
              "[[20]]$semilla\n",
              "[1] 251191\n",
              "\n",
              "[[20]]$testing\n",
              "[1] 49381\n",
              "\n",
              "[[20]]$testing_pos\n",
              "[1] 375\n",
              "\n",
              "[[20]]$envios\n",
              "[1] 3557\n",
              "\n",
              "[[20]]$aciertos\n",
              "[1] 203\n",
              "\n",
              "[[20]]$ganancia_test\n",
              "[1] 45630000\n",
              "\n",
              "\n",
              "[[21]]\n",
              "[[21]]$semilla\n",
              "[1] 918733\n",
              "\n",
              "[[21]]$testing\n",
              "[1] 49368\n",
              "\n",
              "[[21]]$testing_pos\n",
              "[1] 374\n",
              "\n",
              "[[21]]$envios\n",
              "[1] 2919\n",
              "\n",
              "[[21]]$aciertos\n",
              "[1] 194\n",
              "\n",
              "[[21]]$ganancia_test\n",
              "[1] 48410000\n",
              "\n",
              "\n",
              "[[22]]\n",
              "[[22]]$semilla\n",
              "[1] 408413\n",
              "\n",
              "[[22]]$testing\n",
              "[1] 49370\n",
              "\n",
              "[[22]]$testing_pos\n",
              "[1] 370\n",
              "\n",
              "[[22]]$envios\n",
              "[1] 3200\n",
              "\n",
              "[[22]]$aciertos\n",
              "[1] 202\n",
              "\n",
              "[[22]]$ganancia_test\n",
              "[1] 48800000\n",
              "\n",
              "\n",
              "[[23]]\n",
              "[[23]]$semilla\n",
              "[1] 627119\n",
              "\n",
              "[[23]]$testing\n",
              "[1] 49378\n",
              "\n",
              "[[23]]$testing_pos\n",
              "[1] 373\n",
              "\n",
              "[[23]]$envios\n",
              "[1] 3873\n",
              "\n",
              "[[23]]$aciertos\n",
              "[1] 216\n",
              "\n",
              "[[23]]$ganancia_test\n",
              "[1] 47670000\n",
              "\n",
              "\n",
              "[[24]]\n",
              "[[24]]$semilla\n",
              "[1] 942437\n",
              "\n",
              "[[24]]$testing\n",
              "[1] 49379\n",
              "\n",
              "[[24]]$testing_pos\n",
              "[1] 373\n",
              "\n",
              "[[24]]$envios\n",
              "[1] 3335\n",
              "\n",
              "[[24]]$aciertos\n",
              "[1] 202\n",
              "\n",
              "[[24]]$ganancia_test\n",
              "[1] 47450000\n",
              "\n",
              "\n",
              "[[25]]\n",
              "[[25]]$semilla\n",
              "[1] 900233\n",
              "\n",
              "[[25]]$testing\n",
              "[1] 49381\n",
              "\n",
              "[[25]]$testing_pos\n",
              "[1] 376\n",
              "\n",
              "[[25]]$envios\n",
              "[1] 3243\n",
              "\n",
              "[[25]]$aciertos\n",
              "[1] 202\n",
              "\n",
              "[[25]]$ganancia_test\n",
              "[1] 48370000\n",
              "\n",
              "\n",
              "[[26]]\n",
              "[[26]]$semilla\n",
              "[1] 305047\n",
              "\n",
              "[[26]]$testing\n",
              "[1] 49375\n",
              "\n",
              "[[26]]$testing_pos\n",
              "[1] 370\n",
              "\n",
              "[[26]]$envios\n",
              "[1] 3125\n",
              "\n",
              "[[26]]$aciertos\n",
              "[1] 199\n",
              "\n",
              "[[26]]$ganancia_test\n",
              "[1] 48350000\n",
              "\n",
              "\n",
              "[[27]]\n",
              "[[27]]$semilla\n",
              "[1] 115981\n",
              "\n",
              "[[27]]$testing\n",
              "[1] 49388\n",
              "\n",
              "[[27]]$testing_pos\n",
              "[1] 375\n",
              "\n",
              "[[27]]$envios\n",
              "[1] 3652\n",
              "\n",
              "[[27]]$aciertos\n",
              "[1] 210\n",
              "\n",
              "[[27]]$ganancia_test\n",
              "[1] 47480000\n",
              "\n",
              "\n",
              "[[28]]\n",
              "[[28]]$semilla\n",
              "[1] 541249\n",
              "\n",
              "[[28]]$testing\n",
              "[1] 49377\n",
              "\n",
              "[[28]]$testing_pos\n",
              "[1] 379\n",
              "\n",
              "[[28]]$envios\n",
              "[1] 2995\n",
              "\n",
              "[[28]]$aciertos\n",
              "[1] 210\n",
              "\n",
              "[[28]]$ganancia_test\n",
              "[1] 54050000\n",
              "\n",
              "\n",
              "[[29]]\n",
              "[[29]]$semilla\n",
              "[1] 623537\n",
              "\n",
              "[[29]]$testing\n",
              "[1] 49379\n",
              "\n",
              "[[29]]$testing_pos\n",
              "[1] 377\n",
              "\n",
              "[[29]]$envios\n",
              "[1] 3457\n",
              "\n",
              "[[29]]$aciertos\n",
              "[1] 201\n",
              "\n",
              "[[29]]$ganancia_test\n",
              "[1] 45830000\n",
              "\n",
              "\n",
              "[[30]]\n",
              "[[30]]$semilla\n",
              "[1] 215461\n",
              "\n",
              "[[30]]$testing\n",
              "[1] 49380\n",
              "\n",
              "[[30]]$testing_pos\n",
              "[1] 378\n",
              "\n",
              "[[30]]$envios\n",
              "[1] 2738\n",
              "\n",
              "[[30]]$aciertos\n",
              "[1] 192\n",
              "\n",
              "[[30]]$ganancia_test\n",
              "[1] 49420000\n",
              "\n",
              "\n",
              "[[31]]\n",
              "[[31]]$semilla\n",
              "[1] 559679\n",
              "\n",
              "[[31]]$testing\n",
              "[1] 49383\n",
              "\n",
              "[[31]]$testing_pos\n",
              "[1] 376\n",
              "\n",
              "[[31]]$envios\n",
              "[1] 3383\n",
              "\n",
              "[[31]]$aciertos\n",
              "[1] 215\n",
              "\n",
              "[[31]]$ganancia_test\n",
              "[1] 52170000\n",
              "\n",
              "\n",
              "[[32]]\n",
              "[[32]]$semilla\n",
              "[1] 213149\n",
              "\n",
              "[[32]]$testing\n",
              "[1] 49388\n",
              "\n",
              "[[32]]$testing_pos\n",
              "[1] 374\n",
              "\n",
              "[[32]]$envios\n",
              "[1] 2866\n",
              "\n",
              "[[32]]$aciertos\n",
              "[1] 189\n",
              "\n",
              "[[32]]$ganancia_test\n",
              "[1] 46940000\n",
              "\n",
              "\n",
              "[[33]]\n",
              "[[33]]$semilla\n",
              "[1] 335089\n",
              "\n",
              "[[33]]$testing\n",
              "[1] 49389\n",
              "\n",
              "[[33]]$testing_pos\n",
              "[1] 377\n",
              "\n",
              "[[33]]$envios\n",
              "[1] 3292\n",
              "\n",
              "[[33]]$aciertos\n",
              "[1] 202\n",
              "\n",
              "[[33]]$ganancia_test\n",
              "[1] 47880000\n",
              "\n",
              "\n",
              "[[34]]\n",
              "[[34]]$semilla\n",
              "[1] 898987\n",
              "\n",
              "[[34]]$testing\n",
              "[1] 49379\n",
              "\n",
              "[[34]]$testing_pos\n",
              "[1] 372\n",
              "\n",
              "[[34]]$envios\n",
              "[1] 3785\n",
              "\n",
              "[[34]]$aciertos\n",
              "[1] 221\n",
              "\n",
              "[[34]]$ganancia_test\n",
              "[1] 50550000\n",
              "\n",
              "\n",
              "[[35]]\n",
              "[[35]]$semilla\n",
              "[1] 204101\n",
              "\n",
              "[[35]]$testing\n",
              "[1] 49381\n",
              "\n",
              "[[35]]$testing_pos\n",
              "[1] 379\n",
              "\n",
              "[[35]]$envios\n",
              "[1] 4165\n",
              "\n",
              "[[35]]$aciertos\n",
              "[1] 228\n",
              "\n",
              "[[35]]$ganancia_test\n",
              "[1] 49550000\n",
              "\n",
              "\n",
              "[[36]]\n",
              "[[36]]$semilla\n",
              "[1] 927863\n",
              "\n",
              "[[36]]$testing\n",
              "[1] 49389\n",
              "\n",
              "[[36]]$testing_pos\n",
              "[1] 372\n",
              "\n",
              "[[36]]$envios\n",
              "[1] 3197\n",
              "\n",
              "[[36]]$aciertos\n",
              "[1] 191\n",
              "\n",
              "[[36]]$ganancia_test\n",
              "[1] 44430000\n",
              "\n",
              "\n",
              "[[37]]\n",
              "[[37]]$semilla\n",
              "[1] 163771\n",
              "\n",
              "[[37]]$testing\n",
              "[1] 49370\n",
              "\n",
              "[[37]]$testing_pos\n",
              "[1] 371\n",
              "\n",
              "[[37]]$envios\n",
              "[1] 3651\n",
              "\n",
              "[[37]]$aciertos\n",
              "[1] 205\n",
              "\n",
              "[[37]]$ganancia_test\n",
              "[1] 45490000\n",
              "\n",
              "\n",
              "[[38]]\n",
              "[[38]]$semilla\n",
              "[1] 135743\n",
              "\n",
              "[[38]]$testing\n",
              "[1] 49375\n",
              "\n",
              "[[38]]$testing_pos\n",
              "[1] 375\n",
              "\n",
              "[[38]]$envios\n",
              "[1] 3516\n",
              "\n",
              "[[38]]$aciertos\n",
              "[1] 203\n",
              "\n",
              "[[38]]$ganancia_test\n",
              "[1] 46040000\n",
              "\n",
              "\n",
              "[[39]]\n",
              "[[39]]$semilla\n",
              "[1] 322009\n",
              "\n",
              "[[39]]$testing\n",
              "[1] 49376\n",
              "\n",
              "[[39]]$testing_pos\n",
              "[1] 371\n",
              "\n",
              "[[39]]$envios\n",
              "[1] 3416\n",
              "\n",
              "[[39]]$aciertos\n",
              "[1] 215\n",
              "\n",
              "[[39]]$ganancia_test\n",
              "[1] 51840000\n",
              "\n",
              "\n",
              "[[40]]\n",
              "[[40]]$semilla\n",
              "[1] 729791\n",
              "\n",
              "[[40]]$testing\n",
              "[1] 49387\n",
              "\n",
              "[[40]]$testing_pos\n",
              "[1] 377\n",
              "\n",
              "[[40]]$envios\n",
              "[1] 3057\n",
              "\n",
              "[[40]]$aciertos\n",
              "[1] 193\n",
              "\n",
              "[[40]]$ganancia_test\n",
              "[1] 46630000\n",
              "\n",
              "\n",
              "[[41]]\n",
              "[[41]]$semilla\n",
              "[1] 380447\n",
              "\n",
              "[[41]]$testing\n",
              "[1] 49389\n",
              "\n",
              "[[41]]$testing_pos\n",
              "[1] 376\n",
              "\n",
              "[[41]]$envios\n",
              "[1] 4128\n",
              "\n",
              "[[41]]$aciertos\n",
              "[1] 225\n",
              "\n",
              "[[41]]$ganancia_test\n",
              "[1] 48720000\n",
              "\n",
              "\n",
              "[[42]]\n",
              "[[42]]$semilla\n",
              "[1] 129499\n",
              "\n",
              "[[42]]$testing\n",
              "[1] 49379\n",
              "\n",
              "[[42]]$testing_pos\n",
              "[1] 377\n",
              "\n",
              "[[42]]$envios\n",
              "[1] 3270\n",
              "\n",
              "[[42]]$aciertos\n",
              "[1] 206\n",
              "\n",
              "[[42]]$ganancia_test\n",
              "[1] 49700000\n",
              "\n",
              "\n",
              "[[43]]\n",
              "[[43]]$semilla\n",
              "[1] 169943\n",
              "\n",
              "[[43]]$testing\n",
              "[1] 49379\n",
              "\n",
              "[[43]]$testing_pos\n",
              "[1] 371\n",
              "\n",
              "[[43]]$envios\n",
              "[1] 2790\n",
              "\n",
              "[[43]]$aciertos\n",
              "[1] 190\n",
              "\n",
              "[[43]]$ganancia_test\n",
              "[1] 48100000\n",
              "\n",
              "\n",
              "[[44]]\n",
              "[[44]]$semilla\n",
              "[1] 108877\n",
              "\n",
              "[[44]]$testing\n",
              "[1] 49379\n",
              "\n",
              "[[44]]$testing_pos\n",
              "[1] 373\n",
              "\n",
              "[[44]]$envios\n",
              "[1] 3481\n",
              "\n",
              "[[44]]$aciertos\n",
              "[1] 203\n",
              "\n",
              "[[44]]$ganancia_test\n",
              "[1] 46390000\n",
              "\n",
              "\n",
              "[[45]]\n",
              "[[45]]$semilla\n",
              "[1] 180211\n",
              "\n",
              "[[45]]$testing\n",
              "[1] 49390\n",
              "\n",
              "[[45]]$testing_pos\n",
              "[1] 378\n",
              "\n",
              "[[45]]$envios\n",
              "[1] 2795\n",
              "\n",
              "[[45]]$aciertos\n",
              "[1] 185\n",
              "\n",
              "[[45]]$ganancia_test\n",
              "[1] 46050000\n",
              "\n",
              "\n",
              "[[46]]\n",
              "[[46]]$semilla\n",
              "[1] 331777\n",
              "\n",
              "[[46]]$testing\n",
              "[1] 49387\n",
              "\n",
              "[[46]]$testing_pos\n",
              "[1] 377\n",
              "\n",
              "[[46]]$envios\n",
              "[1] 3076\n",
              "\n",
              "[[46]]$aciertos\n",
              "[1] 191\n",
              "\n",
              "[[46]]$ganancia_test\n",
              "[1] 45640000\n",
              "\n",
              "\n",
              "[[47]]\n",
              "[[47]]$semilla\n",
              "[1] 576101\n",
              "\n",
              "[[47]]$testing\n",
              "[1] 49391\n",
              "\n",
              "[[47]]$testing_pos\n",
              "[1] 382\n",
              "\n",
              "[[47]]$envios\n",
              "[1] 3824\n",
              "\n",
              "[[47]]$aciertos\n",
              "[1] 219\n",
              "\n",
              "[[47]]$ganancia_test\n",
              "[1] 49360000\n",
              "\n",
              "\n",
              "[[48]]\n",
              "[[48]]$semilla\n",
              "[1] 926503\n",
              "\n",
              "[[48]]$testing\n",
              "[1] 49381\n",
              "\n",
              "[[48]]$testing_pos\n",
              "[1] 374\n",
              "\n",
              "[[48]]$envios\n",
              "[1] 3627\n",
              "\n",
              "[[48]]$aciertos\n",
              "[1] 200\n",
              "\n",
              "[[48]]$ganancia_test\n",
              "[1] 43730000\n",
              "\n",
              "\n",
              "[[49]]\n",
              "[[49]]$semilla\n",
              "[1] 773387\n",
              "\n",
              "[[49]]$testing\n",
              "[1] 49374\n",
              "\n",
              "[[49]]$testing_pos\n",
              "[1] 367\n",
              "\n",
              "[[49]]$envios\n",
              "[1] 3513\n",
              "\n",
              "[[49]]$aciertos\n",
              "[1] 194\n",
              "\n",
              "[[49]]$ganancia_test\n",
              "[1] 42470000\n",
              "\n",
              "\n",
              "[[50]]\n",
              "[[50]]$semilla\n",
              "[1] 189377\n",
              "\n",
              "[[50]]$testing\n",
              "[1] 49386\n",
              "\n",
              "[[50]]$testing_pos\n",
              "[1] 380\n",
              "\n",
              "[[50]]$envios\n",
              "[1] 3033\n",
              "\n",
              "[[50]]$aciertos\n",
              "[1] 204\n",
              "\n",
              "[[50]]$ganancia_test\n",
              "[1] 51270000\n",
              "\n"
            ]
          },
          "metadata": {}
        }
      ]
    },
    {
      "cell_type": "code",
      "source": [
        "# paso la lista a vector\n",
        "tb_salida <- rbindlist(salidas)\n",
        "print( tb_salida)"
      ],
      "metadata": {
        "id": "unGWiKRMGimU",
        "outputId": "b87b12b2-af53-44c5-aa9b-e47d0f4dcdad",
        "colab": {
          "base_uri": "https://localhost:8080/"
        }
      },
      "execution_count": 62,
      "outputs": [
        {
          "output_type": "stream",
          "name": "stdout",
          "text": [
            "    semilla testing testing_pos envios aciertos ganancia_test\n",
            "      <int>   <int>       <int>  <int>    <int>         <num>\n",
            " 1:  139747   49383         375   3587      207      46930000\n",
            " 2:  736657   49378         376   3450      198      44700000\n",
            " 3:  248231   49381         372   3824      215      47760000\n",
            " 4:  565603   49383         376   3601      205      45990000\n",
            " 5:  104729   49386         378   3311      197      45690000\n",
            " 6:  521357   49386         373   3825      216      48150000\n",
            " 7:  325571   49378         377   3696      199      42640000\n",
            " 8:  652189   49379         373   3598      207      46820000\n",
            " 9:  397259   49387         374   3916      212      45640000\n",
            "10:  882877   49378         375   3821      228      52990000\n",
            "11:  475619   49381         373   3451      220      53490000\n",
            "12:  967507   49372         369   2783      199      51770000\n",
            "13:  958967   49377         377   3811      220      49890000\n",
            "14:  526837   49374         375   2905      177      41750000\n",
            "15:  100279   49382         369   3359      203      47610000\n",
            "16:  127747   49377         376   3134      199      48260000\n",
            "17:  917461   49378         375   2630      186      48100000\n",
            "18:  883517   49380         379   3400      214      51600000\n",
            "19:  620233   49379         376   4228      233      50920000\n",
            "20:  251191   49381         375   3557      203      45630000\n",
            "21:  918733   49368         374   2919      194      48410000\n",
            "22:  408413   49370         370   3200      202      48800000\n",
            "23:  627119   49378         373   3873      216      47670000\n",
            "24:  942437   49379         373   3335      202      47450000\n",
            "25:  900233   49381         376   3243      202      48370000\n",
            "26:  305047   49375         370   3125      199      48350000\n",
            "27:  115981   49388         375   3652      210      47480000\n",
            "28:  541249   49377         379   2995      210      54050000\n",
            "29:  623537   49379         377   3457      201      45830000\n",
            "30:  215461   49380         378   2738      192      49420000\n",
            "31:  559679   49383         376   3383      215      52170000\n",
            "32:  213149   49388         374   2866      189      46940000\n",
            "33:  335089   49389         377   3292      202      47880000\n",
            "34:  898987   49379         372   3785      221      50550000\n",
            "35:  204101   49381         379   4165      228      49550000\n",
            "36:  927863   49389         372   3197      191      44430000\n",
            "37:  163771   49370         371   3651      205      45490000\n",
            "38:  135743   49375         375   3516      203      46040000\n",
            "39:  322009   49376         371   3416      215      51840000\n",
            "40:  729791   49387         377   3057      193      46630000\n",
            "41:  380447   49389         376   4128      225      48720000\n",
            "42:  129499   49379         377   3270      206      49700000\n",
            "43:  169943   49379         371   2790      190      48100000\n",
            "44:  108877   49379         373   3481      203      46390000\n",
            "45:  180211   49390         378   2795      185      46050000\n",
            "46:  331777   49387         377   3076      191      45640000\n",
            "47:  576101   49391         382   3824      219      49360000\n",
            "48:  926503   49381         374   3627      200      43730000\n",
            "49:  773387   49374         367   3513      194      42470000\n",
            "50:  189377   49386         380   3033      204      51270000\n",
            "    semilla testing testing_pos envios aciertos ganancia_test\n"
          ]
        }
      ]
    },
    {
      "cell_type": "code",
      "source": [
        "# calulo la salida\n",
        "for( i in seq(10, 50, 10) )\n",
        "{\n",
        "  cat( i, \"\\t\", tb_salida[ 1:i, mean(ganancia_test)], \"\\n\" )\n",
        "}\n"
      ],
      "metadata": {
        "id": "oGoadhBKGimV",
        "outputId": "90099240-6e64-4652-df18-6086c30b7ade",
        "colab": {
          "base_uri": "https://localhost:8080/"
        }
      },
      "execution_count": 63,
      "outputs": [
        {
          "output_type": "stream",
          "name": "stdout",
          "text": [
            "10 \t 46731000 \n",
            "20 \t 47816500 \n",
            "30 \t 48072000 \n",
            "40 \t 48092000 \n",
            "50 \t 47902200 \n"
          ]
        }
      ]
    },
    {
      "cell_type": "markdown",
      "source": [
        "### Acciones a realizar\n",
        "* Reportar la  los resultados en la planilla colaborativa hoja  **C2-nsem**\n",
        "* Se discutirá en clase la variabilidad de las distintas cantidades de semillas"
      ],
      "metadata": {
        "id": "dO9yQKt7GimV"
      }
    },
    {
      "cell_type": "markdown",
      "source": [
        "\n",
        "\n",
        "---\n",
        "\n"
      ],
      "metadata": {
        "id": "ziFKwIlBGimW"
      }
    },
    {
      "cell_type": "markdown",
      "source": [
        "# 5  DiezMil -Monte Carlo Cross Validation\n",
        "## Clase 02  Experimento 5"
      ],
      "metadata": {
        "id": "2jncHe-KJLUg"
      }
    },
    {
      "cell_type": "markdown",
      "source": [
        "Mostrar a los estudiantes el resultado de un experimento en donde se ha corrido una Monte Carlo Cross Validation utilizando diez mil semillas y relacionar la cantidad de semillas con el resultado del Teorema Central del Límite\n",
        "<br>Los resultados se muestran en esta misma guia y se comentan en clase,Bajo ningún concepto se solicitará a l@s estudiantes hacer este experimento en clase ya que lleva varias horas en correr.\n"
      ],
      "metadata": {
        "id": "vUzSGZGOJZq8"
      }
    },
    {
      "cell_type": "markdown",
      "source": [
        "Aqui usted NO debe correr absolutamente nada, el experimento ya fue corrido por la cátedra y le muestra los resultados."
      ],
      "metadata": {
        "id": "G0YGjTMxuTSg"
      }
    },
    {
      "cell_type": "markdown",
      "source": [
        "## 5.1\n",
        "Estos resultados han sido corridos por la cátedra.\n",
        "\n",
        "![Distribucion de las ganancias](https://storage.googleapis.com/open-courses/austral2025-af91/labo1r/C2_E5_distribucion.jpg)"
      ],
      "metadata": {
        "id": "7NRUb3WtJikc"
      }
    },
    {
      "cell_type": "markdown",
      "source": [
        "![salida](https://storage.googleapis.com/open-courses/austral2025-af91/labo1r/C2_E5_salida.jpg)"
      ],
      "metadata": {
        "id": "tZ4X8wdSKc7G"
      }
    },
    {
      "cell_type": "markdown",
      "source": [
        "![tabla](https://storage.googleapis.com/open-courses/austral2025-af91/labo1r/C2_E5_tabla.jpg)\n",
        "\n",
        " 2    ~    1,96  =  3605406.2 / 1836264.3\n",
        "\n",
        "Por el teorema central del límite, un aumento de 4 veces de la cantidad de registros que se promedian el desvio estandar disminuye 2 veces ,  raiz(4 ) = 2"
      ],
      "metadata": {
        "id": "EsL5ukNWKS71"
      }
    },
    {
      "cell_type": "markdown",
      "source": [
        "\n",
        "\n",
        "---\n",
        "\n"
      ],
      "metadata": {
        "id": "OTLq8TC4LR0c"
      }
    },
    {
      "cell_type": "markdown",
      "source": [
        "# 6 Comparando dos distintos  modelos\n",
        "## Clase 02  Experimento 6"
      ],
      "metadata": {
        "id": "sAS1bfL8LmBv"
      }
    },
    {
      "cell_type": "markdown",
      "source": [
        "## 6.1  Objetivos\n",
        "Presentar a los alumnos la dificultad que se presenta ante la comparación de dos modelos, uno posee un poder predictivo claramente mayor al otro.\n",
        "Comparación simple de media de ganancias, versus probabilidad que un modelo sea superior a otro."
      ],
      "metadata": {
        "id": "KzwdMJDZLmB9"
      }
    },
    {
      "cell_type": "markdown",
      "source": [
        "## 6.2 Introduccion\n",
        "Estos son los dos arboles de muy distinta profundidad.\n",
        "<br>¿Cuál de ellos es mejor? ¿Cuál elijo?\n",
        "\n",
        "| Hiperparámetro | Arbol 1 | Arbol 2 |\n",
        "| --- | --: |  ---: |\n",
        "| cp | -1 | -1 |\n",
        "|minsplit | 170 | 250 |\n",
        "|minbucket | 70 | 125 |\n",
        "|maxdepth | 7 | 20 |\n",
        "\n"
      ],
      "metadata": {
        "id": "DDyFNmJ9L_CW"
      }
    },
    {
      "cell_type": "markdown",
      "source": [
        "## 6.3 Codigo dos distintos modelos"
      ],
      "metadata": {
        "id": "bQfwNsVzNrtI"
      }
    },
    {
      "cell_type": "markdown",
      "source": [
        "Esta parte se debe correr con el runtime en lenguaje **R** Ir al menu, Runtime -> Change Runtime Tipe -> Runtime type -> R"
      ],
      "metadata": {
        "id": "Ku7qQgKjNruJ"
      }
    },
    {
      "cell_type": "markdown",
      "source": [
        "El tiempo de corrida es de alrededor de 40 minutos"
      ],
      "metadata": {
        "id": "6jCdS3NMuKei"
      }
    },
    {
      "cell_type": "markdown",
      "source": [
        "limpio el ambiente de R"
      ],
      "metadata": {
        "id": "Z1EUBeHyNruK"
      }
    },
    {
      "cell_type": "code",
      "source": [
        "# limpio la memoria\n",
        "rm(list=ls(all.names=TRUE)) # remove all objects\n",
        "gc(full=TRUE, verbose=FALSE) # garbage collection"
      ],
      "metadata": {
        "id": "GxbC4V3zNruM"
      },
      "execution_count": null,
      "outputs": []
    },
    {
      "cell_type": "markdown",
      "source": [
        "* Instalacion de la libreria  rpart.plot  para dibujar el arbol\n",
        "* invocacion de las librerias  **data.table** y  **rpart**"
      ],
      "metadata": {
        "id": "i2WkSCIhNruQ"
      }
    },
    {
      "cell_type": "code",
      "source": [
        "# cargo las librerias que necesito\n",
        "require(\"data.table\")\n",
        "require(\"rpart\")\n",
        "require(\"parallel\")\n",
        "\n",
        "if (!require(\"primes\")) install.packages(\"primes\")\n",
        "require(\"primes\")\n",
        "\n",
        "require(\"ggplot2\")"
      ],
      "metadata": {
        "id": "3bMsgZJWNruR"
      },
      "execution_count": null,
      "outputs": []
    },
    {
      "cell_type": "markdown",
      "source": [
        "###  Accion a Realizar\n",
        "PARAM$semilla_primigenia  debe reemplazarse por SU primer semilla"
      ],
      "metadata": {
        "id": "t1lTXrKaNruT"
      }
    },
    {
      "cell_type": "code",
      "source": [
        "PARAM <- list()\n",
        "PARAM$semilla_primigenia <- 102191\n",
        "PARAM$qsemillas <- 20\n",
        "PARAM$training_pct <- 70L     # entre 1 y 100\n"
      ],
      "metadata": {
        "id": "QFbPtTCMNruV"
      },
      "execution_count": null,
      "outputs": []
    },
    {
      "cell_type": "code",
      "source": [
        "# los dos arboles\n",
        "PARAM$rpart1 <- list (\n",
        "  \"cp\" = -1,\n",
        "  \"minsplit\" = 170,\n",
        "  \"minbucket\" = 70,\n",
        "  \"maxdepth\" = 7\n",
        ")\n",
        "\n",
        "\n",
        "PARAM$rpart2 <- list (\n",
        "  \"cp\" = -1,\n",
        "  \"minsplit\" = 250,\n",
        "  \"minbucket\" = 125,\n",
        "  \"maxdepth\" = 20\n",
        ")"
      ],
      "metadata": {
        "id": "GiBGk7WKQv2V"
      },
      "execution_count": null,
      "outputs": []
    },
    {
      "cell_type": "code",
      "source": [
        "# particionar agrega una columna llamada fold a un dataset\n",
        "#  que consiste en una particion estratificada segun agrupa\n",
        "\n",
        "# particionar( data=dataset, division=c(70,30),\n",
        "#  agrupa=clase_ternaria, seed=semilla)   crea una particion 70, 30\n",
        "\n",
        "particionar <- function(\n",
        "    data, division, agrupa = \"\",\n",
        "    campo = \"fold\", start = 1, seed = NA) {\n",
        "  if (!is.na(seed)) set.seed(seed)\n",
        "\n",
        "  bloque <- unlist(mapply(function(x, y) {\n",
        "    rep(y, x)\n",
        "  }, division, seq(from = start, length.out = length(division))))\n",
        "\n",
        "  data[, (campo) := sample(rep(bloque, ceiling(.N / length(bloque))))[1:.N],\n",
        "    by = agrupa\n",
        "  ]\n",
        "}\n"
      ],
      "metadata": {
        "id": "2BabfKg7NruX"
      },
      "execution_count": null,
      "outputs": []
    },
    {
      "cell_type": "code",
      "source": [
        "DosArbolesEstimarGanancia <- function(semilla, training_pct, param_rpart1, param_rpart2) {\n",
        "\n",
        "  # fuerzo impresion\n",
        "  print( paste( semilla, Sys.time()) )\n",
        "  flush.console()\n",
        "\n",
        "  # particiono estratificadamente el dataset\n",
        "  particionar(dataset,\n",
        "    division = c(training_pct, 100L -training_pct),\n",
        "    agrupa = \"clase_ternaria\",\n",
        "    seed = semilla # aqui se usa SU semilla\n",
        "  )\n",
        "\n",
        "  # genero el modelo\n",
        "  # predecir clase_ternaria a partir del resto\n",
        "  modelo1 <- rpart(\"clase_ternaria ~ .\",\n",
        "    data = dataset[fold == 1], # fold==1  es training,  el 70% de los datos\n",
        "    xval = 0,\n",
        "    control = param_rpart1\n",
        "  ) # aqui van los parametros del arbol\n",
        "\n",
        "  # aplico el modelo a los datos de testing\n",
        "  prediccion1 <- predict(modelo1, # el modelo que genere recien\n",
        "    dataset[fold == 2], # fold==2  es testing, el 30% de los datos\n",
        "    type = \"prob\"\n",
        "  ) # type= \"prob\"  es que devuelva la probabilidad\n",
        "\n",
        "\n",
        "  # calculo la ganancia en testing  qu es fold==2\n",
        "  ganancia_test1 <- dataset[\n",
        "    fold == 2,\n",
        "    sum(ifelse(prediccion1[, \"BAJA+2\"] > 0.025,\n",
        "      ifelse(clase_ternaria == \"BAJA+2\", 117000, -3000),\n",
        "      0\n",
        "    ))\n",
        "  ]\n",
        "\n",
        "  # escalo la ganancia como si fuera todo el dataset\n",
        "  ganancia_test_normalizada1 <- ganancia_test1 / (( 100 - training_pct ) / 100 )\n",
        "\n",
        "  modelo2 <- rpart(\"clase_ternaria ~ .\",\n",
        "    data = dataset[fold == 1], # fold==1  es training,  el 70% de los datos\n",
        "    xval = 0,\n",
        "    control = param_rpart2\n",
        "  ) # aqui van los parametros del arbol\n",
        "\n",
        "  # aplico el modelo a los datos de testing\n",
        "  prediccion2 <- predict(modelo2, # el modelo que genere recien\n",
        "    dataset[fold == 2], # fold==2  es testing, el 30% de los datos\n",
        "    type = \"prob\"\n",
        "  ) # type= \"prob\"  es que devuelva la probabilidad\n",
        "\n",
        "\n",
        "  # calculo la ganancia en testing  qu es fold==2\n",
        "  ganancia_test2 <- dataset[\n",
        "    fold == 2,\n",
        "    sum(ifelse(prediccion2[, \"BAJA+2\"] > 0.025,\n",
        "      ifelse(clase_ternaria == \"BAJA+2\", 117000, -3000),\n",
        "      0\n",
        "    ))\n",
        "  ]\n",
        "\n",
        "  # escalo la ganancia como si fuera todo el dataset\n",
        "  ganancia_test_normalizada2 <- ganancia_test2 / (( 100 - training_pct ) / 100 )\n",
        "\n",
        "  return(list(\n",
        "    \"semilla\" = semilla,\n",
        "    \"ganancia1\" = ganancia_test_normalizada1,\n",
        "    \"ganancia2\" = ganancia_test_normalizada2\n",
        "  ))\n",
        "}"
      ],
      "metadata": {
        "id": "YrGJgj4UNruZ"
      },
      "execution_count": null,
      "outputs": []
    },
    {
      "cell_type": "code",
      "source": [
        "# carpeta de trabajo\n",
        "setwd(\"/content/buckets/b1/exp\")\n",
        "experimento <- \"exp206\"\n",
        "dir.create(experimento, showWarnings=FALSE)\n",
        "setwd( paste0(\"/content/buckets/b1/exp/\", experimento ))"
      ],
      "metadata": {
        "id": "2C2yjgQVNrud"
      },
      "execution_count": null,
      "outputs": []
    },
    {
      "cell_type": "code",
      "source": [
        "# lectura del dataset\n",
        "dataset <- fread(\"/content/datasets/dataset_pequeno.csv\")\n",
        "\n",
        "# trabajo solo con los datos con clase, es decir 202107\n",
        "dataset <- dataset[clase_ternaria != \"\"]"
      ],
      "metadata": {
        "id": "oQeGcBnPNrug"
      },
      "execution_count": null,
      "outputs": []
    },
    {
      "cell_type": "code",
      "source": [
        "detectCores()"
      ],
      "metadata": {
        "id": "gXKI2eXO9Osx"
      },
      "execution_count": null,
      "outputs": []
    },
    {
      "cell_type": "code",
      "source": [
        "# genero numeros primos\n",
        "primos <- generate_primes(min = 100000, max = 1000000)\n",
        "set.seed(PARAM$semilla_primigenia) # inicializo\n",
        "\n",
        "# me quedo con PARAM$qsemillas   semillas\n",
        "PARAM$semillas <- sample(primos, PARAM$qsemillas )"
      ],
      "metadata": {
        "id": "tU8S7_5ANrui"
      },
      "execution_count": null,
      "outputs": []
    },
    {
      "cell_type": "code",
      "source": [
        "# demora interminables 60 minutos en correr en Google Colab\n",
        "Sys.time()\n",
        "\n",
        "salidas <- mcmapply( DosArbolesEstimarGanancia,\n",
        "  PARAM$semillas, # paso el vector de semillas\n",
        "  MoreArgs = list(PARAM$training_pct, PARAM$rpart1, PARAM$rpart2), # aqui paso el segundo parametro\n",
        "  SIMPLIFY = FALSE,\n",
        "  mc.cores = detectCores()\n",
        ")\n",
        "\n",
        "Sys.time()"
      ],
      "metadata": {
        "id": "mlF66CgxcHF3"
      },
      "execution_count": null,
      "outputs": []
    },
    {
      "cell_type": "code",
      "source": [
        "# paso la lista a vector\n",
        "tb_salida <- rbindlist(salidas)\n",
        "tb_salida"
      ],
      "metadata": {
        "id": "_g-_kccdNrum"
      },
      "execution_count": null,
      "outputs": []
    },
    {
      "cell_type": "code",
      "source": [
        "grafico <- ggplot( tb_salida, aes(x=ganancia1)) + geom_density(alpha=0.25, fill=\"green\", color=\"green\")  +\n",
        "             geom_density(data=tb_salida, aes(x=ganancia2), fill=\"purple\", color=\"purple\",  alpha=0.10)\n",
        "\n",
        "print(grafico)"
      ],
      "metadata": {
        "id": "-O0rg6btNrun"
      },
      "execution_count": null,
      "outputs": []
    },
    {
      "cell_type": "code",
      "source": [
        "# imprimo en un .pdf  que va a la carpeta del experimento\n",
        "pdf(\"densidad_dos.pdf\")\n",
        "print(grafico)\n",
        "dev.off()"
      ],
      "metadata": {
        "id": "uSqrazOyU_LC"
      },
      "execution_count": null,
      "outputs": []
    },
    {
      "cell_type": "code",
      "source": [
        "print( tb_salida[ , list( \"arbol1\" = mean( ganancia1),  \"arbol2\" = mean(ganancia2) ) ] )\n",
        "\n",
        "print( tb_salida[ , list( \"prob( m1 > m2)\" = sum(ganancia1 > ganancia2 )/ .N ) ]  )"
      ],
      "metadata": {
        "id": "LGv0LB_4R7US"
      },
      "execution_count": null,
      "outputs": []
    },
    {
      "cell_type": "markdown",
      "source": [
        "### Acciones a realizar\n",
        "* Reportar la  los resultados en la planilla colaborativa hoja  **C2-dosModelos**\n",
        "* ¿Todos los alumnos hubieran elegido el mismo modelo aun con 20 semillas?"
      ],
      "metadata": {
        "id": "F6lFJf1VTi8b"
      }
    },
    {
      "cell_type": "markdown",
      "source": [
        "\n",
        "\n",
        "---\n",
        "\n"
      ],
      "metadata": {
        "id": "aOpy-XBKTi8n"
      }
    },
    {
      "cell_type": "markdown",
      "source": [
        "# 7 Comparando dos buenos  modelos\n",
        "## Clase 02  Experimento 7"
      ],
      "metadata": {
        "id": "EdzjiJf-dsEK"
      }
    },
    {
      "cell_type": "markdown",
      "source": [
        "## 7.1  Objetivos\n",
        "Presentar a los alumnos la dificultad que surge en la comparación de dos muy distintos, pero ambos buenos, modelos predictivos, y el costo computacional asociado a esa comparación\n",
        "<br>Comparación simple de media de ganancias, versus probabilidad que un modelo sea superior a otro.\n",
        "<br>Limitaciones de la MonteCarlo Cross Validation\n",
        "<br>Existencia del Test de Wilcoxon"
      ],
      "metadata": {
        "id": "FcBjp5XxdsEt"
      }
    },
    {
      "cell_type": "markdown",
      "source": [
        "## 7.2 Introduccion\n",
        "Estos son los dos arboles de muy distinta profundidad.\n",
        "<br>¿Cuál de ellos es mejor? ¿Cuál elijo?\n",
        "\n",
        "| Hiperparámetro | Arbol 1 | Arbol 2 |\n",
        "| --- | --: |  ---: |\n",
        "| cp | -1 | -1 |\n",
        "|minsplit | 170 | 1900 |\n",
        "|minbucket | 70 | 800 |\n",
        "|maxdepth | 7 | 3 |\n",
        "\n"
      ],
      "metadata": {
        "id": "tYcOIcwCdsEu"
      }
    },
    {
      "cell_type": "markdown",
      "source": [
        "## 7.3 Dos buenos modelos"
      ],
      "metadata": {
        "id": "r0NDA7GgdsEu"
      }
    },
    {
      "cell_type": "markdown",
      "source": [
        "Esta parte se debe correr con el runtime en lenguaje **R** Ir al menu, Runtime -> Change Runtime Tipe -> Runtime type -> R"
      ],
      "metadata": {
        "id": "21SJmGd7dsEv"
      }
    },
    {
      "cell_type": "markdown",
      "source": [
        "El tiempo de corrida es de alrededor de 50 minutos"
      ],
      "metadata": {
        "id": "Ne0e08KUt87w"
      }
    },
    {
      "cell_type": "markdown",
      "source": [
        "limpio el ambiente de R"
      ],
      "metadata": {
        "id": "q02SEGNwdsEv"
      }
    },
    {
      "cell_type": "code",
      "source": [
        "# limpio la memoria\n",
        "rm(list=ls(all.names=TRUE)) # remove all objects\n",
        "gc(full=TRUE, verbose=FALSE) # garbage collection"
      ],
      "metadata": {
        "id": "6c2ZJstWdsEw"
      },
      "execution_count": null,
      "outputs": []
    },
    {
      "cell_type": "markdown",
      "source": [
        "* Instalacion de la libreria  rpart.plot  para dibujar el arbol\n",
        "* invocacion de las librerias  **data.table** y  **rpart**"
      ],
      "metadata": {
        "id": "62MIW0r1dsEx"
      }
    },
    {
      "cell_type": "code",
      "source": [
        "# cargo las librerias que necesito\n",
        "require(\"data.table\")\n",
        "require(\"rpart\")\n",
        "require(\"parallel\")\n",
        "\n",
        "if (!require(\"primes\")) install.packages(\"primes\")\n",
        "require(\"primes\")\n",
        "\n",
        "require(\"ggplot2\")"
      ],
      "metadata": {
        "id": "2Ke4n-N8dsEy"
      },
      "execution_count": null,
      "outputs": []
    },
    {
      "cell_type": "markdown",
      "source": [
        "###  Accion a Realizar\n",
        "PARAM$semilla_primigenia  debe reemplazarse por SU primer semilla"
      ],
      "metadata": {
        "id": "UHSoeqi4dsEz"
      }
    },
    {
      "cell_type": "code",
      "source": [
        "PARAM <- list()\n",
        "PARAM$semilla_primigenia <- 102191\n",
        "PARAM$qsemillas <- 50\n",
        "PARAM$training_pct <- 70L     # entre 1 y 100\n"
      ],
      "metadata": {
        "id": "f08_sqfAdsEz"
      },
      "execution_count": null,
      "outputs": []
    },
    {
      "cell_type": "code",
      "source": [
        "# los dos arboles\n",
        "PARAM$rpart1 <- list (\n",
        "  \"cp\" = -1,\n",
        "  \"minsplit\" = 170,\n",
        "  \"minbucket\" = 70,\n",
        "  \"maxdepth\" = 7\n",
        ")\n",
        "\n",
        "\n",
        "PARAM$rpart2 <- list (\n",
        "  \"cp\" = -1,\n",
        "  \"minsplit\" = 1900,\n",
        "  \"minbucket\" = 800,\n",
        "  \"maxdepth\" = 3\n",
        ")\n"
      ],
      "metadata": {
        "id": "L735D9rydsE0"
      },
      "execution_count": null,
      "outputs": []
    },
    {
      "cell_type": "code",
      "source": [
        "# particionar agrega una columna llamada fold a un dataset\n",
        "#  que consiste en una particion estratificada segun agrupa\n",
        "\n",
        "# particionar( data=dataset, division=c(70,30),\n",
        "#  agrupa=clase_ternaria, seed=semilla)   crea una particion 70, 30\n",
        "\n",
        "particionar <- function(\n",
        "    data, division, agrupa = \"\",\n",
        "    campo = \"fold\", start = 1, seed = NA) {\n",
        "  if (!is.na(seed)) set.seed(seed)\n",
        "\n",
        "  bloque <- unlist(mapply(function(x, y) {\n",
        "    rep(y, x)\n",
        "  }, division, seq(from = start, length.out = length(division))))\n",
        "\n",
        "  data[, (campo) := sample(rep(bloque, ceiling(.N / length(bloque))))[1:.N],\n",
        "    by = agrupa\n",
        "  ]\n",
        "}\n"
      ],
      "metadata": {
        "id": "O56epLUGdsE1"
      },
      "execution_count": null,
      "outputs": []
    },
    {
      "cell_type": "code",
      "source": [
        "DosArbolesEstimarGanancia <- function(semilla, training_pct, param_rpart1, param_rpart2) {\n",
        "  # fuerzo impresion\n",
        "  print( paste( semilla, Sys.time()) )\n",
        "  flush.console()\n",
        "\n",
        "  # particiono estratificadamente el dataset\n",
        "  particionar(dataset,\n",
        "    division = c(training_pct, 100L -training_pct),\n",
        "    agrupa = \"clase_ternaria\",\n",
        "    seed = semilla # aqui se usa SU semilla\n",
        "  )\n",
        "\n",
        "  # genero el modelo\n",
        "  # predecir clase_ternaria a partir del resto\n",
        "  modelo1 <- rpart(\"clase_ternaria ~ .\",\n",
        "    data = dataset[fold == 1], # fold==1  es training,  el 70% de los datos\n",
        "    xval = 0,\n",
        "    control = param_rpart1\n",
        "  ) # aqui van los parametros del arbol\n",
        "\n",
        "  # aplico el modelo a los datos de testing\n",
        "  prediccion1 <- predict(modelo1, # el modelo que genere recien\n",
        "    dataset[fold == 2], # fold==2  es testing, el 30% de los datos\n",
        "    type = \"prob\"\n",
        "  ) # type= \"prob\"  es que devuelva la probabilidad\n",
        "\n",
        "\n",
        "  # calculo la ganancia en testing  qu es fold==2\n",
        "  ganancia_test1 <- dataset[\n",
        "    fold == 2,\n",
        "    sum(ifelse(prediccion1[, \"BAJA+2\"] > 0.025,\n",
        "      ifelse(clase_ternaria == \"BAJA+2\", 117000, -3000),\n",
        "      0\n",
        "    ))\n",
        "  ]\n",
        "\n",
        "  # escalo la ganancia como si fuera todo el dataset\n",
        "  ganancia_test_normalizada1 <- ganancia_test1 / (( 100 - training_pct ) / 100 )\n",
        "\n",
        "  modelo2 <- rpart(\"clase_ternaria ~ .\",\n",
        "    data = dataset[fold == 1], # fold==1  es training,  el 70% de los datos\n",
        "    xval = 0,\n",
        "    control = param_rpart2\n",
        "  ) # aqui van los parametros del arbol\n",
        "\n",
        "  # aplico el modelo a los datos de testing\n",
        "  prediccion2 <- predict(modelo2, # el modelo que genere recien\n",
        "    dataset[fold == 2], # fold==2  es testing, el 30% de los datos\n",
        "    type = \"prob\"\n",
        "  ) # type= \"prob\"  es que devuelva la probabilidad\n",
        "\n",
        "\n",
        "  # calculo la ganancia en testing  qu es fold==2\n",
        "  ganancia_test2 <- dataset[\n",
        "    fold == 2,\n",
        "    sum(ifelse(prediccion2[, \"BAJA+2\"] > 0.025,\n",
        "      ifelse(clase_ternaria == \"BAJA+2\", 117000, -3000),\n",
        "      0\n",
        "    ))\n",
        "  ]\n",
        "\n",
        "  # escalo la ganancia como si fuera todo el dataset\n",
        "  ganancia_test_normalizada2 <- ganancia_test2 / (( 100 - training_pct ) / 100 )\n",
        "\n",
        "  return(list(\n",
        "    \"semilla\" = semilla,\n",
        "    \"ganancia1\" = ganancia_test_normalizada1,\n",
        "    \"ganancia2\" = ganancia_test_normalizada2\n",
        "  ))\n",
        "}"
      ],
      "metadata": {
        "id": "Bv_NorLhdsE1"
      },
      "execution_count": null,
      "outputs": []
    },
    {
      "cell_type": "code",
      "source": [
        "# carpeta de trabajo\n",
        "setwd(\"/content/buckets/b1/exp\")\n",
        "experimento <- \"exp206\"\n",
        "dir.create(experimento, showWarnings=FALSE)\n",
        "setwd( paste0(\"/content/buckets/b1/exp/\", experimento ))"
      ],
      "metadata": {
        "id": "N9GarblIdsE3"
      },
      "execution_count": null,
      "outputs": []
    },
    {
      "cell_type": "code",
      "source": [
        "# lectura del dataset\n",
        "dataset <- fread(\"/content/datasets/dataset_pequeno.csv\")\n",
        "\n",
        "# trabajo solo con los datos con clase, es decir 202107\n",
        "dataset <- dataset[clase_ternaria != \"\"]"
      ],
      "metadata": {
        "id": "Z05r3wdTdsE3"
      },
      "execution_count": null,
      "outputs": []
    },
    {
      "cell_type": "code",
      "source": [
        "# genero numeros primos\n",
        "primos <- generate_primes(min = 100000, max = 1000000)\n",
        "set.seed(PARAM$semilla_primigenia) # inicializo\n",
        "\n",
        "# me quedo con PARAM$qsemillas   semillas\n",
        "PARAM$semillas <- sample(primos, PARAM$qsemillas )"
      ],
      "metadata": {
        "id": "m8ODrVrndsE4"
      },
      "execution_count": null,
      "outputs": []
    },
    {
      "cell_type": "code",
      "source": [
        "# la funcion mcmapply  llama a la funcion DosArbolesEstimarGanancia\n",
        "#  tantas veces como valores tenga el vector  PARAM$semillas\n",
        "Sys.time()\n",
        "\n",
        "salidas <- mcmapply( DosArbolesEstimarGanancia,\n",
        "  PARAM$semillas, # paso el vector de semillas\n",
        "  MoreArgs = list(PARAM$training_pct, PARAM$rpart1, PARAM$rpart2), # aqui paso el segundo parametro\n",
        "  SIMPLIFY = FALSE,\n",
        "  mc.cores = detectCores()\n",
        ")\n",
        "\n",
        "Sys.time()"
      ],
      "metadata": {
        "id": "KQBhUXxJdsE5"
      },
      "execution_count": null,
      "outputs": []
    },
    {
      "cell_type": "code",
      "source": [
        "# paso la lista a vector\n",
        "tb_salida <- rbindlist(salidas)\n",
        "tb_salida"
      ],
      "metadata": {
        "id": "N0eS1CFFdsE5"
      },
      "execution_count": null,
      "outputs": []
    },
    {
      "cell_type": "code",
      "source": [
        "grafico <- ggplot( tb_salida, aes(x=ganancia1), fill=\"green\", color=\"green\") + geom_density(alpha=0.25)  +\n",
        "             geom_density(data=tb_salida, aes(x=ganancia2), fill=\"purple\", color=\"purple\",  alpha=0.10)\n",
        "\n",
        "print(grafico)"
      ],
      "metadata": {
        "id": "6vf28ujAdsE6"
      },
      "execution_count": null,
      "outputs": []
    },
    {
      "cell_type": "code",
      "source": [
        "# imprimo en un .pdf  que va a la carpeta del experimento\n",
        "pdf(\"densidad_dos.pdf\")\n",
        "print(grafico)\n",
        "dev.off()"
      ],
      "metadata": {
        "id": "TA9lLa6-dsE6"
      },
      "execution_count": null,
      "outputs": []
    },
    {
      "cell_type": "code",
      "source": [
        "# medias de las ganancias\n",
        "print( tb_salida[ , list( \"arbol1\" = mean( ganancia1),  \"arbol2\" = mean(ganancia2) ) ] )\n"
      ],
      "metadata": {
        "id": "xAOpyZTqdsE7"
      },
      "execution_count": null,
      "outputs": []
    },
    {
      "cell_type": "code",
      "source": [
        "# probabilidad que m1 sea mayor a m2\n",
        "print( tb_salida[ , list( \"prob( m1 > m2)\" = sum(ganancia1 > ganancia2 )/ .N ) ]  )"
      ],
      "metadata": {
        "id": "8rdPIcfzgob7"
      },
      "execution_count": null,
      "outputs": []
    },
    {
      "cell_type": "markdown",
      "source": [
        "### Acciones a realizar\n",
        "* Reportar la  los resultados en la planilla colaborativa hoja  **C2-dosBuenos**\n"
      ],
      "metadata": {
        "id": "nNNJWYRadsE7"
      }
    },
    {
      "cell_type": "markdown",
      "source": [
        "\n",
        "\n",
        "---\n",
        "\n"
      ],
      "metadata": {
        "id": "LTBEq6SEdsE8"
      }
    },
    {
      "cell_type": "markdown",
      "source": [],
      "metadata": {
        "id": "ebcTZX7Sg1Le"
      }
    },
    {
      "cell_type": "markdown",
      "source": [
        "# 8 Test de Wilcoxon\n",
        "## Clase 02  Experimento 8"
      ],
      "metadata": {
        "id": "RAtn4x6Bg1u1"
      }
    },
    {
      "cell_type": "markdown",
      "source": [],
      "metadata": {
        "id": "RWxjnSsVg_ol"
      }
    },
    {
      "cell_type": "markdown",
      "source": [
        "## 8.1  Objetivos\n",
        "\n",
        "¿Como calcular la cantidad mínima de semillas que hacen falta para tener cierta certeza que un modelo es superior a otro?"
      ],
      "metadata": {
        "id": "Gf0LF3ywhAEU"
      }
    },
    {
      "cell_type": "markdown",
      "source": [
        "## 8.2  Introduccion\n",
        "\n",
        "| Hiperparámetro | Arbol 1 | Arbol 2 |\n",
        "| --- | --: |  ---: |\n",
        "| cp | -1 | -1 |\n",
        "|minsplit | 170 | 250 |\n",
        "|minbucket | 70 | 125 |\n",
        "|maxdepth | 7 | 20 |\n",
        "\n",
        "<br>\n",
        "<br>\n",
        "\n",
        "\n",
        "| ordinal | semilla | ganancia1 | ganancia2 | p-value |\n",
        "| --- | --- |  --- |  --- |  --- |\n",
        "| 1 |378821 | 41,470,000 | 37,790,000 | 1.000 |\n",
        "| 2 | 964333  | 48,480,000  | 43,660,000 | 0.500 |\n",
        "| 3 | 187049 | 50,610,000 | 47,840,000 | 0.250 |\n",
        "| 4 | 205151 | 45,580,000 | 44,490,000 | 0.125 |\n",
        "| 5 | 813697 | 52,780,000 | 46,750,000 |  0.063 |\n",
        "| 6 | 344719 | 49,970,000 | 44,300,000 | 0.031 |\n",
        "|7 |127217  |52,810,000 | 42,840,000 |0.016 |\n",
        "| 8 | 464371 | 43,060,000 | 37,300,000 | 0.008 |\n",
        "| 9 | 645137 | 49,660,000 |43,730,000 | 0.004|\n",
        "\n",
        "\n"
      ],
      "metadata": {
        "id": "k4PJGTDViZne"
      }
    },
    {
      "cell_type": "markdown",
      "source": [
        "## 8.3 Codigo Test de Wilcoxon"
      ],
      "metadata": {
        "id": "gAeSRdWRhg61"
      }
    },
    {
      "cell_type": "code",
      "source": [
        "# 1 sola ganancia\n",
        "wilcox.test(\n",
        "  c(41470000),\n",
        "  c(37790000),\n",
        "  paired = TRUE\n",
        ")\n"
      ],
      "metadata": {
        "id": "6r5M0J0HdsE8"
      },
      "execution_count": null,
      "outputs": []
    },
    {
      "cell_type": "code",
      "source": [
        "# 2 ganancias\n",
        "wilcox.test(\n",
        "  c(41470000, 48480000),\n",
        "  c(37790000, 43660000),\n",
        "  paired = TRUE\n",
        ")\n"
      ],
      "metadata": {
        "id": "1pscqL9vLzYE"
      },
      "execution_count": null,
      "outputs": []
    },
    {
      "cell_type": "code",
      "source": [
        "# 3 ganancias\n",
        "wilcox.test(\n",
        "  c(41470000, 48480000, 50610000),\n",
        "  c(37790000, 43660000, 47840000),\n",
        "  paired = TRUE\n",
        ")"
      ],
      "metadata": {
        "id": "p3f_mtKwhSHA"
      },
      "execution_count": null,
      "outputs": []
    },
    {
      "cell_type": "code",
      "source": [
        "# 4 ganancias\n",
        "wilcox.test(\n",
        "  c(41470000, 48480000, 50610000, 45580000),\n",
        "  c(37790000, 43660000, 47840000, 44490000),\n",
        "  paired = TRUE\n",
        ")\n"
      ],
      "metadata": {
        "id": "-ijX69r9hT6Z"
      },
      "execution_count": null,
      "outputs": []
    },
    {
      "cell_type": "code",
      "source": [
        "# 5 ganancias\n",
        "wilcox.test(\n",
        "  c(41470000, 48480000, 50610000, 45580000, 52780000),\n",
        "  c(37790000, 43660000, 47840000, 44490000, 46750000),\n",
        "  paired = TRUE\n",
        ")"
      ],
      "metadata": {
        "id": "X9J_CHGehVfr"
      },
      "execution_count": null,
      "outputs": []
    },
    {
      "cell_type": "code",
      "source": [
        "# 6 ganancias\n",
        "wilcox.test(\n",
        "  c(41470000, 48480000, 50610000, 45580000, 52780000, 49970000),\n",
        "  c(37790000, 43660000, 47840000, 44490000, 46750000, 44300000),\n",
        "  paired = TRUE\n",
        ")"
      ],
      "metadata": {
        "id": "H3CNNonOhXp0"
      },
      "execution_count": null,
      "outputs": []
    },
    {
      "cell_type": "code",
      "source": [
        "# Finalmente el p-value es  0.03125  < 0.05\n",
        "# hicieron falta  SEIS semillas, seis ganancias, para\n",
        "#   afirmar que el modelo 1 es superior al modelo 2\n",
        "\n",
        "# 7 ganancias\n",
        "wilcox.test(\n",
        "  c(41470000, 48480000, 50610000, 45580000, 52780000, 49970000, 52810000),\n",
        "  c(37790000, 43660000, 47840000, 44490000, 46750000, 44300000, 42840000),\n",
        "  paired = TRUE\n",
        ")\n"
      ],
      "metadata": {
        "id": "NTW8kwY8hamz"
      },
      "execution_count": null,
      "outputs": []
    },
    {
      "cell_type": "code",
      "source": [
        "# 8 ganancias\n",
        "wilcox.test(\n",
        "  c(41470000, 48480000, 50610000, 45580000, 52780000, 49970000, 52810000, 43060000),\n",
        "  c(37790000, 43660000, 47840000, 44490000, 46750000, 44300000, 42840000, 37300000),\n",
        "  paired = TRUE\n",
        ")\n"
      ],
      "metadata": {
        "id": "Xks918w8hcgC"
      },
      "execution_count": null,
      "outputs": []
    },
    {
      "cell_type": "code",
      "source": [
        "# 9 ganancias\n",
        "wilcox.test(\n",
        "  c(41470000, 48480000, 50610000, 45580000, 52780000, 49970000, 52810000, 43060000, 49660000),\n",
        "  c(37790000, 43660000, 47840000, 44490000, 46750000, 44300000, 42840000, 37300000, 43730000),\n",
        "  paired = TRUE\n",
        ")"
      ],
      "metadata": {
        "id": "5x8L1PMGhdJR"
      },
      "execution_count": null,
      "outputs": []
    },
    {
      "cell_type": "markdown",
      "source": [
        "\n",
        "\n",
        "---\n",
        "\n"
      ],
      "metadata": {
        "id": "Qjay2WBIkhNm"
      }
    },
    {
      "cell_type": "markdown",
      "source": [
        "# 9 Comparando automaticamente modelos con test de Wilcoxon\n",
        "## Clase 02  Experimento 9"
      ],
      "metadata": {
        "id": "g2aqxlCIk3fk"
      }
    },
    {
      "cell_type": "markdown",
      "source": [],
      "metadata": {
        "id": "FhCY4sH8k3fw"
      }
    },
    {
      "cell_type": "markdown",
      "source": [
        "## 9.1  Objetivos\n",
        "\n",
        "Proveer un script que permita comparar dos arboles de decisión con la librería rpart utilizando la menor cantidad de cómputo que permita el Test de Wilxcoxon"
      ],
      "metadata": {
        "id": "a_ZVBKBHk3fx"
      }
    },
    {
      "cell_type": "markdown",
      "source": [
        "## 9.2  Introduccion\n",
        "\n",
        "| Hiperparámetro | Arbol 1 | Arbol 2 |\n",
        "| --- | --- |  --- |\n",
        "| cp | -1 | -1 |\n",
        "|minsplit | 1050 | 650 |\n",
        "|minbucket | 550 | 300 |\n",
        "|maxdepth |67 | 6 |\n",
        "\n",
        "\n"
      ],
      "metadata": {
        "id": "qCd56L0Ik3fx"
      }
    },
    {
      "cell_type": "markdown",
      "source": [
        "## 9.3 Codigo comparacion automatica Wilcoxon"
      ],
      "metadata": {
        "id": "NBtQsG3vk3fx"
      }
    },
    {
      "cell_type": "markdown",
      "source": [
        "Esta parte se debe correr con el runtime en lenguaje **R** Ir al menu, Runtime -> Change Runtime Tipe -> Runtime type -> R"
      ],
      "metadata": {
        "id": "-ARzDPORlpG6"
      }
    },
    {
      "cell_type": "markdown",
      "source": [
        "limpio el ambiente de R"
      ],
      "metadata": {
        "id": "-Sy-sLMXlpHI"
      }
    },
    {
      "cell_type": "code",
      "source": [
        "# limpio la memoria\n",
        "rm(list=ls(all.names=TRUE)) # remove all objects\n",
        "gc(full=TRUE, verbose=FALSE) # garbage collection"
      ],
      "metadata": {
        "id": "ZpST7lcHlpHI"
      },
      "execution_count": null,
      "outputs": []
    },
    {
      "cell_type": "markdown",
      "source": [
        "* Instalacion de la libreria  rpart.plot  para dibujar el arbol\n",
        "* invocacion de las librerias  **data.table** y  **rpart**"
      ],
      "metadata": {
        "id": "jHhAx3cvlpHJ"
      }
    },
    {
      "cell_type": "code",
      "source": [
        "# cargo las librerias que necesito\n",
        "require(\"data.table\")\n",
        "require(\"rpart\")\n",
        "require(\"parallel\")\n",
        "\n",
        "if (!require(\"primes\")) install.packages(\"primes\")\n",
        "require(\"primes\")\n",
        "\n",
        "require(\"ggplot2\")"
      ],
      "metadata": {
        "id": "cbPnXeeqlpHJ"
      },
      "execution_count": null,
      "outputs": []
    },
    {
      "cell_type": "markdown",
      "source": [
        "###  Accion a Realizar\n",
        "PARAM$semilla_primigenia  debe reemplazarse por SU primer semilla"
      ],
      "metadata": {
        "id": "_GQk_NEUlpHK"
      }
    },
    {
      "cell_type": "code",
      "source": [
        "PARAM <- list()\n",
        "PARAM$semilla_primigenia <- 102191\n",
        "PARAM$qsemillas_tope <- 50\n",
        "PARAM$training_pct <- 70L     # entre 1 y 100\n"
      ],
      "metadata": {
        "id": "Do801PIHlpHK"
      },
      "execution_count": null,
      "outputs": []
    },
    {
      "cell_type": "code",
      "source": [
        "# los dos arboles\n",
        "PARAM$rpart1 <- list (\n",
        "  \"cp\" = -1,\n",
        "  \"minsplit\" = 800,\n",
        "  \"minbucket\" = 400,\n",
        "  \"maxdepth\" = 7\n",
        ")\n",
        "\n",
        "\n",
        "PARAM$rpart2 <- list (\n",
        "  \"cp\" = -1,\n",
        "  \"minsplit\" = 650,\n",
        "  \"minbucket\" = 300,\n",
        "  \"maxdepth\" = 6\n",
        ")\n"
      ],
      "metadata": {
        "id": "KlC7gTc7lpHK"
      },
      "execution_count": null,
      "outputs": []
    },
    {
      "cell_type": "code",
      "source": [
        "# particionar agrega una columna llamada fold a un dataset\n",
        "#  que consiste en una particion estratificada segun agrupa\n",
        "\n",
        "# particionar( data=dataset, division=c(70,30),\n",
        "#  agrupa=clase_ternaria, seed=semilla)   crea una particion 70, 30\n",
        "\n",
        "particionar <- function(\n",
        "    data, division, agrupa = \"\",\n",
        "    campo = \"fold\", start = 1, seed = NA) {\n",
        "  if (!is.na(seed)) set.seed(seed)\n",
        "\n",
        "  bloque <- unlist(mapply(function(x, y) {\n",
        "    rep(y, x)\n",
        "  }, division, seq(from = start, length.out = length(division))))\n",
        "\n",
        "  data[, (campo) := sample(rep(bloque, ceiling(.N / length(bloque))))[1:.N],\n",
        "    by = agrupa\n",
        "  ]\n",
        "}\n"
      ],
      "metadata": {
        "id": "I7hOkZrxlpHL"
      },
      "execution_count": null,
      "outputs": []
    },
    {
      "cell_type": "code",
      "source": [
        "DosArbolesEstimarGanancia <- function(semilla, training_pct, param_rpart1, param_rpart2) {\n",
        "  # particiono estratificadamente el dataset\n",
        "  particionar(dataset,\n",
        "    division = c(training_pct, 100L -training_pct),\n",
        "    agrupa = \"clase_ternaria\",\n",
        "    seed = semilla # aqui se usa SU semilla\n",
        "  )\n",
        "\n",
        "  # genero el modelo\n",
        "  # predecir clase_ternaria a partir del resto\n",
        "  modelo1 <- rpart(\"clase_ternaria ~ .\",\n",
        "    data = dataset[fold == 1], # fold==1  es training,  el 70% de los datos\n",
        "    xval = 0,\n",
        "    control = param_rpart1\n",
        "  ) # aqui van los parametros del arbol\n",
        "\n",
        "  # aplico el modelo a los datos de testing\n",
        "  prediccion1 <- predict(modelo1, # el modelo que genere recien\n",
        "    dataset[fold == 2], # fold==2  es testing, el 30% de los datos\n",
        "    type = \"prob\"\n",
        "  ) # type= \"prob\"  es que devuelva la probabilidad\n",
        "\n",
        "\n",
        "  # calculo la ganancia en testing  qu es fold==2\n",
        "  ganancia_test1 <- dataset[\n",
        "    fold == 2,\n",
        "    sum(ifelse(prediccion1[, \"BAJA+2\"] > 0.025,\n",
        "      ifelse(clase_ternaria == \"BAJA+2\", 117000, -3000),\n",
        "      0\n",
        "    ))\n",
        "  ]\n",
        "\n",
        "  # escalo la ganancia como si fuera todo el dataset\n",
        "  ganancia_test_normalizada1 <- ganancia_test1 / (( 100 - training_pct ) / 100 )\n",
        "\n",
        "  modelo2 <- rpart(\"clase_ternaria ~ .\",\n",
        "    data = dataset[fold == 1], # fold==1  es training,  el 70% de los datos\n",
        "    xval = 0,\n",
        "    control = param_rpart2\n",
        "  ) # aqui van los parametros del arbol\n",
        "\n",
        "  # aplico el modelo a los datos de testing\n",
        "  prediccion2 <- predict(modelo2, # el modelo que genere recien\n",
        "    dataset[fold == 2], # fold==2  es testing, el 30% de los datos\n",
        "    type = \"prob\"\n",
        "  ) # type= \"prob\"  es que devuelva la probabilidad\n",
        "\n",
        "\n",
        "  # calculo la ganancia en testing  qu es fold==2\n",
        "  ganancia_test2 <- dataset[\n",
        "    fold == 2,\n",
        "    sum(ifelse(prediccion2[, \"BAJA+2\"] > 0.025,\n",
        "      ifelse(clase_ternaria == \"BAJA+2\", 117000, -3000),\n",
        "      0\n",
        "    ))\n",
        "  ]\n",
        "\n",
        "  # escalo la ganancia como si fuera todo el dataset\n",
        "  ganancia_test_normalizada2 <- ganancia_test2 / (( 100 - training_pct ) / 100 )\n",
        "\n",
        "  return(list(\n",
        "    \"semilla\" = semilla,\n",
        "    \"ganancia1\" = ganancia_test_normalizada1,\n",
        "    \"ganancia2\" = ganancia_test_normalizada2\n",
        "  ))\n",
        "}"
      ],
      "metadata": {
        "id": "vFpBSFBYlpHL"
      },
      "execution_count": null,
      "outputs": []
    },
    {
      "cell_type": "code",
      "source": [
        "# 1  ->  el modelo 1 es mejor\n",
        "# 2  ->  el modelo 2 es mejor\n",
        "# 0  ->  No se pudo determinar con el tope de qsemillas_tope\n",
        "\n",
        "\n",
        "MejorArbol <- function( qsemillas_tope, training_pct, param_rpart1, param_rpart2) {\n",
        "\n",
        "  # genero numeros primos\n",
        "  primos <- generate_primes(min = 100000, max = 1000000)\n",
        "  set.seed(PARAM$semilla_primigenia) # inicializo\n",
        "  # me quedo con PARAM$qsemillas   semillas\n",
        "  semillas <- sample(primos, qsemillas_tope )\n",
        "\n",
        "  pvalue <- 1.0\n",
        "  isem <- 1\n",
        "  vgan1 <- c() # almaceno ganancias del modelo1\n",
        "  vgan2 <- c() # almaceno ganancias del modelo2\n",
        "\n",
        "  while( (isem <= qsemillas_tope)  & (pvalue > 0.05) ) {\n",
        "\n",
        "    res <- DosArbolesEstimarGanancia(\n",
        "       semillas[ isem ],\n",
        "       training_pct,\n",
        "       param_rpart1,\n",
        "       param_rpart2\n",
        "    )\n",
        "\n",
        "    vgan1 <- c( vgan1, res$ganancia1 )\n",
        "    vgan2 <- c( vgan2, res$ganancia2 )\n",
        "\n",
        "    wt <- wilcox.test( vgan1, vgan2, paired=TRUE )\n",
        "    pvalue <- wt$p.value\n",
        "\n",
        "    cat( isem, res$ganancia1, res$ganancia2, pvalue, \"\\n\" )\n",
        "    flush.console()\n",
        "    isem <- isem + 1\n",
        "  }\n",
        "\n",
        "  out <- 0\n",
        "\n",
        "  if( pvalue < 0.05 & mean(vgan1) > mean(vgan2)  )  out <- 1\n",
        "  if( pvalue < 0.05 & mean(vgan1) < mean(vgan2)  )  out <- 2\n",
        "\n",
        "\n",
        "  return( list( \"out\" = out,\n",
        "    \"qsemillas\" = length(vgan1),\n",
        "    \"m1\" = mean( vgan1 ),\n",
        "    \"m2\" = mean( vgan2 )\n",
        "   ) )\n",
        "}\n"
      ],
      "metadata": {
        "id": "Cp8RnA_NmE8g"
      },
      "execution_count": null,
      "outputs": []
    },
    {
      "cell_type": "code",
      "source": [
        "# carpeta de trabajo\n",
        "setwd(\"/content/buckets/b1/exp\")\n",
        "experimento <- \"exp209\"\n",
        "dir.create(experimento, showWarnings=FALSE)\n",
        "setwd( paste0(\"/content/buckets/b1/exp/\", experimento ))"
      ],
      "metadata": {
        "id": "r1motpfOlpHM"
      },
      "execution_count": null,
      "outputs": []
    },
    {
      "cell_type": "code",
      "source": [
        "# lectura del dataset\n",
        "dataset <- fread(\"/content/datasets/dataset_pequeno.csv\")\n",
        "\n",
        "# trabajo solo con los datos con clase, es decir 202107\n",
        "dataset <- dataset[clase_ternaria != \"\"]"
      ],
      "metadata": {
        "id": "hT0LaKWumTSu"
      },
      "execution_count": null,
      "outputs": []
    },
    {
      "cell_type": "code",
      "source": [
        "Sys.time()\n",
        "\n",
        "comparacion <- MejorArbol(\n",
        "   PARAM$qsemillas_tope,\n",
        "   PARAM$training_pct,\n",
        "   PARAM$rpart1,\n",
        "   PARAM$rpart2\n",
        " )\n",
        "\n",
        "\n",
        "print( comparacion )\n",
        "\n",
        "Sys.time()"
      ],
      "metadata": {
        "id": "wsk0F77ambVW"
      },
      "execution_count": null,
      "outputs": []
    },
    {
      "cell_type": "markdown",
      "source": [
        "### Acciones a realizar\n",
        "* Reportar la  los resultados en la planilla colaborativa hoja  **C2-Wilcox**\n"
      ],
      "metadata": {
        "id": "d2br1bgJlpHQ"
      }
    },
    {
      "cell_type": "markdown",
      "source": [
        "\n",
        "\n",
        "---\n",
        "\n"
      ],
      "metadata": {
        "id": "x7SebtV2lpHQ"
      }
    }
  ]
}